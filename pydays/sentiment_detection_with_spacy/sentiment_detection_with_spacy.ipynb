{
 "cells": [
  {
   "cell_type": "markdown",
   "metadata": {},
   "source": [
    "# Sentiment detection with spaCy"
   ]
  },
  {
   "cell_type": "markdown",
   "metadata": {},
   "source": [
    "## Preparations\n",
    "Various settings:"
   ]
  },
  {
   "cell_type": "code",
   "execution_count": 1,
   "metadata": {
    "collapsed": true
   },
   "outputs": [],
   "source": [
    "tellers_db_path = '/tmp/tellers.db'\n",
    "lexicon_csv_path = '/home/roskakori/workspace/sel_thesis/tellersdwh/lexicon_de.csv'"
   ]
  },
  {
   "cell_type": "markdown",
   "metadata": {},
   "source": [
    "Import various modules we are going to need:"
   ]
  },
  {
   "cell_type": "code",
   "execution_count": 2,
   "metadata": {
    "collapsed": true
   },
   "outputs": [],
   "source": [
    "# Python standard library\n",
    "import re\n",
    "import sqlite3\n",
    "from contextlib import closing\n",
    "\n",
    "# SpaCy\n",
    "import spacy"
   ]
  },
  {
   "cell_type": "markdown",
   "metadata": {},
   "source": [
    "## Read feedbacks from database\n",
    "\n",
    "Connect to the database with feedback texts:"
   ]
  },
  {
   "cell_type": "code",
   "execution_count": 3,
   "metadata": {
    "collapsed": true
   },
   "outputs": [],
   "source": [
    "connection = sqlite3.connect('/tmp/tellers.db')"
   ]
  },
  {
   "cell_type": "markdown",
   "metadata": {},
   "source": [
    "Class to store a feedback and the related question:"
   ]
  },
  {
   "cell_type": "code",
   "execution_count": 4,
   "metadata": {
    "collapsed": true
   },
   "outputs": [],
   "source": [
    "class Feedback():\n",
    "    def __init__(self, question_id: int, question: str, feedback_id: int, feedback: str):\n",
    "        self.question_id = question_id\n",
    "        self.question = question\n",
    "        self.feedback_id = feedback_id\n",
    "        self.feedback = feedback"
   ]
  },
  {
   "cell_type": "markdown",
   "metadata": {},
   "source": [
    "Read the feedback documents, where each feedback can consist of multiple sentences:"
   ]
  },
  {
   "cell_type": "code",
   "execution_count": 5,
   "metadata": {},
   "outputs": [
    {
     "name": "stdout",
     "output_type": "stream",
     "text": [
      "found 298 feedback documents\n"
     ]
    }
   ],
   "source": [
    "select_feedback_sql = \"\"\"\n",
    "    select\n",
    "        que.question_id,\n",
    "        que.text,\n",
    "        fdb.feedback_id,\n",
    "        fdb.text\n",
    "    from\n",
    "        feedback as fdb\n",
    "        join source as src on\n",
    "            src.source_id = fdb.source_id\n",
    "        join question as que on\n",
    "            que.question_id = fdb.question_id\n",
    "    where 1 = 1\n",
    "        and fdb.feedback_time >= '2017-10-01'\n",
    "        and src.name = 'tellers'\n",
    "\"\"\"\n",
    "\n",
    "with closing(connection.cursor()) as cursor:\n",
    "    feedbacks = [\n",
    "        Feedback(question_id, question,feedback_id, feedback)\n",
    "        for question_id, question, feedback_id, feedback in cursor.execute(select_feedback_sql)\n",
    "    ]\n",
    "print('found {} feedback documents'.format(len(feedbacks)))    "
   ]
  },
  {
   "cell_type": "markdown",
   "metadata": {},
   "source": [
    "## Cleanup texts for further processing\n",
    "Replace certain abbrevisations that would confuse spaCy when detection sentence borders:"
   ]
  },
  {
   "cell_type": "code",
   "execution_count": 6,
   "metadata": {
    "collapsed": true
   },
   "outputs": [],
   "source": [
    "ABBREVIATOION_TO_EXPANDED_MAP = {\n",
    "    'ca': 'circa',\n",
    "    'ev': 'eventuell',\n",
    "    'max': 'maximal',\n",
    "    'vlt': 'vielleicht',\n",
    "}\n",
    "\n",
    "for feedback in feedbacks:\n",
    "    for abbreviation, expanded in ABBREVIATOION_TO_EXPANDED_MAP.items():\n",
    "        # TODO: Use compiled regex.\n",
    "        feedback.feedback = re.sub(\n",
    "            r'\\W' + abbreviation + r'\\.', \n",
    "            expanded + ' ',\n",
    "            feedback.feedback)"
   ]
  },
  {
   "cell_type": "markdown",
   "metadata": {},
   "source": [
    "Build a map of emojis (both western and eastern) to a distinct text form:"
   ]
  },
  {
   "cell_type": "code",
   "execution_count": 7,
   "metadata": {
    "collapsed": true
   },
   "outputs": [],
   "source": [
    "_EMOJI_PREFIX = 'emoji__'\n",
    "_EMOJI_TO_NAME_MAP = {\n",
    "    # Western\n",
    "    ':)': 'slight_smile',\n",
    "    ':-)': 'slight_smile',\n",
    "    '=)': 'slight_smile',\n",
    "    ':(': 'slight_frown',\n",
    "    ':-(': 'slight_frown',\n",
    "    ':D': 'smile',\n",
    "    ':-D': 'smile',\n",
    "    ':P': 'stuck_out_tongue',\n",
    "    ':-P': 'stuck_out_tongue',\n",
    "    ';)': 'wink',\n",
    "    ';-)': 'wink',\n",
    "    # Eastern\n",
    "    '^^': 'slight_smile',\n",
    "    '^_^': 'slight_smile',\n",
    "}\n",
    "_EMOJI_TO_TEXT_MAP = {\n",
    "    emoji: ' ' + _EMOJI_PREFIX + name + ' '\n",
    "    for emoji, name in _EMOJI_TO_NAME_MAP.items()\n",
    "}"
   ]
  },
  {
   "cell_type": "markdown",
   "metadata": {},
   "source": [
    "Replace emojis by text:"
   ]
  },
  {
   "cell_type": "code",
   "execution_count": 8,
   "metadata": {
    "collapsed": true
   },
   "outputs": [],
   "source": [
    "for feedback in feedbacks:\n",
    "    for emoji, emoji_text in _EMOJI_TO_TEXT_MAP.items():\n",
    "        feedback.feedback = feedback.feedback.replace(emoji, emoji_text)"
   ]
  },
  {
   "cell_type": "markdown",
   "metadata": {},
   "source": [
    "## Split into sentences\n",
    "Definde a class to hold a single opinion:"
   ]
  },
  {
   "cell_type": "code",
   "execution_count": 9,
   "metadata": {
    "collapsed": true
   },
   "outputs": [],
   "source": [
    "class Opinion():\n",
    "    def __init__(self, feedback_id, sentence_nr, text):\n",
    "        self.feedback_id = feedback_id\n",
    "        self.sentence_nr = sentence_nr\n",
    "        self.text = text\n",
    "        self.topic = None\n",
    "        self.rating = None"
   ]
  },
  {
   "cell_type": "markdown",
   "metadata": {},
   "source": [
    "Split the feedbacks into sentences and assign the sentence to an opinion:"
   ]
  },
  {
   "cell_type": "code",
   "execution_count": 10,
   "metadata": {
    "collapsed": true
   },
   "outputs": [],
   "source": [
    "nlp = spacy.load('de')"
   ]
  },
  {
   "cell_type": "code",
   "execution_count": 11,
   "metadata": {},
   "outputs": [
    {
     "name": "stdout",
     "output_type": "stream",
     "text": [
      "found 481 opinions\n"
     ]
    }
   ],
   "source": [
    "opinions = []\n",
    "for feedback in feedbacks:\n",
    "    document = nlp(feedback.feedback)\n",
    "    sentence_nr = 1\n",
    "    for sentence in document.sents:\n",
    "        opinion = Opinion(feedback.feedback_id, sentence_nr, sentence)\n",
    "        opinions.append(opinion)\n",
    "        sentence_nr += 1\n",
    "print('found', len(opinions), 'opinions')"
   ]
  },
  {
   "cell_type": "markdown",
   "metadata": {},
   "source": [
    "Now we need a lexicon to match the lemmas."
   ]
  }
 ],
 "metadata": {
  "kernelspec": {
   "display_name": "Python 3",
   "language": "python",
   "name": "python3"
  },
  "language_info": {
   "codemirror_mode": {
    "name": "ipython",
    "version": 3
   },
   "file_extension": ".py",
   "mimetype": "text/x-python",
   "name": "python",
   "nbconvert_exporter": "python",
   "pygments_lexer": "ipython3",
   "version": "3.6.4"
  }
 },
 "nbformat": 4,
 "nbformat_minor": 2
}
