{
 "cells": [
  {
   "cell_type": "markdown",
   "metadata": {
    "slideshow": {
     "slide_type": "slide"
    }
   },
   "source": [
    "# Python for testers -\n",
    "# Functions"
   ]
  },
  {
   "cell_type": "markdown",
   "metadata": {
    "slideshow": {
     "slide_type": "slide"
    }
   },
   "source": [
    "# Basics"
   ]
  },
  {
   "cell_type": "markdown",
   "metadata": {
    "slideshow": {
     "slide_type": "subslide"
    }
   },
   "source": [
    "## Functions"
   ]
  },
  {
   "cell_type": "markdown",
   "metadata": {},
   "source": [
    "* ...collect one or more statements under a specified name\n",
    "* ...can have arguments the caller can specify\n",
    "* ...can return a result\n",
    "* ...facilitate \"separation of concerns\" and \"code reuse\""
   ]
  },
  {
   "cell_type": "markdown",
   "metadata": {
    "slideshow": {
     "slide_type": "subslide"
    }
   },
   "source": [
    "## Arguments"
   ]
  },
  {
   "cell_type": "markdown",
   "metadata": {},
   "source": [
    "Function with a single required argument:"
   ]
  },
  {
   "cell_type": "code",
   "execution_count": 3,
   "metadata": {
    "collapsed": true
   },
   "outputs": [],
   "source": [
    "def greeting(name):\n",
    "    pass"
   ]
  },
  {
   "cell_type": "markdown",
   "metadata": {},
   "source": [
    "Function with two required parameters:"
   ]
  },
  {
   "cell_type": "code",
   "execution_count": 4,
   "metadata": {
    "collapsed": true
   },
   "outputs": [],
   "source": [
    "def greeting(name, language):\n",
    "    pass"
   ]
  },
  {
   "cell_type": "markdown",
   "metadata": {},
   "source": [
    "A function with no arguments:"
   ]
  },
  {
   "cell_type": "code",
   "execution_count": 5,
   "metadata": {
    "collapsed": true
   },
   "outputs": [],
   "source": [
    "def do_nothing():\n",
    "    pass"
   ]
  },
  {
   "cell_type": "markdown",
   "metadata": {
    "slideshow": {
     "slide_type": "subslide"
    }
   },
   "source": [
    "## Default argument values"
   ]
  },
  {
   "cell_type": "markdown",
   "metadata": {},
   "source": [
    "Function with an optional argument that, if not specified, uses a default value:"
   ]
  },
  {
   "cell_type": "code",
   "execution_count": 6,
   "metadata": {
    "collapsed": true
   },
   "outputs": [],
   "source": [
    "def greeting(name, language='en'):\n",
    "    pass\n",
    "\n",
    "greeting('Günther', 'de')\n",
    "greeting('Alice')  # uses default language 'en'"
   ]
  },
  {
   "cell_type": "markdown",
   "metadata": {
    "slideshow": {
     "slide_type": "subslide"
    }
   },
   "source": [
    "## Positional and keyword arguments"
   ]
  },
  {
   "cell_type": "markdown",
   "metadata": {},
   "source": [
    "Positional arguments are specified in the order of declaration:"
   ]
  },
  {
   "cell_type": "code",
   "execution_count": 7,
   "metadata": {
    "collapsed": true
   },
   "outputs": [],
   "source": [
    "def greet(name, language='en', medium='screen'):\n",
    "    pass\n",
    "\n",
    "greet('Günther', 'de', 'mail')"
   ]
  },
  {
   "cell_type": "markdown",
   "metadata": {},
   "source": [
    "Keyword arguments can be specified in any order:"
   ]
  },
  {
   "cell_type": "code",
   "execution_count": 8,
   "metadata": {
    "collapsed": true
   },
   "outputs": [],
   "source": [
    "greet(language='de', medium='mail', name='Günther')"
   ]
  },
  {
   "cell_type": "markdown",
   "metadata": {},
   "source": [
    "Positional and keyword arguments can be mixed to selectively overwrite defaults:"
   ]
  },
  {
   "cell_type": "code",
   "execution_count": 9,
   "metadata": {
    "collapsed": false
   },
   "outputs": [],
   "source": [
    "# Use default language but a specific medium.\n",
    "greet('Günther', medium='mail')"
   ]
  },
  {
   "cell_type": "markdown",
   "metadata": {
    "slideshow": {
     "slide_type": "subslide"
    }
   },
   "source": [
    "## Argument lists"
   ]
  },
  {
   "cell_type": "markdown",
   "metadata": {},
   "source": [
    "Arguments where the name starts with `*` indicate an argument list. There can be only one argument list and it is typically the last argument:"
   ]
  },
  {
   "cell_type": "code",
   "execution_count": 12,
   "metadata": {
    "collapsed": false
   },
   "outputs": [
    {
     "name": "stdout",
     "output_type": "stream",
     "text": [
      "Hello Alice!\n",
      "Hello Bob!\n",
      "Hello Bärbel!\n",
      "Hello John!\n"
     ]
    }
   ],
   "source": [
    "def greet_all(greeting, *names):\n",
    "    for name in names:\n",
    "        print(greeting, name + '!')\n",
    "\n",
    "greet_all('Hello', 'Alice', 'Bob', 'Bärbel', 'John')"
   ]
  },
  {
   "cell_type": "markdown",
   "metadata": {},
   "source": [
    "Practical application: if one of the early parameters is a mini language that allows to specify arbitrary further arguments, e.g. `format()`."
   ]
  },
  {
   "cell_type": "markdown",
   "metadata": {
    "slideshow": {
     "slide_type": "subslide"
    }
   },
   "source": [
    "## Additional keyword arguments"
   ]
  },
  {
   "cell_type": "code",
   "execution_count": 17,
   "metadata": {
    "collapsed": false
   },
   "outputs": [
    {
     "name": "stdout",
     "output_type": "stream",
     "text": [
      "2016-02-16T05:08:13.958405 INFO: Hello world! \n",
      "2016-02-16T05:08:13.958604 INFO: Here we go Alice \n",
      "2016-02-16T05:08:13.958770 ERROR: Cannot write tax data to /tmp/tax.txt \n"
     ]
    }
   ],
   "source": [
    "import datetime\n",
    "\n",
    "def log(message, level='INFO', **keywords):\n",
    "    time_text = datetime.datetime.now().isoformat()\n",
    "    message_to_log = time_text + ' ' + level + ': '\n",
    "    for word in message.split():\n",
    "        if word.startswith('$'):\n",
    "            key = word[1:]\n",
    "            message_to_log += keywords[key]\n",
    "        else:\n",
    "            message_to_log += word\n",
    "        message_to_log += ' '\n",
    "    print(message_to_log)\n",
    "\n",
    "log('Hello world!')\n",
    "log('Here we go $name', name='Alice')\n",
    "log('Cannot write $item to $path', level='ERROR', item='tax data', path='/tmp/tax.txt')"
   ]
  },
  {
   "cell_type": "markdown",
   "metadata": {
    "slideshow": {
     "slide_type": "subslide"
    }
   },
   "source": [
    "## Additional keyword arguments (continued)"
   ]
  },
  {
   "cell_type": "markdown",
   "metadata": {},
   "source": [
    "* The last argument can be of the form `**keywords`.\n",
    "* This specifies that any keyword arguments that could not be mapped to an argument yet ends up in a dictionary named `keyword`.\n",
    "* Few valid applications, again, mostly with mini languages.\n",
    "* Caller has no way to determine which key have a meaning in `**keywords`.\n",
    "* `**keywords` is often written as `**kwargs`."
   ]
  },
  {
   "cell_type": "markdown",
   "metadata": {
    "slideshow": {
     "slide_type": "subslide"
    }
   },
   "source": [
    "## Return values"
   ]
  },
  {
   "cell_type": "code",
   "execution_count": 19,
   "metadata": {
    "collapsed": false
   },
   "outputs": [
    {
     "name": "stdout",
     "output_type": "stream",
     "text": [
      "6\n",
      "5.4\n"
     ]
    }
   ],
   "source": [
    "def twice(x):\n",
    "    return 2 * x\n",
    "\n",
    "print(twice(3))\n",
    "print(twice(2.7))"
   ]
  },
  {
   "cell_type": "markdown",
   "metadata": {
    "slideshow": {
     "slide_type": "subslide"
    }
   },
   "source": [
    "## Multiple return values"
   ]
  },
  {
   "cell_type": "markdown",
   "metadata": {},
   "source": [
    "Functions can return multiple values which simple return a tuple:"
   ]
  },
  {
   "cell_type": "code",
   "execution_count": 22,
   "metadata": {
    "collapsed": false
   },
   "outputs": [
    {
     "name": "stdout",
     "output_type": "stream",
     "text": [
      "('some', '.txt')\n",
      "('other', '')\n"
     ]
    }
   ],
   "source": [
    "def name_and_suffix(full_name):\n",
    "    dot_index = full_name.find('.')\n",
    "    if dot_index == -1:\n",
    "        name = full_name\n",
    "        suffix = ''\n",
    "    else:\n",
    "        name = full_name[:dot_index]\n",
    "        suffix = full_name[dot_index:]\n",
    "    return name, suffix\n",
    "\n",
    "print(name_and_suffix('some.txt'))\n",
    "print(name_and_suffix('other'))"
   ]
  },
  {
   "cell_type": "markdown",
   "metadata": {
    "slideshow": {
     "slide_type": "subslide"
    }
   },
   "source": [
    "## Multiple return values (continued)"
   ]
  },
  {
   "cell_type": "markdown",
   "metadata": {},
   "source": [
    "The caller can unpack multiple return values:"
   ]
  },
  {
   "cell_type": "code",
   "execution_count": 23,
   "metadata": {
    "collapsed": false
   },
   "outputs": [
    {
     "name": "stdout",
     "output_type": "stream",
     "text": [
      "flower\n",
      ".png\n"
     ]
    }
   ],
   "source": [
    "name, suffix = name_and_suffix('flower.png')\n",
    "print(name)\n",
    "print(suffix)"
   ]
  },
  {
   "cell_type": "markdown",
   "metadata": {
    "slideshow": {
     "slide_type": "slide"
    }
   },
   "source": [
    "# Intermission: Command query separation"
   ]
  },
  {
   "cell_type": "markdown",
   "metadata": {
    "slideshow": {
     "slide_type": "subslide"
    }
   },
   "source": [
    "## Commands and queries"
   ]
  },
  {
   "cell_type": "markdown",
   "metadata": {},
   "source": [
    "* In Python, functions can both return a value and change a state.\n",
    "* Command-query separation (from Eiffel):\n",
    "  * Function return a value but do not change any state (\"pure functions\"). Calling the function with the same parameters several times always returns the same result.\n",
    "  * Procedures change state but do not return a value.\n",
    "* Avoids unexpeced side effects, follows the \"princinple of least surprise\".\n",
    "* Functions are allowed to perform transient state changes without outside effects, e.g. adding an item to an internal cache.\n",
    "* Special case: iterators change state by advancing to the next item, but they are intended to be traversed only once, so no surprises here."
   ]
  },
  {
   "cell_type": "markdown",
   "metadata": {
    "slideshow": {
     "slide_type": "subslide"
    }
   },
   "source": [
    "## Example query and command"
   ]
  },
  {
   "cell_type": "code",
   "execution_count": 10,
   "metadata": {
    "collapsed": false
   },
   "outputs": [
    {
     "name": "stdout",
     "output_type": "stream",
     "text": [
      "['Alice', 'Bob', 'Bärbel', 'Günther']\n",
      "['Bob', 'Alice', 'Günther', 'Bärbel']\n"
     ]
    }
   ],
   "source": [
    "names = ['Bob', 'Alice', 'Günther', 'Bärbel']\n",
    "\n",
    "print(sorted(names))  # Print a sorted copy of names.\n",
    "print(names)          # Print the still unsorted names."
   ]
  },
  {
   "cell_type": "code",
   "execution_count": 11,
   "metadata": {
    "collapsed": false
   },
   "outputs": [
    {
     "name": "stdout",
     "output_type": "stream",
     "text": [
      "['Alice', 'Bob', 'Bärbel', 'Günther']\n"
     ]
    }
   ],
   "source": [
    "names.sort()  # Sort names by rearranging the original.\n",
    "print(names)  # Print the now sorted names."
   ]
  },
  {
   "cell_type": "markdown",
   "metadata": {},
   "source": [
    "Example for mixed query and command: `file.read(1)`\n",
    "* Reads one character and advances the position in the file.\n",
    "* Returns the character just read."
   ]
  },
  {
   "cell_type": "markdown",
   "metadata": {
    "slideshow": {
     "slide_type": "slide"
    }
   },
   "source": [
    "# Generator functions"
   ]
  },
  {
   "cell_type": "markdown",
   "metadata": {},
   "source": [
    "* ...return a sequence one value at a time.\n",
    "* ...can be called once from `for` loops until they are exhausted.\n",
    "* ...are related to to generator expressions comparable to how function returing a list is related to list comprehension\n",
    "* ...use `yield` instead of `return`."
   ]
  },
  {
   "cell_type": "markdown",
   "metadata": {
    "slideshow": {
     "slide_type": "subslide"
    }
   },
   "source": [
    "## Generator function example"
   ]
  },
  {
   "cell_type": "code",
   "execution_count": 30,
   "metadata": {
    "collapsed": false
   },
   "outputs": [
    {
     "name": "stdout",
     "output_type": "stream",
     "text": [
      "zero\n",
      "boring\n",
      "even\n",
      "lucky\n",
      "boring\n"
     ]
    }
   ],
   "source": [
    "def number_remarks(numbers):\n",
    "    for number in numbers:\n",
    "        if number == 0:\n",
    "            yield 'zero'\n",
    "        elif number == 7:\n",
    "            yield 'lucky'\n",
    "        elif number % 2 == 0:\n",
    "            yield 'even'\n",
    "        elif number < 0:\n",
    "            yield 'negative'\n",
    "        else:\n",
    "            yield 'boring'\n",
    "\n",
    "for remark in number_remarks([0, 1, 2, 7, 3]):\n",
    "    print(remark)"
   ]
  },
  {
   "cell_type": "markdown",
   "metadata": {
    "slideshow": {
     "slide_type": "slide"
    }
   },
   "source": [
    "# Summary"
   ]
  },
  {
   "cell_type": "markdown",
   "metadata": {},
   "source": [
    "* Functions in Python are very flexible.\n",
    "* Multiple return values possible.\n",
    "* Arguments can take defaults.\n",
    "* Arguments can be positional and keyword.\n",
    "* Argument lists such as `*names` have certain uses.\n",
    "* Additional keyword arguments such as `**keywords` habe very specific uses.\n",
    "* Generator functions are similar to generator expressions and can save memory and improve performance."
   ]
  }
 ],
 "metadata": {
  "celltoolbar": "Slideshow",
  "kernelspec": {
   "display_name": "Python 3",
   "language": "python",
   "name": "python3"
  },
  "language_info": {
   "codemirror_mode": {
    "name": "ipython",
    "version": 3
   },
   "file_extension": ".py",
   "mimetype": "text/x-python",
   "name": "python",
   "nbconvert_exporter": "python",
   "pygments_lexer": "ipython3",
   "version": "3.5.1"
  }
 },
 "nbformat": 4,
 "nbformat_minor": 0
}
