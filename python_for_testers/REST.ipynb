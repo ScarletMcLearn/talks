{
 "cells": [
  {
   "cell_type": "markdown",
   "metadata": {
    "slideshow": {
     "slide_type": "slide"
    }
   },
   "source": [
    "# Python for testers - REST"
   ]
  },
  {
   "cell_type": "markdown",
   "metadata": {
    "slideshow": {
     "slide_type": "slide"
    }
   },
   "source": [
    "# What is REST?"
   ]
  },
  {
   "cell_type": "markdown",
   "metadata": {
    "slideshow": {
     "slide_type": "fragment"
    }
   },
   "source": [
    "* \"representational state transfer\"\n",
    "* a software architectural style\n",
    "* intended to simplify maintenance and yield high performace\n",
    "* set of principles on how to use web standards\n",
    "* typical application:\n",
    "  * expose application functionality as readable URLs\n",
    "  * use HTTP GET and POST to send queries\n",
    "  * use JSON to exchange data\n",
    "* see also: http://www.infoq.com/articles/rest-introduction"
   ]
  },
  {
   "cell_type": "markdown",
   "metadata": {
    "slideshow": {
     "slide_type": "subslide"
    }
   },
   "source": [
    "## JSON in Python"
   ]
  },
  {
   "cell_type": "markdown",
   "metadata": {},
   "source": [
    "* \"JavaScript object notation\"\n",
    "* human-readable text\n",
    "* to exchange data objects\n",
    "* attribute–value pairs\n",
    "* available types: numbers, strings, boolean, array (list), object (dictionary), null (`None`)"
   ]
  },
  {
   "cell_type": "markdown",
   "metadata": {
    "slideshow": {
     "slide_type": "subslide"
    }
   },
   "source": [
    "## Convert Python to JSON"
   ]
  },
  {
   "cell_type": "code",
   "execution_count": 1,
   "metadata": {
    "collapsed": false
   },
   "outputs": [
    {
     "data": {
      "text/plain": [
       "'[{\"name\": \"G\\\\u00fcnter\", \"salary\": 42000, \"data_of_birth\": \"1976-07-02\"}, {\"name\": \"Alice\", \"date_of_birth\": null, \"salary\": 47123.45}]'"
      ]
     },
     "execution_count": 1,
     "metadata": {},
     "output_type": "execute_result"
    }
   ],
   "source": [
    "import json\n",
    "persons = [\n",
    "    {\n",
    "        'name': 'Günter',\n",
    "        'salary': 42000,\n",
    "        'data_of_birth': '1976-07-02'\n",
    "    },\n",
    "    {\n",
    "        'name': 'Alice',\n",
    "        'salary': 47123.45,\n",
    "        'date_of_birth': None\n",
    "    },\n",
    "]\n",
    "json.dumps(persons)"
   ]
  },
  {
   "cell_type": "markdown",
   "metadata": {
    "slideshow": {
     "slide_type": "subslide"
    }
   },
   "source": [
    "## Convert JSON to Python "
   ]
  },
  {
   "cell_type": "code",
   "execution_count": 2,
   "metadata": {
    "collapsed": false
   },
   "outputs": [
    {
     "data": {
      "text/plain": [
       "[{'data_of_birth': '1976-07-02', 'name': 'Günter', 'salary': 42000},\n",
       " {'date_of_birth': None, 'name': 'Alice', 'salary': 47123.45}]"
      ]
     },
     "execution_count": 2,
     "metadata": {},
     "output_type": "execute_result"
    }
   ],
   "source": [
    "json.loads(\"\"\"\n",
    "[\n",
    "    {\"data_of_birth\": \"1976-07-02\", \"name\": \"G\\\\u00fcnter\", \"salary\": 42000},\n",
    "    {\"date_of_birth\": null, \"name\": \"Alice\", \"salary\": 47123.45}\n",
    "]\n",
    "\"\"\")"
   ]
  },
  {
   "cell_type": "markdown",
   "metadata": {
    "slideshow": {
     "slide_type": "subslide"
    }
   },
   "source": [
    "## Convert JSON to Python with Decimal"
   ]
  },
  {
   "cell_type": "markdown",
   "metadata": {},
   "source": [
    "By default, fractional numbers are converted to `float`. To use `Decimal` instead, specify `parse_float=Decimal`:"
   ]
  },
  {
   "cell_type": "code",
   "execution_count": 3,
   "metadata": {
    "collapsed": false
   },
   "outputs": [
    {
     "data": {
      "text/plain": [
       "[{'data_of_birth': '1976-07-02', 'name': 'Günter', 'salary': 42000},\n",
       " {'date_of_birth': None, 'name': 'Alice', 'salary': Decimal('47123.45')}]"
      ]
     },
     "execution_count": 3,
     "metadata": {},
     "output_type": "execute_result"
    }
   ],
   "source": [
    "from decimal import Decimal\n",
    "json.loads(\"\"\"\n",
    "[\n",
    "    {\"data_of_birth\": \"1976-07-02\", \"name\": \"G\\\\u00fcnter\", \"salary\": 42000},\n",
    "    {\"date_of_birth\": null, \"name\": \"Alice\", \"salary\": 47123.45}\n",
    "]\n",
    "\"\"\", parse_float=Decimal)"
   ]
  },
  {
   "cell_type": "markdown",
   "metadata": {},
   "source": [
    "Note that `int` values like 42000 remain `int`."
   ]
  },
  {
   "cell_type": "markdown",
   "metadata": {
    "slideshow": {
     "slide_type": "subslide"
    }
   },
   "source": [
    "# HTTP in Python"
   ]
  },
  {
   "cell_type": "markdown",
   "metadata": {},
   "source": [
    "* The standard library provides modules for low level HTTP, in particular:\n",
    "  * [urllib](https://docs.python.org/3/library/urllib.html).\n",
    "  * [http](https://docs.python.org/3/library/http.htm)\n",
    "* For high level client communication, use the external [requests](http://requests.readthedocs.org/) package."
   ]
  },
  {
   "cell_type": "markdown",
   "metadata": {
    "slideshow": {
     "slide_type": "slide"
    }
   },
   "source": [
    "# Example: Github issues"
   ]
  },
  {
   "cell_type": "markdown",
   "metadata": {
    "slideshow": {
     "slide_type": "subslide"
    }
   },
   "source": [
    "## Github issues"
   ]
  },
  {
   "cell_type": "markdown",
   "metadata": {},
   "source": [
    "* Issue tracker for open source projects\n",
    "* User view: https://github.com/roskakori/cutplace/issues\n",
    "* API view: https://api.github.com/repos/roskakori/cutplace/issues?state=closed\n",
    "* Returns a JSON result:\n",
    "```\n",
    "[\n",
    "  {\n",
    "    \"url\": \"https://api.github.com/repos/roskakori/cutplace/issues/112\",\n",
    "    \"repository_url\": \"https://api.github.com/repos/roskakori/cutplace\",\n",
    "    \"labels_url\": \"https://api.github.com/repos/roskakori/cutplace/issues/112/labels{/name}\",\n",
    "    \"id\": 131714536,\n",
    "    \"number\": 112,\n",
    "    \"title\": \"Opening a data file in UTF-16 with rows containing the € symbol ...\",\n",
    "...\n",
    "```"
   ]
  },
  {
   "cell_type": "markdown",
   "metadata": {
    "slideshow": {
     "slide_type": "subslide"
    }
   },
   "source": [
    "## Send query"
   ]
  },
  {
   "cell_type": "markdown",
   "metadata": {},
   "source": [
    "Send https://api.github.com/repos/roskakori/cutplace/issues?state=closed:"
   ]
  },
  {
   "cell_type": "code",
   "execution_count": 4,
   "metadata": {
    "collapsed": false
   },
   "outputs": [
    {
     "data": {
      "text/plain": [
       "200"
      ]
     },
     "execution_count": 4,
     "metadata": {},
     "output_type": "execute_result"
    }
   ],
   "source": [
    "import requests\n",
    "payload = {'state': 'closed'}\n",
    "response = requests.get(\n",
    "    'https://api.github.com/repos/roskakori/cutplace/issues',\n",
    "    data=payload\n",
    ")\n",
    "response.status_code"
   ]
  },
  {
   "cell_type": "markdown",
   "metadata": {
    "slideshow": {
     "slide_type": "subslide"
    }
   },
   "source": [
    "## HTTP status code"
   ]
  },
  {
   "cell_type": "markdown",
   "metadata": {},
   "source": [
    "* 1xx - informational\n",
    "* 2xx - success\n",
    "* 3xx - redirection\n",
    "* 4xx - client error\n",
    "* 5xx - server error\n",
    "* For detailed code, see https://en.wikipedia.org/wiki/List_of_HTTP_status_codes"
   ]
  },
  {
   "cell_type": "markdown",
   "metadata": {
    "slideshow": {
     "slide_type": "subslide"
    }
   },
   "source": [
    "## Access query data"
   ]
  },
  {
   "cell_type": "code",
   "execution_count": 5,
   "metadata": {
    "collapsed": false
   },
   "outputs": [
    {
     "data": {
      "text/plain": [
       "'[{\"url\":\"https://api.github.com/repos/roskakori/cutplace/issues/111\",\"repository_url\":\"https://api.g'"
      ]
     },
     "execution_count": 5,
     "metadata": {},
     "output_type": "execute_result"
    }
   ],
   "source": [
    "response.text[:100]"
   ]
  },
  {
   "cell_type": "code",
   "execution_count": 6,
   "metadata": {
    "collapsed": false
   },
   "outputs": [
    {
     "data": {
      "text/plain": [
       "{'assignee': {'avatar_url': 'https://avatars.githubusercontent.com/u/328726?v=3',\n",
       "  'events_url': 'https://api.github.com/users/roskakori/events{/privacy}',\n",
       "  'followers_url': 'https://api.github.com/users/roskakori/followers',\n",
       "  'following_url': 'https://api.github.com/users/roskakori/following{/other_user}',\n",
       "  'gists_url': 'https://api.github.com/users/roskakori/gists{/gist_id}',\n",
       "  'gravatar_id': '',\n",
       "  'html_url': 'https://github.com/roskakori',\n",
       "  'id': 328726,\n",
       "  'login': 'roskakori',\n",
       "  'organizations_url': 'https://api.github.com/users/roskakori/orgs',\n",
       "  'received_events_url': 'https://api.github.com/users/roskakori/received_events',\n",
       "  'repos_url': 'https://api.github.com/users/roskakori/repos',\n",
       "  'site_admin': False,\n",
       "  'starred_url': 'https://api.github.com/users/roskakori/starred{/owner}{/repo}',\n",
       "  'subscriptions_url': 'https://api.github.com/users/roskakori/subscriptions',\n",
       "  'type': 'User',\n",
       "  'url': 'https://api.github.com/users/roskakori'},\n",
       " 'body': 'The joy. The thrill. The action.',\n",
       " 'closed_at': None,\n",
       " 'comments': 0,\n",
       " 'comments_url': 'https://api.github.com/repos/roskakori/cutplace/issues/111/comments',\n",
       " 'created_at': '2015-11-16T06:11:21Z',\n",
       " 'events_url': 'https://api.github.com/repos/roskakori/cutplace/issues/111/events',\n",
       " 'html_url': 'https://github.com/roskakori/cutplace/issues/111',\n",
       " 'id': 117058089,\n",
       " 'labels': [{'color': '5319e7',\n",
       "   'name': 'cleanup',\n",
       "   'url': 'https://api.github.com/repos/roskakori/cutplace/labels/cleanup'}],\n",
       " 'labels_url': 'https://api.github.com/repos/roskakori/cutplace/issues/111/labels{/name}',\n",
       " 'locked': False,\n",
       " 'milestone': {'closed_at': None,\n",
       "  'closed_issues': 0,\n",
       "  'created_at': '2015-11-16T05:55:08Z',\n",
       "  'creator': {'avatar_url': 'https://avatars.githubusercontent.com/u/328726?v=3',\n",
       "   'events_url': 'https://api.github.com/users/roskakori/events{/privacy}',\n",
       "   'followers_url': 'https://api.github.com/users/roskakori/followers',\n",
       "   'following_url': 'https://api.github.com/users/roskakori/following{/other_user}',\n",
       "   'gists_url': 'https://api.github.com/users/roskakori/gists{/gist_id}',\n",
       "   'gravatar_id': '',\n",
       "   'html_url': 'https://github.com/roskakori',\n",
       "   'id': 328726,\n",
       "   'login': 'roskakori',\n",
       "   'organizations_url': 'https://api.github.com/users/roskakori/orgs',\n",
       "   'received_events_url': 'https://api.github.com/users/roskakori/received_events',\n",
       "   'repos_url': 'https://api.github.com/users/roskakori/repos',\n",
       "   'site_admin': False,\n",
       "   'starred_url': 'https://api.github.com/users/roskakori/starred{/owner}{/repo}',\n",
       "   'subscriptions_url': 'https://api.github.com/users/roskakori/subscriptions',\n",
       "   'type': 'User',\n",
       "   'url': 'https://api.github.com/users/roskakori'},\n",
       "  'description': '',\n",
       "  'due_on': None,\n",
       "  'html_url': 'https://github.com/roskakori/cutplace/milestones/0.8.9',\n",
       "  'id': 1412922,\n",
       "  'labels_url': 'https://api.github.com/repos/roskakori/cutplace/milestones/37/labels',\n",
       "  'number': 37,\n",
       "  'open_issues': 3,\n",
       "  'state': 'open',\n",
       "  'title': '0.8.9',\n",
       "  'updated_at': '2015-11-16T06:11:21Z',\n",
       "  'url': 'https://api.github.com/repos/roskakori/cutplace/milestones/37'},\n",
       " 'number': 111,\n",
       " 'repository_url': 'https://api.github.com/repos/roskakori/cutplace',\n",
       " 'state': 'open',\n",
       " 'title': 'Migrate travis build from legacy to container-based infrastructure',\n",
       " 'updated_at': '2015-11-16T06:11:21Z',\n",
       " 'url': 'https://api.github.com/repos/roskakori/cutplace/issues/111',\n",
       " 'user': {'avatar_url': 'https://avatars.githubusercontent.com/u/328726?v=3',\n",
       "  'events_url': 'https://api.github.com/users/roskakori/events{/privacy}',\n",
       "  'followers_url': 'https://api.github.com/users/roskakori/followers',\n",
       "  'following_url': 'https://api.github.com/users/roskakori/following{/other_user}',\n",
       "  'gists_url': 'https://api.github.com/users/roskakori/gists{/gist_id}',\n",
       "  'gravatar_id': '',\n",
       "  'html_url': 'https://github.com/roskakori',\n",
       "  'id': 328726,\n",
       "  'login': 'roskakori',\n",
       "  'organizations_url': 'https://api.github.com/users/roskakori/orgs',\n",
       "  'received_events_url': 'https://api.github.com/users/roskakori/received_events',\n",
       "  'repos_url': 'https://api.github.com/users/roskakori/repos',\n",
       "  'site_admin': False,\n",
       "  'starred_url': 'https://api.github.com/users/roskakori/starred{/owner}{/repo}',\n",
       "  'subscriptions_url': 'https://api.github.com/users/roskakori/subscriptions',\n",
       "  'type': 'User',\n",
       "  'url': 'https://api.github.com/users/roskakori'}}"
      ]
     },
     "execution_count": 6,
     "metadata": {},
     "output_type": "execute_result"
    }
   ],
   "source": [
    "issues = response.json(parse_float=Decimal)\n",
    "\n",
    "most_recent_issue = issues[0]\n",
    "most_recent_issue"
   ]
  },
  {
   "cell_type": "markdown",
   "metadata": {
    "slideshow": {
     "slide_type": "subslide"
    }
   },
   "source": [
    "## Access JSON details"
   ]
  },
  {
   "cell_type": "code",
   "execution_count": 7,
   "metadata": {
    "collapsed": false
   },
   "outputs": [
    {
     "data": {
      "text/plain": [
       "'Migrate travis build from legacy to container-based infrastructure'"
      ]
     },
     "execution_count": 7,
     "metadata": {},
     "output_type": "execute_result"
    }
   ],
   "source": [
    "most_recent_issue['title']"
   ]
  },
  {
   "cell_type": "code",
   "execution_count": 8,
   "metadata": {
    "collapsed": false
   },
   "outputs": [
    {
     "data": {
      "text/plain": [
       "'roskakori'"
      ]
     },
     "execution_count": 8,
     "metadata": {},
     "output_type": "execute_result"
    }
   ],
   "source": [
    "most_recent_issue['assignee']['login']"
   ]
  },
  {
   "cell_type": "markdown",
   "metadata": {
    "slideshow": {
     "slide_type": "subslide"
    }
   },
   "source": [
    "## More requests features"
   ]
  },
  {
   "cell_type": "markdown",
   "metadata": {},
   "source": [
    "* Cookies\n",
    "* Proxies\n",
    "* Customn athentication\n",
    "* Streaming uploads\n",
    "* ..."
   ]
  },
  {
   "cell_type": "markdown",
   "metadata": {
    "slideshow": {
     "slide_type": "slide"
    }
   },
   "source": [
    "# Summary"
   ]
  },
  {
   "cell_type": "markdown",
   "metadata": {},
   "source": [
    "* REST is easy in Python.\n",
    "* Use `query = requests.get(..., data={...}` to send queries.\n",
    "* Check for success on `query.status_code`.\n",
    "* Access content using `query.json()`.\n",
    "* Avoid floating point issues by specifying `parse_float=Decimal`."
   ]
  }
 ],
 "metadata": {
  "celltoolbar": "Slideshow",
  "kernelspec": {
   "display_name": "Python 3",
   "language": "python",
   "name": "python3"
  },
  "language_info": {
   "codemirror_mode": {
    "name": "ipython",
    "version": 3
   },
   "file_extension": ".py",
   "mimetype": "text/x-python",
   "name": "python",
   "nbconvert_exporter": "python",
   "pygments_lexer": "ipython3",
   "version": "3.5.1"
  }
 },
 "nbformat": 4,
 "nbformat_minor": 0
}
