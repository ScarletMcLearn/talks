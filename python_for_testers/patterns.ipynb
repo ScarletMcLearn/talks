{
 "cells": [
  {
   "cell_type": "markdown",
   "metadata": {
    "slideshow": {
     "slide_type": "slide"
    }
   },
   "source": [
    "# Python for testers -    \n",
    "# Patterns"
   ]
  },
  {
   "cell_type": "markdown",
   "metadata": {
    "slideshow": {
     "slide_type": "slide"
    }
   },
   "source": [
    "# Shell patterns"
   ]
  },
  {
   "cell_type": "markdown",
   "metadata": {
    "slideshow": {
     "slide_type": "subslide"
    }
   },
   "source": [
    "## Shell pattern matching"
   ]
  },
  {
   "cell_type": "markdown",
   "metadata": {},
   "source": [
    "* Can use place holders:\n",
    "  * `'*'` = any or none characters\n",
    "  * `'?'` = exactly 1 character\n",
    "  * `'[amz]'` = 'a', 'm' or 'z'\n",
    "  * `'[a-z]'` = any single character between 'a' and 'z' (inclusive)\n",
    "* module `fnmatch` to match specific strings\n",
    "* module `glob` to match filenames in a folder"
   ]
  },
  {
   "cell_type": "markdown",
   "metadata": {
    "slideshow": {
     "slide_type": "subslide"
    }
   },
   "source": [
    "## Shell pattern examples"
   ]
  },
  {
   "cell_type": "code",
   "execution_count": 146,
   "metadata": {
    "collapsed": false
   },
   "outputs": [
    {
     "data": {
      "text/plain": [
       "True"
      ]
     },
     "execution_count": 146,
     "metadata": {},
     "output_type": "execute_result"
    }
   ],
   "source": [
    "from fnmatch import fnmatch\n",
    "fnmatch('some.sh', '*.sh')    # * = any or none characters"
   ]
  },
  {
   "cell_type": "code",
   "execution_count": 147,
   "metadata": {
    "collapsed": false
   },
   "outputs": [
    {
     "data": {
      "text/plain": [
       "True"
      ]
     },
     "execution_count": 147,
     "metadata": {},
     "output_type": "execute_result"
    }
   ],
   "source": [
    "fnmatch('data123.csv', 'data???.csv')  # ? = exactly 1 character"
   ]
  },
  {
   "cell_type": "code",
   "execution_count": 148,
   "metadata": {
    "collapsed": false
   },
   "outputs": [
    {
     "data": {
      "text/plain": [
       "True"
      ]
     },
     "execution_count": 148,
     "metadata": {},
     "output_type": "execute_result"
    }
   ],
   "source": [
    "fnmatch('data123.csv', 'data[0-9][0-9][0-9].csv')  # [0-9] = 1 digit"
   ]
  },
  {
   "cell_type": "markdown",
   "metadata": {
    "slideshow": {
     "slide_type": "subslide"
    }
   },
   "source": [
    "## Shell pattern case sensitivity"
   ]
  },
  {
   "cell_type": "markdown",
   "metadata": {},
   "source": [
    "Case sensitivity depends on platform"
   ]
  },
  {
   "cell_type": "code",
   "execution_count": 151,
   "metadata": {
    "collapsed": false
   },
   "outputs": [
    {
     "data": {
      "text/plain": [
       "False"
      ]
     },
     "execution_count": 151,
     "metadata": {},
     "output_type": "execute_result"
    }
   ],
   "source": [
    "fnmatch('some.sh', '*.SH')  # False under Linux, True under Windows"
   ]
  },
  {
   "cell_type": "markdown",
   "metadata": {
    "slideshow": {
     "slide_type": "slide"
    }
   },
   "source": [
    "# Regular expressions"
   ]
  },
  {
   "cell_type": "markdown",
   "metadata": {
    "slideshow": {
     "slide_type": "subslide"
    }
   },
   "source": [
    "> Some people, when confronted with a problem,\n",
    "\n",
    "> think \"I know, I'll use regular expressions.\"\n",
    "\n",
    "> Now they have two problems.\n",
    "\n",
    "Jamie Zawinski"
   ]
  },
  {
   "cell_type": "markdown",
   "metadata": {
    "slideshow": {
     "slide_type": "subslide"
    }
   },
   "source": [
    "## About regular expressions"
   ]
  },
  {
   "cell_type": "markdown",
   "metadata": {},
   "source": [
    "* Yes, Python can do regular expressions!\n",
    "* Useful for simple parsing and pattern matching.\n",
    "* Difficult to understand and maintain.\n"
   ]
  },
  {
   "cell_type": "markdown",
   "metadata": {
    "slideshow": {
     "slide_type": "subslide"
    }
   },
   "source": [
    "## Pattern matching"
   ]
  },
  {
   "cell_type": "code",
   "execution_count": 158,
   "metadata": {
    "collapsed": false
   },
   "outputs": [
    {
     "name": "stdout",
     "output_type": "stream",
     "text": [
      "it's a shell script!\n"
     ]
    }
   ],
   "source": [
    "import re\n",
    "if re.match(r'.+\\.sh', 'some.sh'):  # similar to fnmatch.fnmatch('some.sh', '*.sh')  \n",
    "    print(\"it's a shell script!\")"
   ]
  },
  {
   "cell_type": "code",
   "execution_count": 156,
   "metadata": {
    "collapsed": false
   },
   "outputs": [
    {
     "name": "stdout",
     "output_type": "stream",
     "text": [
      "None\n"
     ]
    }
   ],
   "source": [
    "print(re.match(r'.+\\.sh', 'data.xml'))  # no match"
   ]
  },
  {
   "cell_type": "markdown",
   "metadata": {
    "slideshow": {
     "slide_type": "subslide"
    }
   },
   "source": [
    "## Compiled regular expressions"
   ]
  },
  {
   "cell_type": "code",
   "execution_count": 161,
   "metadata": {
    "collapsed": false
   },
   "outputs": [
    {
     "name": "stdout",
     "output_type": "stream",
     "text": [
      "it's a shell script\n"
     ]
    }
   ],
   "source": [
    "sh_regex = re.compile(r'.+\\.sh')\n",
    "if sh_regex.match('some.sh'):  # faster than re.match()\n",
    "    print(\"it's a shell script\")"
   ]
  },
  {
   "cell_type": "markdown",
   "metadata": {},
   "source": [
    "* Compile once, match often\n",
    "* Faster when matching in loops\n",
    "* Easier to read because regex gets a variable name"
   ]
  },
  {
   "cell_type": "markdown",
   "metadata": {
    "slideshow": {
     "slide_type": "subslide"
    }
   },
   "source": [
    "## Place holders (excerpt)\n",
    "\n",
    "* `.` = any single character\n",
    "* `.+` = at least one character\n",
    "* `.*` = any number of characters, including none\n",
    "* `\\.` = a single dot (literally)\n",
    "* `^` = start of line\n",
    "* `$` = end of line\n",
    "* `\\s` = white space\n",
    "* `[a-z]` = any lower case letter\n",
    "* `[^a-z]` = anything but a lower case letter\n",
    "* `(abc|xy)` = 'abc' or 'xy'\n",
    "* more: https://docs.python.org/3/library/re.html#regular-expression-syntax"
   ]
  },
  {
   "cell_type": "markdown",
   "metadata": {
    "slideshow": {
     "slide_type": "subslide"
    }
   },
   "source": [
    "## Extracting parts from a string"
   ]
  },
  {
   "cell_type": "markdown",
   "metadata": {},
   "source": [
    "Use the `(?P<groupname>pattern)` notation to extract a text matching `pattern` to a group named `groupname`:"
   ]
  },
  {
   "cell_type": "code",
   "execution_count": 188,
   "metadata": {
    "collapsed": true
   },
   "outputs": [],
   "source": [
    "item_value_regex = re.compile(r'My (?P<item>\\w+) is (?P<value>.+)\\.')\n",
    "item_value_match = item_value_regex.match('My name is Alice.')"
   ]
  },
  {
   "cell_type": "markdown",
   "metadata": {},
   "source": [
    "Once you found a match, you can access the groups in it using the `group()` function:"
   ]
  },
  {
   "cell_type": "code",
   "execution_count": 189,
   "metadata": {
    "collapsed": false
   },
   "outputs": [
    {
     "data": {
      "text/plain": [
       "'name'"
      ]
     },
     "execution_count": 189,
     "metadata": {},
     "output_type": "execute_result"
    }
   ],
   "source": [
    "item_value_match.group('item')"
   ]
  },
  {
   "cell_type": "code",
   "execution_count": 163,
   "metadata": {
    "collapsed": false
   },
   "outputs": [
    {
     "data": {
      "text/plain": [
       "'Alice'"
      ]
     },
     "execution_count": 163,
     "metadata": {},
     "output_type": "execute_result"
    }
   ],
   "source": [
    "item_value_match.group('value')"
   ]
  },
  {
   "cell_type": "markdown",
   "metadata": {
    "slideshow": {
     "slide_type": "slide"
    }
   },
   "source": [
    "# Lexing"
   ]
  },
  {
   "cell_type": "markdown",
   "metadata": {
    "slideshow": {
     "slide_type": "subslide"
    }
   },
   "source": [
    "## Pygments lexers"
   ]
  },
  {
   "cell_type": "markdown",
   "metadata": {},
   "source": [
    "* Lexers read a structured text (e.g. source code) convert it to a stream of token (e.g. keyword, number, string, comment etc).\n",
    "* The [pygments](http://pygments.org/) library provides many lexers for programming languages and configuration file formats.\n",
    "* It also has a general [RegexLexer](http://pygments.org/docs/lexerdevelopment/#regexlexer) that provides a sound base to develop you own lexers quickly."
   ]
  },
  {
   "cell_type": "markdown",
   "metadata": {
    "slideshow": {
     "slide_type": "subslide"
    }
   },
   "source": [
    "## SQL lexer example"
   ]
  },
  {
   "cell_type": "code",
   "execution_count": 181,
   "metadata": {
    "collapsed": false
   },
   "outputs": [
    {
     "name": "stdout",
     "output_type": "stream",
     "text": [
      "Token.Keyword               - select\n",
      "Token.Text                  -  \n",
      "Token.Operator              - *\n",
      "Token.Text                  -  \n",
      "Token.Keyword               - from\n",
      "Token.Text                  -  \n",
      "Token.Name                  - customer\n",
      "Token.Text                  -  \n",
      "Token.Keyword               - where\n",
      "Token.Text                  -  \n",
      "Token.Name                  - date_of_birth\n",
      "Token.Text                  -  \n",
      "Token.Operator              - >\n",
      "Token.Operator              - =\n",
      "Token.Text                  -  \n",
      "Token.Literal.String.Single - '1980-01-01'\n",
      "Token.Text                  - \n",
      "\n"
     ]
    }
   ],
   "source": [
    "from pygments import lexers\n",
    "\n",
    "sql_code = \"select * from customer where date_of_birth >= '1980-01-01'\"\n",
    "sql_lexer = lexers.get_lexer_by_name('sql')\n",
    "for token_type, token_value in sql_lexer.get_tokens(sql_code):\n",
    "    print('%-27s - %s' % (token_type, token_value))"
   ]
  },
  {
   "cell_type": "markdown",
   "metadata": {
    "slideshow": {
     "slide_type": "subslide"
    }
   },
   "source": [
    "# Regex lexer for C++ comments"
   ]
  },
  {
   "cell_type": "code",
   "execution_count": 190,
   "metadata": {
    "collapsed": true
   },
   "outputs": [],
   "source": [
    "from pygments.lexer import RegexLexer\n",
    "from pygments.token import *\n",
    "\n",
    "class CppCommentLexer(RegexLexer):\n",
    "    name = 'Example Lexer with states'\n",
    "\n",
    "    tokens = {\n",
    "        'root': [\n",
    "            (r'[^/]+', Text),\n",
    "            (r'/\\*', Comment.Multiline, 'comment'),\n",
    "            (r'//.*?$', Comment.Singleline),\n",
    "            (r'/', Text)\n",
    "        ],\n",
    "        'comment': [\n",
    "            (r'[^*/]', Comment.Multiline),\n",
    "            (r'/\\*', Comment.Multiline, '#push'),\n",
    "            (r'\\*/', Comment.Multiline, '#pop'),\n",
    "            (r'[*/]', Comment.Multiline)\n",
    "        ]\n",
    "    }"
   ]
  },
  {
   "cell_type": "markdown",
   "metadata": {},
   "source": [
    "Source: http://pygments.org/docs/lexerdevelopment/"
   ]
  }
 ],
 "metadata": {
  "celltoolbar": "Slideshow",
  "kernelspec": {
   "display_name": "Python 3",
   "language": "python",
   "name": "python3"
  },
  "language_info": {
   "codemirror_mode": {
    "name": "ipython",
    "version": 3
   },
   "file_extension": ".py",
   "mimetype": "text/x-python",
   "name": "python",
   "nbconvert_exporter": "python",
   "pygments_lexer": "ipython3",
   "version": "3.5.1"
  }
 },
 "nbformat": 4,
 "nbformat_minor": 0
}
