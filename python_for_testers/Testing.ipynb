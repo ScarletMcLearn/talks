{
 "cells": [
  {
   "cell_type": "markdown",
   "metadata": {
    "slideshow": {
     "slide_type": "slide"
    }
   },
   "source": [
    "# Testing"
   ]
  },
  {
   "cell_type": "markdown",
   "metadata": {
    "slideshow": {
     "slide_type": "slide"
    }
   },
   "source": [
    "# What is testing?"
   ]
  },
  {
   "cell_type": "markdown",
   "metadata": {
    "slideshow": {
     "slide_type": "fragment"
    }
   },
   "source": [
    "* TODO"
   ]
  },
  {
   "cell_type": "markdown",
   "metadata": {
    "slideshow": {
     "slide_type": "slide"
    }
   },
   "source": [
    "# The `unittest` module "
   ]
  },
  {
   "cell_type": "markdown",
   "metadata": {},
   "source": [
    "* xUnit similar to jUnit\n",
    "* each test case is a class inherting from `unittest.TestCase`\n",
    "* test runner executes all `test_xxx` method\n",
    "* test methods can `assertXXX()` conditions\n",
    "* test results can be printed, stored as XML etc."
   ]
  },
  {
   "cell_type": "markdown",
   "metadata": {
    "slideshow": {
     "slide_type": "subslide"
    }
   },
   "source": [
    "## A simple function to test"
   ]
  },
  {
   "cell_type": "code",
   "execution_count": 1,
   "metadata": {
    "collapsed": true
   },
   "outputs": [],
   "source": [
    "def divided(dividend, divisor):\n",
    "    return dividend / divisor"
   ]
  },
  {
   "cell_type": "markdown",
   "metadata": {
    "slideshow": {
     "slide_type": "subslide"
    }
   },
   "source": [
    "## The test case"
   ]
  },
  {
   "cell_type": "code",
   "execution_count": 2,
   "metadata": {
    "collapsed": true
   },
   "outputs": [],
   "source": [
    "# Simple test case to test a trivial ``divided`` function.\n",
    "import unittest\n",
    "\n",
    "\n",
    "class DivideTest(unittest.TestCase):\n",
    "    def test_can_divide_positive_numbers(self):\n",
    "        self.assertEqual(3, divided(15, 5))\n",
    "        self.assertAlmostEqual(2.5, divided(5, 2))\n",
    "\n",
    "    def test_can_divide_negative_numbers(self):\n",
    "        self.assertEqual(-3, divided(15, -5))\n",
    "\n",
    "    def test_can_divide_zero(self):\n",
    "        self.assertEqual(0, divided(0, 1))\n",
    "        self.assertEqual(0, divided(0, -1))\n",
    "        self.assertEqual(0, divided(0, 123.45))"
   ]
  },
  {
   "cell_type": "markdown",
   "metadata": {
    "slideshow": {
     "slide_type": "subslide"
    }
   },
   "source": [
    "## Testing for expected errors"
   ]
  },
  {
   "cell_type": "code",
   "execution_count": 4,
   "metadata": {
    "collapsed": true
   },
   "outputs": [],
   "source": [
    "class DivideTest(unittest.TestCase):\n",
    "    # ...\n",
    "    def test_fails_on_zero_division(self):\n",
    "        self.assertRaises(ZeroDivisionError, divided, 1, 0)"
   ]
  },
  {
   "cell_type": "markdown",
   "metadata": {},
   "source": [
    "Note that `divided()` is not called here, only the function and its parameters is passed."
   ]
  },
  {
   "cell_type": "markdown",
   "metadata": {
    "slideshow": {
     "slide_type": "subslide"
    }
   },
   "source": [
    "## Common `assertXXX()` methods"
   ]
  },
  {
   "cell_type": "markdown",
   "metadata": {},
   "source": [
    "* `asserEqual(a, b)` - check that `a == b`\n",
    "* `assertAlmostEqual(a, b)` - check that two floating point numbers have almost the same value\n",
    "* `assertRegex(text, regex)` - check that a `text` matches a regular expression\n",
    "* `assertIn(needle, haystack)` - check that `needle` is in `haystack`\n",
    "* `assertIsNone(value)` - check that `value` is `None`\n",
    "* `assertTrue(expression)`, `assertFalse(expression)` - check the result of any expression"
   ]
  },
  {
   "cell_type": "markdown",
   "metadata": {
    "slideshow": {
     "slide_type": "subslide"
    }
   },
   "source": [
    "## Common `assertXXX()` methods (continued)"
   ]
  },
  {
   "cell_type": "markdown",
   "metadata": {},
   "source": [
    "All methods have an optional argument `message` to specify your own message in case of error. Typically the standard messages are adequate though with the exception of `assertTrue()` and `assertFalse()`.\n",
    "\n",
    "Most methods also have a `Not` equivalent, e.g. `assertEqual()` and `assertNotEqual()`.\n",
    "\n",
    "For a full list, visit https://docs.python.org/3/library/unittest.html."
   ]
  },
  {
   "cell_type": "markdown",
   "metadata": {
    "slideshow": {
     "slide_type": "subslide"
    }
   },
   "source": [
    "## Test runners"
   ]
  },
  {
   "cell_type": "markdown",
   "metadata": {},
   "source": [
    "* Test runners look for classes inheriting from `unittest.TestCase` (or children of it) and run all `test_xxx(self)` methods in it.\n",
    "* Some test runners also can recursively discover test cases across multiple folders.\n",
    "* If a `test_xxx()` fails, the test runner continues with test next test method.\n",
    "* The test runner collects all results."
   ]
  },
  {
   "cell_type": "markdown",
   "metadata": {
    "slideshow": {
     "slide_type": "subslide"
    }
   },
   "source": [
    "## Let's break things"
   ]
  },
  {
   "cell_type": "markdown",
   "metadata": {},
   "source": [
    "Change the division operator (`/`) to integer division (`//`) to break one of our test cases, so the test results get more interesting:"
   ]
  },
  {
   "cell_type": "code",
   "execution_count": 6,
   "metadata": {
    "collapsed": true
   },
   "outputs": [],
   "source": [
    "def divided(dividend, divisor):\n",
    "    return dividend // divisor"
   ]
  },
  {
   "cell_type": "markdown",
   "metadata": {
    "slideshow": {
     "slide_type": "subslide"
    }
   },
   "source": [
    "## Command line test runner"
   ]
  },
  {
   "cell_type": "markdown",
   "metadata": {},
   "source": [
    "The `unittest` module already provides a built in test runner that can be called from the command line by simply adding the following lines to the test case:"
   ]
  },
  {
   "cell_type": "markdown",
   "metadata": {},
   "source": [
    "```python\n",
    "if __name__ == '__main__':\n",
    "    unittest.main()\n",
    "```"
   ]
  },
  {
   "cell_type": "markdown",
   "metadata": {
    "slideshow": {
     "slide_type": "subslide"
    }
   },
   "source": [
    "## Command line test runner: example output"
   ]
  },
  {
   "cell_type": "markdown",
   "metadata": {},
   "source": [
    "```\n",
    ".F..\n",
    "===================================================\n",
    "FAIL: test_can_divide_positive_numbers (__main__.DivideTest)\n",
    "---------------------------------------------------\n",
    "Traceback (most recent call last):\n",
    "  File \"/home/roskakori/workspace/talks/python_for_testers/examples/test_divide.py\", line 12, in test_can_divide_positive_numbers\n",
    "    self.assertAlmostEqual(2.5, divided(5, 2))\n",
    "AssertionError: 2.5 != 2 within 7 places\n",
    "\n",
    "---------------------------------------------------\n",
    "Ran 4 tests in 0.001s\n",
    "\n",
    "FAILED (failures=1)\n",
    "```"
   ]
  },
  {
   "cell_type": "markdown",
   "metadata": {
    "slideshow": {
     "slide_type": "subslide"
    }
   },
   "source": [
    "## IDE test runners"
   ]
  },
  {
   "cell_type": "markdown",
   "metadata": {},
   "source": [
    "![Screenshot: PyCharm test runner](examples/pycharm_test_runner.png)"
   ]
  },
  {
   "cell_type": "markdown",
   "metadata": {
    "slideshow": {
     "slide_type": "subslide"
    }
   },
   "source": [
    "## Failures and errors"
   ]
  },
  {
   "cell_type": "markdown",
   "metadata": {},
   "source": [
    "* TODO"
   ]
  },
  {
   "cell_type": "markdown",
   "metadata": {
    "slideshow": {
     "slide_type": "slide"
    }
   },
   "source": [
    "# Test fixtures"
   ]
  },
  {
   "cell_type": "markdown",
   "metadata": {},
   "source": [
    "* TODO"
   ]
  },
  {
   "cell_type": "markdown",
   "metadata": {
    "slideshow": {
     "slide_type": "slide"
    }
   },
   "source": [
    "# The `pytest` module"
   ]
  },
  {
   "cell_type": "markdown",
   "metadata": {},
   "source": [
    "* TODO"
   ]
  },
  {
   "cell_type": "markdown",
   "metadata": {
    "slideshow": {
     "slide_type": "slide"
    }
   },
   "source": [
    "# Summary"
   ]
  },
  {
   "cell_type": "markdown",
   "metadata": {},
   "source": [
    "* TODO"
   ]
  }
 ],
 "metadata": {
  "celltoolbar": "Slideshow",
  "kernelspec": {
   "display_name": "Python 3",
   "language": "python",
   "name": "python3"
  },
  "language_info": {
   "codemirror_mode": {
    "name": "ipython",
    "version": 3
   },
   "file_extension": ".py",
   "mimetype": "text/x-python",
   "name": "python",
   "nbconvert_exporter": "python",
   "pygments_lexer": "ipython3",
   "version": "3.5.1"
  }
 },
 "nbformat": 4,
 "nbformat_minor": 0
}
