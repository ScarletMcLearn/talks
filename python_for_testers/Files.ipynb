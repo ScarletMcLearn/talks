{
 "cells": [
  {
   "cell_type": "markdown",
   "metadata": {
    "slideshow": {
     "slide_type": "slide"
    }
   },
   "source": [
    "# Files"
   ]
  },
  {
   "cell_type": "markdown",
   "metadata": {
    "slideshow": {
     "slide_type": "slide"
    }
   },
   "source": [
    "# Paths"
   ]
  },
  {
   "cell_type": "markdown",
   "metadata": {},
   "source": [
    "* Files are identified by paths.\n",
    "* Depending on the platform, paths use different separators. Examples:\n",
    "  * `/usr/bin/python` (Unix)\n",
    "  * `C:\\Program Files\\Python34\\python.exe` (Windows)\n",
    "* The `os.path` and `os` module help to manage paths in a platform independant way."
   ]
  },
  {
   "cell_type": "markdown",
   "metadata": {
    "slideshow": {
     "slide_type": "subslide"
    }
   },
   "source": [
    "## Computing paths"
   ]
  },
  {
   "cell_type": "markdown",
   "metadata": {},
   "source": [
    "Get the current working directory:"
   ]
  },
  {
   "cell_type": "code",
   "execution_count": 1,
   "metadata": {
    "collapsed": false
   },
   "outputs": [
    {
     "data": {
      "text/plain": [
       "'/home/roskakori/workspace/talks/python_for_testers'"
      ]
     },
     "execution_count": 1,
     "metadata": {},
     "output_type": "execute_result"
    }
   ],
   "source": [
    "import os\n",
    "os.getcwd()"
   ]
  },
  {
   "cell_type": "markdown",
   "metadata": {},
   "source": [
    "To compute a path from different parts (folders and optional filename), use `os.path.join()` instead of string concatenation because it automatically takes care of the different path separators: slash (`/`) under Unix, backslash (`\\`) under Windows."
   ]
  },
  {
   "cell_type": "code",
   "execution_count": 2,
   "metadata": {
    "collapsed": false
   },
   "outputs": [
    {
     "data": {
      "text/plain": [
       "'/home/roskakori/workspace/talks/python_for_testers/examples/der_rote_komet.txt'"
      ]
     },
     "execution_count": 2,
     "metadata": {},
     "output_type": "execute_result"
    }
   ],
   "source": [
    "import os.path\n",
    "text_path = os.path.join(os.getcwd(), 'examples', 'der_rote_komet.txt')\n",
    "text_path"
   ]
  },
  {
   "cell_type": "markdown",
   "metadata": {},
   "source": [
    "Paths obtained from outside (command line argument, config file etc) can contain references to environment variables. Use `os.path.expandvars()` to resolve them:"
   ]
  },
  {
   "cell_type": "code",
   "execution_count": 3,
   "metadata": {
    "collapsed": false
   },
   "outputs": [
    {
     "name": "stdout",
     "output_type": "stream",
     "text": [
      "$HOME/.some.cfg\n",
      "/home/roskakori/.some.cfg\n"
     ]
    }
   ],
   "source": [
    "config_path = os.path.join('$HOME', '.some.cfg')\n",
    "print(config_path)\n",
    "print(os.path.expandvars(config_path))"
   ]
  },
  {
   "cell_type": "markdown",
   "metadata": {
    "slideshow": {
     "slide_type": "subslide"
    }
   },
   "source": [
    "## Parts of a path"
   ]
  },
  {
   "cell_type": "code",
   "execution_count": 4,
   "metadata": {
    "collapsed": false
   },
   "outputs": [
    {
     "data": {
      "text/plain": [
       "'/home/roskakori/workspace/talks/python_for_testers/examples'"
      ]
     },
     "execution_count": 4,
     "metadata": {},
     "output_type": "execute_result"
    }
   ],
   "source": [
    "os.path.dirname(text_path)  # folder part"
   ]
  },
  {
   "cell_type": "code",
   "execution_count": 5,
   "metadata": {
    "collapsed": false
   },
   "outputs": [
    {
     "data": {
      "text/plain": [
       "'der_rote_komet.txt'"
      ]
     },
     "execution_count": 5,
     "metadata": {},
     "output_type": "execute_result"
    }
   ],
   "source": [
    "os.path.basename(text_path)  # name part"
   ]
  },
  {
   "cell_type": "code",
   "execution_count": 6,
   "metadata": {
    "collapsed": false
   },
   "outputs": [
    {
     "data": {
      "text/plain": [
       "('/home/roskakori/workspace/talks/python_for_testers/examples',\n",
       " 'der_rote_komet.txt')"
      ]
     },
     "execution_count": 6,
     "metadata": {},
     "output_type": "execute_result"
    }
   ],
   "source": [
    "os.path.split(text_path)  # tuple with folder and name"
   ]
  },
  {
   "cell_type": "code",
   "execution_count": 7,
   "metadata": {
    "collapsed": false
   },
   "outputs": [
    {
     "data": {
      "text/plain": [
       "('der_rote_komet', '.txt')"
      ]
     },
     "execution_count": 7,
     "metadata": {},
     "output_type": "execute_result"
    }
   ],
   "source": [
    "text_name = os.path.basename(text_path)\n",
    "os.path.splitext(text_name)  # tuple with name and suffix"
   ]
  },
  {
   "cell_type": "markdown",
   "metadata": {
    "slideshow": {
     "slide_type": "slide"
    }
   },
   "source": [
    "# Text files"
   ]
  },
  {
   "cell_type": "markdown",
   "metadata": {
    "slideshow": {
     "slide_type": "subslide"
    }
   },
   "source": [
    "## Read a text line by line"
   ]
  },
  {
   "cell_type": "code",
   "execution_count": 8,
   "metadata": {
    "collapsed": false,
    "scrolled": true
   },
   "outputs": [
    {
     "name": "stdout",
     "output_type": "stream",
     "text": [
      "\"Siehst du die purpurne Röte, die in gerader Linie sich herab auf\n",
      "die Erde senkt?\" fragte Romulus Futurus in größter Aufregung seinen\n",
      "Freund John Crofton, den berühmten Berichterstatter des \"New York\n",
      "Herald\" in Berlin. \"Bist du nun überzeugt, daß ich die Wahrheit\n",
      "gesprochen habe? Noch kannst du den roten Kometen nicht erkennen,\n",
      "und niemand wird imstande sein, ihn mit bloßem Auge zu sehen. Aber\n",
      "jetzt gibst du zu, daß meine Diagnose richtig war?\"\n",
      "                            (Robert Heymann, 1909, \"Der rote Komet\")\n",
      "\n"
     ]
    }
   ],
   "source": [
    "with open(text_path, 'r', encoding='utf-8') as text_file:\n",
    "    for line in text_file:\n",
    "        print(line.rstrip('\\n'))"
   ]
  },
  {
   "cell_type": "markdown",
   "metadata": {},
   "source": [
    "(The full text is available from http://www.gutenberg.org/ebooks/37991.)"
   ]
  },
  {
   "cell_type": "markdown",
   "metadata": {
    "slideshow": {
     "slide_type": "subslide"
    }
   },
   "source": [
    "## Text files in Python"
   ]
  },
  {
   "cell_type": "markdown",
   "metadata": {},
   "source": [
    "* Text files can be interpreted as a sequence of lines.\n",
    "* The [`open()`](https://docs.python.org/3/library/functions.html#open) function takes a path and a mode with `'r'` for read.\n",
    "* Always specify the `encoding` parameter; otherwise Python uses some \"magic\" that differs across versions and might or might not work.\n",
    "* By default, all kinds of newlines are converted to `'\\n'`; use the `newline` parameter to change this.\n",
    "* The `with` clause takes care of calling `close()` on the file once the `with` block is finished. This even works in case of errors."
   ]
  },
  {
   "cell_type": "markdown",
   "metadata": {
    "slideshow": {
     "slide_type": "subslide"
    }
   },
   "source": [
    "## Write a text file"
   ]
  },
  {
   "cell_type": "code",
   "execution_count": 9,
   "metadata": {
    "collapsed": false
   },
   "outputs": [
    {
     "name": "stdout",
     "output_type": "stream",
     "text": [
      "Write /tmp/some.txt\n"
     ]
    }
   ],
   "source": [
    "import tempfile\n",
    "tempdir = tempfile.gettempdir()\n",
    "target_path = os.path.join(tempdir, 'some.txt')\n",
    "print('Write', target_path)\n",
    "with open(target_path, 'w', encoding='utf-8') as target_file:\n",
    "    target_file.write('\"Siehst du die purpurne Röte, die in gerader Linie \\n')\n",
    "    target_file.write('sich herab auf die Erde senkt?\"\\n')"
   ]
  },
  {
   "cell_type": "markdown",
   "metadata": {},
   "source": [
    "Note: in production code, we would either remove the temporary file here or use `tempfile.TemoraryFile()` instead of `open()`to automatically remove the file on `close()`."
   ]
  },
  {
   "cell_type": "markdown",
   "metadata": {
    "slideshow": {
     "slide_type": "slide"
    }
   },
   "source": [
    "# Codecs"
   ]
  },
  {
   "cell_type": "markdown",
   "metadata": {
    "slideshow": {
     "slide_type": "subslide"
    }
   },
   "source": [
    "## Encoding text"
   ]
  },
  {
   "cell_type": "markdown",
   "metadata": {},
   "source": [
    "* In theory, Unicode can define 2147483647 different characters (in practice it's a lot less).\n",
    "* To represent such a large number, you need 4 bytes per character.\n",
    "* Files are a sequence of bytes.\n",
    "* The encoding specifies how to translate a character to one or more bytes (in vice versa).\n",
    "* Some encoding support all Unicode characters, some only a part (e.g. 256 characters)."
   ]
  },
  {
   "cell_type": "markdown",
   "metadata": {
    "slideshow": {
     "slide_type": "subslide"
    }
   },
   "source": [
    "## Important encodings (single byte)"
   ]
  },
  {
   "cell_type": "markdown",
   "metadata": {},
   "source": [
    "* ASCII provides 128 common characters, but no Umlauts or Euro sign. It is mostly useless in practice.\n",
    "* Latin-1 / ISO-8859-1 extends ASCII and provides many western characters including Umlauts but no Euro sign (because it is older than the Euro).\n",
    "* **CP1252** (\"code page 1252\", \"Windows ANSI\") extends Latin-1 and (among others) adds the Euro sign.\n",
    "* There are many other reginal codepages, e.g. CP1251 for cyrillic script."
   ]
  },
  {
   "cell_type": "markdown",
   "metadata": {
    "slideshow": {
     "slide_type": "subslide"
    }
   },
   "source": [
    "## Important encodings (multiple bytes)"
   ]
  },
  {
   "cell_type": "markdown",
   "metadata": {},
   "source": [
    "* **UTF-8** can represent all Unicode characters. ASCII characters require a single byte, other characters can require up to 6 bytes. It does not require 0-bytes and works well with programs written in C (where 0 marks the end of a string).\n",
    "* UTF-16 and UTF-32 also can represent all Unicode characters but typically use a lot of 0 bytes."
   ]
  },
  {
   "cell_type": "markdown",
   "metadata": {
    "slideshow": {
     "slide_type": "subslide"
    }
   },
   "source": [
    "## Example encoding"
   ]
  },
  {
   "cell_type": "markdown",
   "metadata": {},
   "source": [
    "Here a few example what kind of bytes encoding the text \"für 3 €\" produces:"
   ]
  },
  {
   "cell_type": "code",
   "execution_count": 10,
   "metadata": {
    "collapsed": false
   },
   "outputs": [
    {
     "data": {
      "text/plain": [
       "b'f\\xfcr 3 \\x80'"
      ]
     },
     "execution_count": 10,
     "metadata": {},
     "output_type": "execute_result"
    }
   ],
   "source": [
    "'für 3 €'.encode('cp1252')"
   ]
  },
  {
   "cell_type": "code",
   "execution_count": 11,
   "metadata": {
    "collapsed": false
   },
   "outputs": [
    {
     "data": {
      "text/plain": [
       "b'f\\xc3\\xbcr 3 \\xe2\\x82\\xac'"
      ]
     },
     "execution_count": 11,
     "metadata": {},
     "output_type": "execute_result"
    }
   ],
   "source": [
    "'für 3 €'.encode('utf-8')"
   ]
  },
  {
   "cell_type": "code",
   "execution_count": 12,
   "metadata": {
    "collapsed": false
   },
   "outputs": [
    {
     "data": {
      "text/plain": [
       "b'\\xff\\xfe\\x00\\x00f\\x00\\x00\\x00\\xfc\\x00\\x00\\x00r\\x00\\x00\\x00 \\x00\\x00\\x003\\x00\\x00\\x00 \\x00\\x00\\x00\\xac \\x00\\x00'"
      ]
     },
     "execution_count": 12,
     "metadata": {},
     "output_type": "execute_result"
    }
   ],
   "source": [
    "'für 3 €'.encode('utf-32')"
   ]
  },
  {
   "cell_type": "markdown",
   "metadata": {
    "slideshow": {
     "slide_type": "subslide"
    }
   },
   "source": [
    "## Encoding errors"
   ]
  },
  {
   "cell_type": "markdown",
   "metadata": {},
   "source": [
    "Attempting to encode a character that is not defined within a certain encoding results in an `UnicodeEncodeError`:"
   ]
  },
  {
   "cell_type": "code",
   "execution_count": 13,
   "metadata": {
    "collapsed": false
   },
   "outputs": [
    {
     "ename": "UnicodeEncodeError",
     "evalue": "'ascii' codec can't encode character '\\xfc' in position 1: ordinal not in range(128)",
     "output_type": "error",
     "traceback": [
      "\u001b[1;31m---------------------------------------------------------------------------\u001b[0m",
      "\u001b[1;31mUnicodeEncodeError\u001b[0m                        Traceback (most recent call last)",
      "\u001b[1;32m<ipython-input-13-509c02397f76>\u001b[0m in \u001b[0;36m<module>\u001b[1;34m()\u001b[0m\n\u001b[1;32m----> 1\u001b[1;33m \u001b[1;34m'für 3 €'\u001b[0m\u001b[1;33m.\u001b[0m\u001b[0mencode\u001b[0m\u001b[1;33m(\u001b[0m\u001b[1;34m'ascii'\u001b[0m\u001b[1;33m)\u001b[0m\u001b[1;33m\u001b[0m\u001b[0m\n\u001b[0m",
      "\u001b[1;31mUnicodeEncodeError\u001b[0m: 'ascii' codec can't encode character '\\xfc' in position 1: ordinal not in range(128)"
     ]
    }
   ],
   "source": [
    "'für 3 €'.encode('ascii')"
   ]
  },
  {
   "cell_type": "markdown",
   "metadata": {
    "slideshow": {
     "slide_type": "slide"
    }
   },
   "source": [
    "# Working with files and folders"
   ]
  },
  {
   "cell_type": "markdown",
   "metadata": {
    "slideshow": {
     "slide_type": "subslide"
    }
   },
   "source": [
    "## Helpful modules"
   ]
  },
  {
   "cell_type": "markdown",
   "metadata": {
    "slideshow": {
     "slide_type": "-"
    }
   },
   "source": [
    "The [`os`](https://docs.python.org/3/library/os.html) and [`shutil`](https://docs.python.org/3/library/shutil.html) (\"shell utilites\") provide many functions to operate on files and folders. The [`tempfile`](https://docs.python.org/3/library/tempfile.html) modules simplifies working with temporary files."
   ]
  },
  {
   "cell_type": "code",
   "execution_count": null,
   "metadata": {
    "collapsed": false
   },
   "outputs": [],
   "source": [
    "import os\n",
    "import shutil\n",
    "import tempfile"
   ]
  },
  {
   "cell_type": "markdown",
   "metadata": {
    "slideshow": {
     "slide_type": "subslide"
    }
   },
   "source": [
    "## File operations"
   ]
  },
  {
   "cell_type": "markdown",
   "metadata": {},
   "source": [
    "Copy a file including its timestamp and all attributes:"
   ]
  },
  {
   "cell_type": "code",
   "execution_count": null,
   "metadata": {
    "collapsed": false
   },
   "outputs": [],
   "source": [
    "some_txt_path = os.path.join(tempdir, 'some.txt')\n",
    "copy_of_some_txt_path = os.path.join(tempdir, 'copy_of_some.txt')\n",
    "\n",
    "shutil.copy2(some_txt_path, copy_of_some_txt_path)"
   ]
  },
  {
   "cell_type": "markdown",
   "metadata": {},
   "source": [
    "Remove a file:"
   ]
  },
  {
   "cell_type": "code",
   "execution_count": null,
   "metadata": {
    "collapsed": true
   },
   "outputs": [],
   "source": [
    "os.remove(copy_of_some_txt_path)"
   ]
  },
  {
   "cell_type": "markdown",
   "metadata": {
    "slideshow": {
     "slide_type": "subslide"
    }
   },
   "source": [
    "## Folder operations"
   ]
  },
  {
   "cell_type": "markdown",
   "metadata": {},
   "source": [
    "Create a folder and all necessary intermediate folders; if the folder already exists, do nothing:"
   ]
  },
  {
   "cell_type": "code",
   "execution_count": null,
   "metadata": {
    "collapsed": false
   },
   "outputs": [],
   "source": [
    "nested_folder = os.path.join(tempdir, 'some', 'nested', 'folder')\n",
    "os.makedirs(nested_folder, exist_ok=True)"
   ]
  },
  {
   "cell_type": "markdown",
   "metadata": {},
   "source": [
    "Remove a folder and all files and folders in it:"
   ]
  },
  {
   "cell_type": "code",
   "execution_count": null,
   "metadata": {
    "collapsed": false
   },
   "outputs": [],
   "source": [
    "folder_to_remove = os.path.join(tempdir, 'some')\n",
    "shutil.rmtree(folder_to_remove)"
   ]
  },
  {
   "cell_type": "markdown",
   "metadata": {},
   "source": [
    "Other useful functions:\n",
    "* Copy a folder (including its contents): `shutil.copytree(source, target)`\n",
    "* Move a file or folder (including its contents): `shutil.move(source, target)`\n"
   ]
  },
  {
   "cell_type": "markdown",
   "metadata": {
    "slideshow": {
     "slide_type": "slide"
    }
   },
   "source": [
    "# StringIO"
   ]
  },
  {
   "cell_type": "markdown",
   "metadata": {
    "slideshow": {
     "slide_type": "subslide"
    }
   },
   "source": [
    "## What is StringIO?"
   ]
  },
  {
   "cell_type": "markdown",
   "metadata": {},
   "source": [
    "* `StringIO` is a \"filelike object\".\n",
    "* Most functions that take a text file as parameter (but not a path to a file) also works with `StringIO`.\n",
    "* Data are stored in memory and purged upon calling `close()`.\n",
    "* Particularly useful for writing to a test \"file\" and comparing the contents afterwards.\n"
   ]
  },
  {
   "cell_type": "markdown",
   "metadata": {
    "slideshow": {
     "slide_type": "subslide"
    }
   },
   "source": [
    "## Read from a string"
   ]
  },
  {
   "cell_type": "code",
   "execution_count": 14,
   "metadata": {
    "collapsed": false
   },
   "outputs": [
    {
     "name": "stdout",
     "output_type": "stream",
     "text": [
      "The quick brown\n",
      "fox jumps over the\n",
      "lazy white dog.\n"
     ]
    }
   ],
   "source": [
    "import io\n",
    "text_to_read = \"\"\"The quick brown\n",
    "fox jumps over the\n",
    "lazy white dog.\"\"\"\n",
    "\n",
    "with io.StringIO(text_to_read) as source:\n",
    "    for line in source:\n",
    "        print(line.rstrip('\\n'))"
   ]
  },
  {
   "cell_type": "markdown",
   "metadata": {
    "slideshow": {
     "slide_type": "subslide"
    }
   },
   "source": [
    "## Writing to a string"
   ]
  },
  {
   "cell_type": "code",
   "execution_count": 15,
   "metadata": {
    "collapsed": false
   },
   "outputs": [
    {
     "name": "stdout",
     "output_type": "stream",
     "text": [
      "The quick brown fox\n",
      "jumps over the lazy white dog.\n",
      "\n"
     ]
    }
   ],
   "source": [
    "import io\n",
    "with io.StringIO() as output:\n",
    "    output.write('The quick brown fox\\n')\n",
    "    output.write('jumps over the lazy white dog.\\n')\n",
    "    content = output.getvalue()\n",
    "print(content)"
   ]
  },
  {
   "cell_type": "markdown",
   "metadata": {
    "slideshow": {
     "slide_type": "slide"
    }
   },
   "source": [
    "# Summary"
   ]
  },
  {
   "cell_type": "markdown",
   "metadata": {},
   "source": [
    "* Use `os.path` for platform independant path operations such as `join()` and `splitext()`.\n",
    "* Text files can be read as a sequence or lines.\n",
    "* When opening a text file, always specify an encoding.\n",
    "* Use the `with` clause to ensure a file gets closed automatically, or call `close()` explicitely.\n",
    "* The `os` and `shutil` module provide many functions to work with files and folders."
   ]
  }
 ],
 "metadata": {
  "celltoolbar": "Slideshow",
  "kernelspec": {
   "display_name": "Python 3",
   "language": "python",
   "name": "python3"
  },
  "language_info": {
   "codemirror_mode": {
    "name": "ipython",
    "version": 3
   },
   "file_extension": ".py",
   "mimetype": "text/x-python",
   "name": "python",
   "nbconvert_exporter": "python",
   "pygments_lexer": "ipython3",
   "version": "3.5.1"
  }
 },
 "nbformat": 4,
 "nbformat_minor": 0
}
