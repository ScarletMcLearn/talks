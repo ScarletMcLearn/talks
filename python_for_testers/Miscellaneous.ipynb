{
 "cells": [
  {
   "cell_type": "markdown",
   "metadata": {
    "slideshow": {
     "slide_type": "slide"
    }
   },
   "source": [
    "# Miscellaneous"
   ]
  },
  {
   "cell_type": "markdown",
   "metadata": {},
   "source": [
    "Note: some examples will use the following text file as data to process:"
   ]
  },
  {
   "cell_type": "code",
   "execution_count": 1,
   "metadata": {
    "collapsed": true
   },
   "outputs": [],
   "source": [
    "import os.path\n",
    "text_path = os.path.join('examples', 'der_rote_komet.txt')"
   ]
  },
  {
   "cell_type": "markdown",
   "metadata": {
    "slideshow": {
     "slide_type": "slide"
    }
   },
   "source": [
    "# Collections"
   ]
  },
  {
   "cell_type": "markdown",
   "metadata": {
    "slideshow": {
     "slide_type": "subslide"
    }
   },
   "source": [
    "## Index of iteration"
   ]
  },
  {
   "cell_type": "code",
   "execution_count": 2,
   "metadata": {
    "collapsed": false
   },
   "outputs": [
    {
     "name": "stdout",
     "output_type": "stream",
     "text": [
      "1 \"Siehst du die purpurne Röte, die in gerader Linie sich herab auf\n",
      "2 die Erde senkt?\" fragte Romulus Futurus in größter Aufregung seinen\n",
      "3 Freund John Crofton, den berühmten Berichterstatter des \"New York\n",
      "4 Herald\" in Berlin. \"Bist du nun überzeugt, daß ich die Wahrheit\n",
      "5 gesprochen habe? Noch kannst du den roten Kometen nicht erkennen,\n",
      "6 und niemand wird imstande sein, ihn mit bloßem Auge zu sehen. Aber\n",
      "7 jetzt gibst du zu, daß meine Diagnose richtig war?\"\n",
      "8                             (Robert Heymann, 1909, \"Der rote Komet\")\n",
      "9 \n",
      "lines read:  9\n"
     ]
    }
   ],
   "source": [
    "line_number = 0  # Necessary for empty files where no line is read.\n",
    "with open(text_path, 'r', encoding='utf-8') as text_file:\n",
    "    for line_number, line in enumerate(text_file, 1):\n",
    "        print(line_number, line.rstrip('\\n\\r'))\n",
    "print('lines read: ', line_number)"
   ]
  },
  {
   "cell_type": "markdown",
   "metadata": {
    "slideshow": {
     "slide_type": "subslide"
    }
   },
   "source": [
    "## Find out if any item in a sequence matches a condition"
   ]
  },
  {
   "cell_type": "code",
   "execution_count": 3,
   "metadata": {
    "collapsed": false
   },
   "outputs": [
    {
     "name": "stdout",
     "output_type": "stream",
     "text": [
      "True\n"
     ]
    }
   ],
   "source": [
    "with open(text_path, 'r', encoding='utf-8') as text_file:\n",
    "    has_ue = any('ü' in line for line in text_file)\n",
    "print(has_ue)"
   ]
  },
  {
   "cell_type": "markdown",
   "metadata": {},
   "source": [
    "Note: `any()` stops processing line as soon as the first line containing an `ü` is found."
   ]
  },
  {
   "cell_type": "markdown",
   "metadata": {
    "slideshow": {
     "slide_type": "subslide"
    }
   },
   "source": [
    "## Find out if all items in a sequence match a conditon"
   ]
  },
  {
   "cell_type": "code",
   "execution_count": 4,
   "metadata": {
    "collapsed": false
   },
   "outputs": [
    {
     "name": "stdout",
     "output_type": "stream",
     "text": [
      "False\n"
     ]
    }
   ],
   "source": [
    "with open(text_path, 'r', encoding='utf-8') as text_file:\n",
    "    has_e_in_every_line = all('e' in line for line in text_file)\n",
    "print(has_e_in_every_line)"
   ]
  },
  {
   "cell_type": "markdown",
   "metadata": {},
   "source": [
    "Note: all() stops processing lines as soon as the first line not containingan `e` is found."
   ]
  },
  {
   "cell_type": "markdown",
   "metadata": {
    "slideshow": {
     "slide_type": "subslide"
    }
   },
   "source": [
    "## Intial items matching a condition"
   ]
  },
  {
   "cell_type": "code",
   "execution_count": 5,
   "metadata": {
    "collapsed": false
   },
   "outputs": [
    {
     "name": "stdout",
     "output_type": "stream",
     "text": [
      "\"Siehst du die purpurne Röte, die in gerader Linie sich herab auf\n",
      "die Erde senkt?\" fragte Romulus Futurus in größter Aufregung seinen\n"
     ]
    }
   ],
   "source": [
    "import itertools\n",
    "\n",
    "with open(text_path, 'r', encoding='utf-8') as text_file:\n",
    "    for line in itertools.takewhile(lambda line: 'ö' in line, text_file):\n",
    "        print(line.rstrip('\\n\\r'))"
   ]
  },
  {
   "cell_type": "markdown",
   "metadata": {
    "slideshow": {
     "slide_type": "subslide"
    }
   },
   "source": [
    "# Named tuples"
   ]
  },
  {
   "cell_type": "markdown",
   "metadata": {},
   "source": [
    "* Named tuples are similar to tuples.\n",
    "* Use names instead of indices to access items.\n",
    "* Quick way to implement \"read only classes\" that only have attributes."
   ]
  },
  {
   "cell_type": "code",
   "execution_count": 6,
   "metadata": {
    "collapsed": false
   },
   "outputs": [
    {
     "data": {
      "text/plain": [
       "Person(name='Alice', size=172, date_of_birth=datetime.date(1987, 3, 15))"
      ]
     },
     "execution_count": 6,
     "metadata": {},
     "output_type": "execute_result"
    }
   ],
   "source": [
    "from collections import namedtuple\n",
    "from datetime import date\n",
    "\n",
    "Person = namedtuple('Person', ['name', 'size', 'date_of_birth'])\n",
    "\n",
    "alice = Person('Alice', 172, date(1987, 3, 15))\n",
    "\n",
    "alice"
   ]
  },
  {
   "cell_type": "code",
   "execution_count": 7,
   "metadata": {
    "collapsed": false
   },
   "outputs": [
    {
     "data": {
      "text/plain": [
       "datetime.date(1987, 3, 15)"
      ]
     },
     "execution_count": 7,
     "metadata": {},
     "output_type": "execute_result"
    }
   ],
   "source": [
    "alice.date_of_birth"
   ]
  },
  {
   "cell_type": "markdown",
   "metadata": {
    "slideshow": {
     "slide_type": "subslide"
    }
   },
   "source": [
    "## Modules to skim"
   ]
  },
  {
   "cell_type": "markdown",
   "metadata": {},
   "source": [
    "Recommendation: skim the documentation of the following modules, they can contain various functions that are helpful for regular tasks when processing sequences:\n",
    "* [collections](https://docs.python.org/3/library/collections.html)\n",
    "* [itertools](https://docs.python.org/3/library/itertools.html)\n",
    "* [functools](https://docs.python.org/3/library/functools.html)"
   ]
  },
  {
   "cell_type": "markdown",
   "metadata": {
    "slideshow": {
     "slide_type": "slide"
    }
   },
   "source": [
    "# Decorators"
   ]
  },
  {
   "cell_type": "markdown",
   "metadata": {},
   "source": [
    "* Decorators can enhance functions and classes.\n",
    "* They start with `@`.\n",
    "* The standard library already defines several decorators.\n",
    "* You can implement your own."
   ]
  },
  {
   "cell_type": "markdown",
   "metadata": {
    "slideshow": {
     "slide_type": "subslide"
    }
   },
   "source": [
    "## Caching"
   ]
  },
  {
   "cell_type": "code",
   "execution_count": 8,
   "metadata": {
    "collapsed": false
   },
   "outputs": [
    {
     "data": {
      "text/plain": [
       "CacheInfo(hits=2, misses=1, maxsize=32, currsize=1)"
      ]
     },
     "execution_count": 8,
     "metadata": {},
     "output_type": "execute_result"
    }
   ],
   "source": [
    "from functools import lru_cache\n",
    "import requests\n",
    "\n",
    "@lru_cache(maxsize=32)\n",
    "def get_web_page(url):\n",
    "    response = requests.get(url)\n",
    "    response.raise_for_status()\n",
    "    return response.text\n",
    "\n",
    "get_web_page('https://www.python.org')\n",
    "get_web_page('https://www.python.org')\n",
    "get_web_page('https://www.python.org')\n",
    "\n",
    "get_web_page.cache_info()"
   ]
  },
  {
   "cell_type": "markdown",
   "metadata": {
    "slideshow": {
     "slide_type": "subslide"
    }
   },
   "source": [
    "## Static methods"
   ]
  },
  {
   "cell_type": "markdown",
   "metadata": {},
   "source": [
    "* Classes usually contain methods that want to access its internal state (using `self`).\n",
    "* Sometimes a method is only necessary for a class but independet of `self`.\n",
    "* To avoid name clashes, it's better to make such methods part of the class instad of putting it somewhere in the global name space."
   ]
  },
  {
   "cell_type": "markdown",
   "metadata": {
    "slideshow": {
     "slide_type": "subslide"
    }
   },
   "source": [
    "## Example static method (1/2)"
   ]
  },
  {
   "cell_type": "markdown",
   "metadata": {},
   "source": [
    "Recall how our `Person` class computes the age of a person:"
   ]
  },
  {
   "cell_type": "code",
   "execution_count": 9,
   "metadata": {
    "collapsed": true
   },
   "outputs": [],
   "source": [
    "from datetime import date\n",
    "\n",
    "class Person(object):\n",
    "    def __init__(self, name, size=None, date_of_birth=None):\n",
    "        self.name = name\n",
    "        self.size = size\n",
    "        self.date_of_birth = date_of_birth\n",
    "\n",
    "    def age(self):\n",
    "        if self.date_of_birth is None:\n",
    "            result = None\n",
    "        else:\n",
    "            today = date.today()\n",
    "            born_earlier_this_year = \\\n",
    "                (today.month, today.day) \\\n",
    "                < (self.date_of_birth.month, self.date_of_birth.day)\n",
    "            result = today.year - self.date_of_birth.year - born_earlier_this_year\n",
    "        return result"
   ]
  },
  {
   "cell_type": "markdown",
   "metadata": {
    "slideshow": {
     "slide_type": "subslide"
    }
   },
   "source": [
    "## Example static method (2/2)"
   ]
  },
  {
   "cell_type": "code",
   "execution_count": 10,
   "metadata": {
    "collapsed": true
   },
   "outputs": [],
   "source": [
    "class Person(object):\n",
    "    def __init__(self, name, size=None, date_of_birth=None):\n",
    "        self.name = name\n",
    "        self.size = size\n",
    "        self.date_of_birth = date_of_birth\n",
    "\n",
    "    @staticmethod\n",
    "    def _years_between(date1, date2):  # no 'self' here\n",
    "        if (date1 is None) or (date2 is None):\n",
    "            result = None\n",
    "        else:\n",
    "            is_date1_earlier_this_year = \\\n",
    "                (date1.month, date1.day) < (date2.month, date2.day)\n",
    "            result = date1.year - date2.year - is_date1_earlier_this_year\n",
    "        return result        \n",
    "\n",
    "    def age(self):\n",
    "        return Person._years_between(date.today, self.date_of_birth)"
   ]
  },
  {
   "cell_type": "markdown",
   "metadata": {
    "slideshow": {
     "slide_type": "slide"
    }
   },
   "source": [
    "# Shell commands"
   ]
  },
  {
   "cell_type": "markdown",
   "metadata": {},
   "source": [
    "* Python can call external shell commands.\n",
    "* Advantages to regular shell scripts:\n",
    "  * More deterministic error handling (exit code not equel 0 raises an `Exception`).\n",
    "  * Output can be intercepted and postprocessed with Python.\n",
    "  * All Python functions are available to handle strings, filter lines, convert dates etc, which can be painful in pure shell scripts."
   ]
  },
  {
   "cell_type": "markdown",
   "metadata": {
    "slideshow": {
     "slide_type": "subslide"
    }
   },
   "source": [
    "## The `subprocess` module"
   ]
  },
  {
   "cell_type": "markdown",
   "metadata": {},
   "source": [
    "The `subprocess` module provides means to call external programs:"
   ]
  },
  {
   "cell_type": "code",
   "execution_count": 11,
   "metadata": {
    "collapsed": false
   },
   "outputs": [
    {
     "data": {
      "text/plain": [
       "0"
      ]
     },
     "execution_count": 11,
     "metadata": {},
     "output_type": "execute_result"
    }
   ],
   "source": [
    "import subprocess\n",
    "subprocess.check_call(['ls', '-l', 'examples'])"
   ]
  },
  {
   "cell_type": "markdown",
   "metadata": {
    "slideshow": {
     "slide_type": "subslide"
    }
   },
   "source": [
    "## Fail on exit code != 0"
   ]
  },
  {
   "cell_type": "markdown",
   "metadata": {},
   "source": [
    "In case the called programm returns an exit code other than 0, `check_call` raises a `CalledProcessError`:"
   ]
  },
  {
   "cell_type": "code",
   "execution_count": 12,
   "metadata": {
    "collapsed": false
   },
   "outputs": [
    {
     "ename": "CalledProcessError",
     "evalue": "Command '['ls', '-l', 'no_such_folder']' returned non-zero exit status 2",
     "output_type": "error",
     "traceback": [
      "\u001b[1;31m---------------------------------------------------------------------------\u001b[0m",
      "\u001b[1;31mCalledProcessError\u001b[0m                        Traceback (most recent call last)",
      "\u001b[1;32m<ipython-input-12-fd792ae2c506>\u001b[0m in \u001b[0;36m<module>\u001b[1;34m()\u001b[0m\n\u001b[1;32m----> 1\u001b[1;33m \u001b[0msubprocess\u001b[0m\u001b[1;33m.\u001b[0m\u001b[0mcheck_call\u001b[0m\u001b[1;33m(\u001b[0m\u001b[1;33m[\u001b[0m\u001b[1;34m'ls'\u001b[0m\u001b[1;33m,\u001b[0m \u001b[1;34m'-l'\u001b[0m\u001b[1;33m,\u001b[0m \u001b[1;34m'no_such_folder'\u001b[0m\u001b[1;33m]\u001b[0m\u001b[1;33m)\u001b[0m\u001b[1;33m\u001b[0m\u001b[0m\n\u001b[0m",
      "\u001b[1;32m/home/roskakori/anaconda3/lib/python3.5/subprocess.py\u001b[0m in \u001b[0;36mcheck_call\u001b[1;34m(*popenargs, **kwargs)\u001b[0m\n\u001b[0;32m    582\u001b[0m         \u001b[1;32mif\u001b[0m \u001b[0mcmd\u001b[0m \u001b[1;32mis\u001b[0m \u001b[1;32mNone\u001b[0m\u001b[1;33m:\u001b[0m\u001b[1;33m\u001b[0m\u001b[0m\n\u001b[0;32m    583\u001b[0m             \u001b[0mcmd\u001b[0m \u001b[1;33m=\u001b[0m \u001b[0mpopenargs\u001b[0m\u001b[1;33m[\u001b[0m\u001b[1;36m0\u001b[0m\u001b[1;33m]\u001b[0m\u001b[1;33m\u001b[0m\u001b[0m\n\u001b[1;32m--> 584\u001b[1;33m         \u001b[1;32mraise\u001b[0m \u001b[0mCalledProcessError\u001b[0m\u001b[1;33m(\u001b[0m\u001b[0mretcode\u001b[0m\u001b[1;33m,\u001b[0m \u001b[0mcmd\u001b[0m\u001b[1;33m)\u001b[0m\u001b[1;33m\u001b[0m\u001b[0m\n\u001b[0m\u001b[0;32m    585\u001b[0m     \u001b[1;32mreturn\u001b[0m \u001b[1;36m0\u001b[0m\u001b[1;33m\u001b[0m\u001b[0m\n\u001b[0;32m    586\u001b[0m \u001b[1;33m\u001b[0m\u001b[0m\n",
      "\u001b[1;31mCalledProcessError\u001b[0m: Command '['ls', '-l', 'no_such_folder']' returned non-zero exit status 2"
     ]
    }
   ],
   "source": [
    "subprocess.check_call(['ls', '-l', 'no_such_folder'])"
   ]
  },
  {
   "cell_type": "markdown",
   "metadata": {
    "slideshow": {
     "slide_type": "subslide"
    }
   },
   "source": [
    "## Continue on exit code != 0"
   ]
  },
  {
   "cell_type": "markdown",
   "metadata": {},
   "source": [
    "Using `call` the exit code is simply returned and the caller has to act on errors by itself:"
   ]
  },
  {
   "cell_type": "code",
   "execution_count": 13,
   "metadata": {
    "collapsed": false
   },
   "outputs": [
    {
     "data": {
      "text/plain": [
       "2"
      ]
     },
     "execution_count": 13,
     "metadata": {},
     "output_type": "execute_result"
    }
   ],
   "source": [
    "subprocess.call(['ls', '-l', 'no_such_folder'])"
   ]
  },
  {
   "cell_type": "markdown",
   "metadata": {
    "slideshow": {
     "slide_type": "subslide"
    }
   },
   "source": [
    "## Using the output"
   ]
  },
  {
   "cell_type": "markdown",
   "metadata": {},
   "source": [
    "The `check_output()` function return the output of the console command as binary string:"
   ]
  },
  {
   "cell_type": "code",
   "execution_count": 14,
   "metadata": {
    "collapsed": false
   },
   "outputs": [
    {
     "data": {
      "text/plain": [
       "b'total 168\\n-rw-rw-r-- 1 roskakori roskakori   1748 M\\xc3\\xa4r  7 01:05 copytool.py\\n-rw-rw-r-- 1 roskakori roskakori    227 M\\xc3\\xa4r  9 18:37 csvdict.py\\n-rw-rw-r-- 1 roskakori roskakori    221 M\\xc3\\xa4r  9 10:13 csvlist.py\\n-rw-rw-r-- 1 roskakori roskakori    527 Feb 19 13:52 der_rote_komet.txt\\n-rw-rw-r-- 1 roskakori roskakori    181 M\\xc3\\xa4r  7 10:10 logconsole.py\\n-rw-rw-r-- 1 roskakori roskakori    674 M\\xc3\\xa4r  9 21:18 myapp.cfg\\n-rw-rw-r-- 1 roskakori roskakori   1126 M\\xc3\\xa4r  9 21:11 myapp.py\\n-rw-rw-r-- 1 roskakori roskakori     13 M\\xc3\\xa4r 10 00:21 numbers.txt\\n-rw-rw-r-- 1 roskakori roskakori    480 M\\xc3\\xa4r  2 19:01 people.xml\\n-rw-rw-r-- 1 roskakori roskakori     84 M\\xc3\\xa4r  9 10:20 persons.csv\\ndrwxrwxr-x 2 roskakori roskakori   4096 M\\xc3\\xa4r  3 01:12 __pycache__\\n-rw-rw-r-- 1 roskakori roskakori 114296 M\\xc3\\xa4r  1 05:09 pycharm_test_runner.png\\n-rw-rw-r-- 1 roskakori roskakori     75 J\\xc3\\xa4n 20 07:56 some.txt\\n-rw-rw-r-- 1 roskakori roskakori    505 M\\xc3\\xa4r  3 00:56 test_divided_using_pytest.py\\n-rw-rw-r-- 1 roskakori roskakori    785 M\\xc3\\xa4r  1 06:17 test_divided_using_unittest.py\\n'"
      ]
     },
     "execution_count": 14,
     "metadata": {},
     "output_type": "execute_result"
    }
   ],
   "source": [
    "import sys\n",
    "out = subprocess.check_output(['ls', '-l', 'examples'])\n",
    "out"
   ]
  },
  {
   "cell_type": "markdown",
   "metadata": {
    "slideshow": {
     "slide_type": "subslide"
    }
   },
   "source": [
    "## Converting the output to strings"
   ]
  },
  {
   "cell_type": "markdown",
   "metadata": {},
   "source": [
    "Depending on the platform, you can decode the binary output to a list of Python strings. On Ubuntu, this might work:"
   ]
  },
  {
   "cell_type": "code",
   "execution_count": 15,
   "metadata": {
    "collapsed": false
   },
   "outputs": [
    {
     "data": {
      "text/plain": [
       "['total 168',\n",
       " '-rw-rw-r-- 1 roskakori roskakori   1748 Mär  7 01:05 copytool.py',\n",
       " '-rw-rw-r-- 1 roskakori roskakori    227 Mär  9 18:37 csvdict.py',\n",
       " '-rw-rw-r-- 1 roskakori roskakori    221 Mär  9 10:13 csvlist.py',\n",
       " '-rw-rw-r-- 1 roskakori roskakori    527 Feb 19 13:52 der_rote_komet.txt',\n",
       " '-rw-rw-r-- 1 roskakori roskakori    181 Mär  7 10:10 logconsole.py',\n",
       " '-rw-rw-r-- 1 roskakori roskakori    674 Mär  9 21:18 myapp.cfg',\n",
       " '-rw-rw-r-- 1 roskakori roskakori   1126 Mär  9 21:11 myapp.py',\n",
       " '-rw-rw-r-- 1 roskakori roskakori     13 Mär 10 00:21 numbers.txt',\n",
       " '-rw-rw-r-- 1 roskakori roskakori    480 Mär  2 19:01 people.xml',\n",
       " '-rw-rw-r-- 1 roskakori roskakori     84 Mär  9 10:20 persons.csv',\n",
       " 'drwxrwxr-x 2 roskakori roskakori   4096 Mär  3 01:12 __pycache__',\n",
       " '-rw-rw-r-- 1 roskakori roskakori 114296 Mär  1 05:09 pycharm_test_runner.png',\n",
       " '-rw-rw-r-- 1 roskakori roskakori     75 Jän 20 07:56 some.txt',\n",
       " '-rw-rw-r-- 1 roskakori roskakori    505 Mär  3 00:56 test_divided_using_pytest.py',\n",
       " '-rw-rw-r-- 1 roskakori roskakori    785 Mär  1 06:17 test_divided_using_unittest.py',\n",
       " '']"
      ]
     },
     "execution_count": 15,
     "metadata": {},
     "output_type": "execute_result"
    }
   ],
   "source": [
    "out.decode('utf-8').split('\\n')"
   ]
  },
  {
   "cell_type": "markdown",
   "metadata": {
    "slideshow": {
     "slide_type": "slide"
    }
   },
   "source": [
    "# Environment variables"
   ]
  },
  {
   "cell_type": "markdown",
   "metadata": {},
   "source": [
    "Python maps environment variables to a dictionary:"
   ]
  },
  {
   "cell_type": "code",
   "execution_count": 16,
   "metadata": {
    "collapsed": false
   },
   "outputs": [
    {
     "data": {
      "text/plain": [
       "'roskakori'"
      ]
     },
     "execution_count": 16,
     "metadata": {},
     "output_type": "execute_result"
    }
   ],
   "source": [
    "import os\n",
    "os.environ['USER']"
   ]
  },
  {
   "cell_type": "code",
   "execution_count": 17,
   "metadata": {
    "collapsed": true
   },
   "outputs": [],
   "source": [
    "os.environ['DUMMY'] = 'whatever'"
   ]
  },
  {
   "cell_type": "markdown",
   "metadata": {},
   "source": [
    "There are also more traditional functions:"
   ]
  },
  {
   "cell_type": "code",
   "execution_count": 18,
   "metadata": {
    "collapsed": false
   },
   "outputs": [
    {
     "data": {
      "text/plain": [
       "'roskakori'"
      ]
     },
     "execution_count": 18,
     "metadata": {},
     "output_type": "execute_result"
    }
   ],
   "source": [
    "os.getenv('USER')"
   ]
  },
  {
   "cell_type": "code",
   "execution_count": 19,
   "metadata": {
    "collapsed": true
   },
   "outputs": [],
   "source": [
    "os.unsetenv('DUMMY')"
   ]
  },
  {
   "cell_type": "markdown",
   "metadata": {
    "slideshow": {
     "slide_type": "slide"
    }
   },
   "source": [
    "# Summary"
   ]
  },
  {
   "cell_type": "markdown",
   "metadata": {},
   "source": [
    "* Python has utility modules to help processing sequences.\n",
    "* Decorators can enhance functions and methods.\n",
    "* The `subprocess` module can call external commands and mix Python and Shell scripts.\n",
    "* Environment variables can be accessed using the `os.environ` dictionary."
   ]
  }
 ],
 "metadata": {
  "celltoolbar": "Slideshow",
  "kernelspec": {
   "display_name": "Python 3",
   "language": "python",
   "name": "python3"
  },
  "language_info": {
   "codemirror_mode": {
    "name": "ipython",
    "version": 3
   },
   "file_extension": ".py",
   "mimetype": "text/x-python",
   "name": "python",
   "nbconvert_exporter": "python",
   "pygments_lexer": "ipython3",
   "version": "3.5.1"
  }
 },
 "nbformat": 4,
 "nbformat_minor": 0
}
