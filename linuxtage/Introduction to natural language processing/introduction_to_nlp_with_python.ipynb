{
 "cells": [
  {
   "cell_type": "markdown",
   "metadata": {},
   "source": [
    "# Introduction to natural language processing with Python\n",
    "\n",
    "TODO: goals, overview\n",
    "\n",
    "## Preparations\n",
    "\n",
    "TODO: describe setup.sh etc"
   ]
  },
  {
   "cell_type": "markdown",
   "metadata": {},
   "source": [
    "## Positive adjectives from customer reviews\n",
    "\n",
    "Download the `7817_1.csv` from https://www.kaggle.com/sasikala11/amazon-customer-reviews and store it in the same folder as this notebook."
   ]
  },
  {
   "cell_type": "code",
   "execution_count": 1,
   "metadata": {},
   "outputs": [],
   "source": [
    "review_csv_path = '7817_1.csv'"
   ]
  },
  {
   "cell_type": "markdown",
   "metadata": {},
   "source": [
    "Read reviews from the CSV:"
   ]
  },
  {
   "cell_type": "code",
   "execution_count": 2,
   "metadata": {},
   "outputs": [],
   "source": [
    "import csv\n",
    "\n",
    "asins_to_reviews_map = {}\n",
    "with open(review_csv_path, encoding='utf-8') as review_csv_file:\n",
    "    review_csv_reader = csv.DictReader(review_csv_file)\n",
    "    for row in review_csv_reader:\n",
    "        asins = row['asins']\n",
    "        review = row['reviews.text']\n",
    "        if asins in asins_to_reviews_map:\n",
    "            asins_to_reviews_map[asins].append(review)\n",
    "        else:\n",
    "            asins_to_reviews_map[asins] = [review]"
   ]
  },
  {
   "cell_type": "markdown",
   "metadata": {},
   "source": [
    "Now let's take the first review we come across:"
   ]
  },
  {
   "cell_type": "code",
   "execution_count": 3,
   "metadata": {},
   "outputs": [
    {
     "data": {
      "text/plain": [
       "'B00QJDU3KY'"
      ]
     },
     "execution_count": 3,
     "metadata": {},
     "output_type": "execute_result"
    }
   ],
   "source": [
    "asins = next(iter(asins_to_reviews_map.keys()))\n",
    "asins"
   ]
  },
  {
   "cell_type": "code",
   "execution_count": 4,
   "metadata": {},
   "outputs": [
    {
     "name": "stdout",
     "output_type": "stream",
     "text": [
      "I initially had trouble deciding between the paperwhite and the voyage because reviews more or less said the same thing: the paperwhite is great, but if you have spending money, go for the voyage.Fortunately, I had friends who owned each, so I ended up buying the paperwhite on this basis: both models now have 300 ppi, so the 80 dollar jump turns out pricey the voyage's page press isn't always sensitive, and if you are fine with a specific setting, you don't need auto light adjustment).It's been a week and I am loving my paperwhite, no regrets! The touch screen is receptive and easy to use, and I keep the light at a specific setting regardless of the time of day. (In any case, it's not hard to change the setting either, as you'll only be changing the light level at a certain time of day, not every now and then while reading).Also glad that I went for the international shipping option with Amazon. Extra expense, but delivery was on time, with tracking, and I didnt need to worry about customs, which I may have if I used a third party shipping service.\n"
     ]
    }
   ],
   "source": [
    "reviews = asins_to_reviews_map[asins]\n",
    "review = reviews[0]\n",
    "print(review)"
   ]
  },
  {
   "cell_type": "markdown",
   "metadata": {},
   "source": [
    "Setup an nlp processor for English language:"
   ]
  },
  {
   "cell_type": "code",
   "execution_count": 5,
   "metadata": {},
   "outputs": [],
   "source": [
    "import spacy\n",
    "nlp = spacy.load('en_core_web_sm')"
   ]
  },
  {
   "cell_type": "markdown",
   "metadata": {},
   "source": [
    "Split the review into sentences:"
   ]
  },
  {
   "cell_type": "code",
   "execution_count": 6,
   "metadata": {},
   "outputs": [
    {
     "name": "stdout",
     "output_type": "stream",
     "text": [
      "1 - I initially had trouble deciding between the paperwhite and the voyage because reviews more or less said the same thing: the paperwhite is great, but if you have spending money, go for the voyage.\n",
      "2 - Fortunately, I had friends who owned each, so I ended up buying the paperwhite on this basis: both models now have 300 ppi, so the 80 dollar jump turns out pricey the voyage's page press isn't always sensitive, and if you are fine with a specific setting, you don't need auto light adjustment).It's been a week\n",
      "3 - and I am loving my paperwhite, no regrets!\n",
      "4 - The touch screen is receptive and easy to use, and I keep the light at a specific setting regardless of the time of day.\n",
      "5 - (In any case, it's not hard to change the setting either, as you'll only be changing the light level at a certain time of day, not every now and then while reading).Also glad that I went for the international shipping option with Amazon.\n",
      "6 - Extra expense, but delivery was on time, with tracking, and I didnt need to worry about customs, which I may have if I used a third party shipping service.\n"
     ]
    }
   ],
   "source": [
    "doc = nlp(review)\n",
    "for sent_number, sent in enumerate(doc.sents, 1):\n",
    "    print(sent_number, '-', sent)"
   ]
  },
  {
   "cell_type": "markdown",
   "metadata": {},
   "source": [
    "Setup up a sentiment analyzer:"
   ]
  },
  {
   "cell_type": "code",
   "execution_count": 7,
   "metadata": {},
   "outputs": [],
   "source": [
    "from vaderSentiment.vaderSentiment import SentimentIntensityAnalyzer\n",
    "analyser = SentimentIntensityAnalyzer()"
   ]
  },
  {
   "cell_type": "markdown",
   "metadata": {},
   "source": [
    "Find out the sentiment for each sent:"
   ]
  },
  {
   "cell_type": "code",
   "execution_count": 8,
   "metadata": {},
   "outputs": [
    {
     "name": "stdout",
     "output_type": "stream",
     "text": [
      "I initially had trouble deciding between the paperwhite and the voyage because reviews more or less said the same thing: the paperwhite is great, but if you have spending money, go for the voyage.\n",
      "{'neg': 0.052, 'neu': 0.876, 'pos': 0.072, 'compound': 0.1779}\n"
     ]
    }
   ],
   "source": [
    "sent = next(doc.sents)\n",
    "print(sent)\n",
    "score = analyser.polarity_scores(str(sent))\n",
    "print(score)"
   ]
  },
  {
   "cell_type": "markdown",
   "metadata": {},
   "source": [
    "Find sents that are mostly positive:"
   ]
  },
  {
   "cell_type": "code",
   "execution_count": 9,
   "metadata": {},
   "outputs": [
    {
     "name": "stdout",
     "output_type": "stream",
     "text": [
      "0.3 I have had a full week with my new Kindle Paperwhite and I have to admit, I'm in love.\n",
      "0.267 There was never that feeling of oh man, reading on this thing is so awesome.\n",
      "0.474 That desire is back and I simply adore my Kindle.\n",
      "0.649 Make yourself happy.\n",
      "0.425 Inspire the reader inside of you.\n",
      "0.459 I am enjoying it so far.\n",
      "0.672 Great for reading.\n",
      "0.261 No Paperwhite screen, naturally, and all the cool usability that delivers, but it works well and has its own attractions as a companion to the Kindle.\n",
      "0.331 Theres just so much good stuff out there!\n",
      "0.275 I like having devices on which I can put anything I want and use it.\n",
      "0.27 That's the one thing I'd like to see Amazon do in some future upgrades: make the Kindle treat sideloaded books just like the ones bought from them directly, with sharing funcion (quotes and Goodreads) enabled and so on.\n",
      "0.354 The size is perfect, it sits very well in the hand, the light doesn't hurt the eyes in the dark (like the light on a tab does)...\n",
      "0.333 So far, I can only recommend it.\n",
      "0.457 Love the form factor and all\n",
      "0.3 I have had a full week with my new Kindle Paperwhite and I have to admit, I'm in love.\n",
      "0.267 There was never that feeling of oh man, reading on this thing is so awesome.\n",
      "0.474 That desire is back and I simply adore my Kindle.\n",
      "0.649 Make yourself happy.\n",
      "0.425 Inspire the reader inside of you.\n",
      "0.277 The 300 ppi are definitely obvious and the new font is worth the money.\n",
      "0.26 Totally recommend it for a book lover!I'll give it 4 stars instead of 5 because I am used to a cooler screen, but I'm sure I'll get used to this one soon too :)\n",
      "0.459 I am enjoying it so far.\n",
      "0.672 Great for reading.\n",
      "0.412 This is the perfect thing for a new mommy who loves to read books!\n",
      "0.292 Not to mention cluster feeds during growth spurts!\n",
      "0.341 My new Kindle was the solution!\n",
      "0.492 I am very pleased with the e-reader, easy on the eyes, and comfortable to hold in one hand.\n",
      "0.417 A positive surprise was how easy it is to convert ePub format to Amazon's own format.\n",
      "0.615 Quick and easy!\n",
      "0.459 I am enjoying it so far.\n",
      "0.672 Great for reading.\n",
      "0.412 Paper white is nice reading.\n",
      "0.508 it's a terrific reading device.\n",
      "0.524 * Share your books.\n",
      "0.308 Using Amazon Family Library to link two Amazon accounts and four children and share your books with the entire family* Highlight a section.\n",
      "0.362 Using the touch screen, you can highlight a particulary interesting few lines.\n",
      "0.6 A terrific device to read books, and a worthy contender.\n",
      "0.317 Essentially this means it's (a) Black and White (b) Fantastic to read even in bright sunlight\n",
      "0.297 A lovely example of attention to detail in this premium device.\n",
      "0.351 The Kindle range of devices are perfect to take away on holiday as they can carry thousands of books, and are a pleasure to read even in bright sunlight.\n",
      "0.574 * Special Offers - ie.\n",
      "0.464 you love books but\n",
      "0.453 your on a budget, the original Kindle with WIFI and special offers is a great option.\n",
      "0.401 The Kindle Paperwhite is your next best option and is a terrific device for reading with a superb 300 dpi super-sharp screen.\n",
      "0.419 I was skeptical at first, but the Kindle is a perfect device for reading with one hand (on the train), and the back-light and long battery life a huge bonus.\n",
      "0.348 Can I save my place in the bookA:\n",
      "1.0 Yes.\n",
      "1.0 Yes.\n",
      "1.0 Yes.\n",
      "0.262 You can now share your books using Amazon Family Library to link two Amazon accounts and four children and share your books with the entire familyQ.\n",
      "1.0 Yes.\n",
      "0.27 Its a pleasure to read in the dark with a soft white light.\n",
      "1.0 Yes!\n",
      "0.692 I love my kindle!\n",
      "0.336 I got one for my fiance on his birthday, he loved it!!!!!!!\n",
      "0.5 and I am glad I did.\n",
      "0.285 It is very easy to read books in it.\n",
      "0.451 I LOVE the dictionary on this little device.\n",
      "0.5 If you love to read books, I highly recommend kindle.\n",
      "0.624 Works great and I love the built-in light.\n",
      "0.425 Perfect reader, and very quick delivery.\n",
      "0.369 All in all, the Kindle Paperwhite is great.\n",
      "0.356 Almost like reading a real book.\n",
      "0.293 Don't is crisp, sharp and easy to read.\n",
      "0.492 Wildly better than I expected.\n",
      "0.47 I already had an original Kindle Paperwhite and loved it.\n",
      "0.314 Buying this in addition seemed like a bit of an indulgence but I am so pleased I made this move.\n",
      "0.463 I love the new font and the clarity of the screen.\n",
      "0.28 While there is nothing dramatic about the evolving of the Kindle there are enough changes and improvements for me to feel I have made a great purchase which I am happy with.\n",
      "0.312 Received my new kindle in perfect condition and I am very happy it is faster and a clearer it has a.\n"
     ]
    }
   ],
   "source": [
    "def mostly_positive_score_and_sents(reviews):\n",
    "    for review_number, review in enumerate(reviews, 1):\n",
    "        doc = nlp(review)\n",
    "        for sent_number, sent in enumerate(doc.sents, 1):\n",
    "            score = analyser.polarity_scores(str(sent))\n",
    "            if score['neg'] < 0.1 and score['pos'] > 0.25:\n",
    "                yield score, sent\n",
    "\n",
    "for score, sent in mostly_positive_score_and_sents(reviews):\n",
    "    print(f\"{score['pos']} {sent}\")"
   ]
  },
  {
   "cell_type": "markdown",
   "metadata": {},
   "source": [
    "Let's extract adjectives from positive sents:"
   ]
  },
  {
   "cell_type": "code",
   "execution_count": 10,
   "metadata": {},
   "outputs": [
    {
     "name": "stdout",
     "output_type": "stream",
     "text": [
      "full\n",
      "new\n",
      "awesome\n",
      "happy\n",
      "great\n",
      "all\n",
      "cool\n",
      "that\n",
      "own\n",
      "good\n",
      "which\n",
      "future\n",
      "perfect\n",
      "full\n",
      "new\n",
      "awesome\n",
      "happy\n",
      "obvious\n",
      "new\n",
      "worth\n",
      "cool\n",
      "sure\n",
      "great\n",
      "perfect\n",
      "new\n",
      "new\n",
      "pleased\n",
      "easy\n",
      "comfortable\n",
      "positive\n",
      "easy\n",
      "own\n",
      "quick\n",
      "easy\n",
      "great\n",
      "nice\n",
      "terrific\n",
      "entire\n",
      "particulary\n",
      "interesting\n",
      "few\n",
      "terrific\n",
      "worthy\n",
      "black\n",
      "fantastic\n",
      "bright\n",
      "lovely\n",
      "premium\n",
      "perfect\n",
      "bright\n",
      "original\n",
      "special\n",
      "great\n",
      "next\n",
      "good\n",
      "terrific\n",
      "superb\n",
      "super\n",
      "sharp\n",
      "skeptical\n",
      "perfect\n",
      "back\n",
      "long\n",
      "huge\n",
      "entire\n",
      "soft\n",
      "white\n",
      "glad\n",
      "easy\n",
      "little\n",
      "great\n",
      "perfect\n",
      "quick\n",
      "great\n",
      "real\n",
      "crisp\n",
      "sharp\n",
      "easy\n",
      "good\n",
      "original\n",
      "pleased\n",
      "new\n",
      "dramatic\n",
      "enough\n",
      "great\n",
      "which\n",
      "happy\n",
      "new\n",
      "perfect\n",
      "happy\n",
      "fast\n",
      "clear\n"
     ]
    }
   ],
   "source": [
    "def positive_adjectives(reviews):\n",
    "    for score, sent in mostly_positive_score_and_sents(reviews):\n",
    "        for token in sent:\n",
    "            if token.pos_ == 'ADJ':\n",
    "                # Skip pronouns rendered as '-PRON-'\n",
    "                if not token.lemma_.startswith('-'):\n",
    "                    yield token.lemma_\n",
    "                    \n",
    "for lemma in positive_adjectives(reviews):\n",
    "    print(lemma)"
   ]
  },
  {
   "cell_type": "code",
   "execution_count": 11,
   "metadata": {},
   "outputs": [
    {
     "data": {
      "text/plain": [
       "[('new', 7),\n",
       " ('great', 7),\n",
       " ('perfect', 6),\n",
       " ('easy', 5),\n",
       " ('happy', 4),\n",
       " ('good', 3),\n",
       " ('terrific', 3),\n",
       " ('full', 2),\n",
       " ('awesome', 2),\n",
       " ('cool', 2)]"
      ]
     },
     "execution_count": 11,
     "metadata": {},
     "output_type": "execute_result"
    }
   ],
   "source": [
    "from collections import Counter\n",
    "Counter(positive_adjectives(reviews)).most_common(10)"
   ]
  },
  {
   "cell_type": "markdown",
   "metadata": {},
   "source": [
    "Filter too generic words:"
   ]
  },
  {
   "cell_type": "code",
   "execution_count": 12,
   "metadata": {},
   "outputs": [
    {
     "data": {
      "text/plain": [
       "[('easy', 5),\n",
       " ('full', 2),\n",
       " ('cool', 2),\n",
       " ('own', 2),\n",
       " ('which', 2),\n",
       " ('quick', 2),\n",
       " ('entire', 2),\n",
       " ('bright', 2),\n",
       " ('original', 2),\n",
       " ('sharp', 2)]"
      ]
     },
     "execution_count": 12,
     "metadata": {},
     "output_type": "execute_result"
    }
   ],
   "source": [
    "GENERIC_POSITIVE_ADJECTIVES = {\n",
    "    'awesome', 'good', 'great', 'happy', 'new', 'perfect', 'pleased', 'terrific',\n",
    "}\n",
    "Counter(\n",
    "    adjective for adjective in positive_adjectives(reviews)\n",
    "    if adjective not in GENERIC_POSITIVE_ADJECTIVES\n",
    ").most_common(10)"
   ]
  },
  {
   "cell_type": "markdown",
   "metadata": {},
   "source": [
    "Let's warp this in a function:"
   ]
  },
  {
   "cell_type": "code",
   "execution_count": 13,
   "metadata": {},
   "outputs": [
    {
     "data": {
      "text/plain": [
       "['easy',\n",
       " 'full',\n",
       " 'cool',\n",
       " 'own',\n",
       " 'which',\n",
       " 'quick',\n",
       " 'entire',\n",
       " 'bright',\n",
       " 'original',\n",
       " 'sharp']"
      ]
     },
     "execution_count": 13,
     "metadata": {},
     "output_type": "execute_result"
    }
   ],
   "source": [
    "def most_common_positive_adjectives(reviews):\n",
    "    return [\n",
    "        common_adjective for common_adjective, _ in Counter(\n",
    "            adjective for adjective in positive_adjectives(reviews)\n",
    "            if adjective not in GENERIC_POSITIVE_ADJECTIVES\n",
    "        ).most_common(10)\n",
    "    ]\n",
    "\n",
    "most_common_positive_adjectives(reviews)"
   ]
  },
  {
   "cell_type": "markdown",
   "metadata": {},
   "source": [
    "And now for all our products:"
   ]
  },
  {
   "cell_type": "code",
   "execution_count": 14,
   "metadata": {},
   "outputs": [
    {
     "name": "stdout",
     "output_type": "stream",
     "text": [
      "B00QJDU3KY: ['easy', 'full', 'cool', 'own', 'which', 'quick', 'entire', 'bright', 'original', 'sharp']\n",
      "B002Y27P3M: ['excellent', 'bad', 'personal', 'neat', 'cheap', 'other', 'useful', 'overall', 'easy', 'nice']\n",
      "B00DU15MU4: ['easy', 'most', 'free', 'excellent', 'remote', 'sure']\n",
      "B01LW1MS9C: ['huge', 'smart', 'fantastic', 'nice', 'soft', 'elegant', 'several']\n",
      "B01FWSVGQQ: ['easy', 'nice', 'which', 'bright', 'vibrant', 'strong', 'first', 'all', 'bluetooth']\n",
      "B00DOPNLJ0: ['prime', 'available', 'which', 'downloadable', 'free', 'sound', 'excellent', 'stunning', 'intuitive', 'popular']\n",
      "B00NO8LX7E: ['remote', 'nobodys', 'huge', 'cheap', 'second', 'gamer', 'other', 'nice', 'laughable']\n",
      "B00LWHUAF0: ['nice']\n",
      "B00KDRQEYQ: ['that', 'fine', 'first', 'worth']\n",
      "B00OQVZDJM: ['sure', 'digital', 'welcome', 'long', 'physical', 'incredible', 'wonderful']\n",
      "B00QJDVBFU: ['sure', 'digital', 'welcome', 'long', 'physical', 'incredible', 'wonderful']\n",
      "B00VKLBU3Y: ['sensitive', 'large', 'original', 'cheap', 'smooth', 'nice', 'narrow']\n",
      "B010BWYP20: ['sure', 'which', 'huge', 'pre', 'young', 'wonderful', 'nice', 'ok']\n",
      "B00VKM5NFY: ['sensitive', 'large', 'original', 'cheap', 'smooth', 'nice', 'narrow']\n",
      "B01KIOU4EO: ['original', 'easy', 'free', 'worth', 'nice', 'bright', 'that', 'other', 'smart', 'useful']\n",
      "B0117U8JSG: ['wrong', 'high', 'bad', 'large', 'fair', 'big', 'sharp', 'clear']\n",
      "B01A08ECQY: ['easy', 'small', 'light', 'first', 'useful']\n",
      "B01J2G4VBG: ['nice', 'third', 'fourth', 'non', 'other', 'marvelous', 'origami', 'light', 'thin', 'easy']\n",
      "B00QJDS7I4: ['sure', 'digital', 'welcome', 'long', 'physical', 'incredible', 'wonderful']\n",
      "B00U879XZ8: ['sure', 'digital', 'welcome', 'long', 'physical', 'incredible', 'wonderful']\n",
      "B010EK1GOE: ['nice', 'significant', 'amazing', 'mechanical', 'most', 'pricey', 'few', 'solid', 'original', 'light']\n",
      "B00LWHUB9A: ['outstanding', 'powerful', 'nice', 'more', 'easy', 'first', 'fast', 'which', 'wise', 'same']\n",
      "B00ZS0G0PG: ['sure', 'serious', 'absolute', 'possible']\n",
      "B01A08E70K: ['other', 'little', 'small', 'fine', 'amazing', 'flawless', 'real', 'surprised']\n",
      "B00PD81ETU: ['nice', 'origami', 'light', 'thin', 'easy', 'pricey', 'worth']\n",
      "B06XDD27LJ: ['nice', 'useful', 'original', 'strong', 'second', 'clear', 'worth']\n",
      "B00CX5P8FC: ['easy', 'free', 'most', 'excellent', 'sure', 'other', 'remote', 'that', 'amazing', 'nice']\n",
      "B07194GPJV: ['that', 'sturdy', 'nice', 'satisfied', 'separate', 'cute', 'bright', 'cheerful', 'sunny', 'inexpensive']\n",
      "B008GG93YE,B00LWHUBPO,B0051QYGXA: ['nice', 'microsd', 'excellent', 'offers).what', 'all', 'amazing', 'ok', 'more', 'surprised', 'negative']\n",
      "B071NMTDHR: ['nice', 'secure', 'that', 'marine', 'large', 'helpful', 'huge', 'top', 'easy', 'clean']\n",
      "B0117U82EM: ['basic', 'bright', 'beautiful', 'tried', 'true', 'solid', 'nice', 'readable']\n",
      "B0711C7WL2: ['few', 'old', 'rough', 'super', 'sturdy', 'easy', 'little', 'cool', 'right', 'ideal']\n",
      "B01M3ULMWP: ['easy', 'responsive', 'more', 'fast', 'dual', 'decent', 'surprised', 'little', 'heavy', 'cheap']\n",
      "B00LWHU9D8: ['entire', 'free', 'solid', 'more', 'casual', 'nice', 'fantastic', 'first', 'big', 'early']\n",
      "B0716JZKLT: ['confident', 'thick', 'sturdy', 'old', 'light']\n",
      "B01BRWH8G8: ['best', 'ecstatic', 'fantastic']\n",
      "B01M4NRFXX: ['old', 'nice', 'easy', 'much', 'bright', 'removable', 'sturdy', 'yellow', 'neutral', 'ok']\n",
      "B01KVZDFD2: ['free', 'which', 'pesky', 'worth', 'that']\n",
      "B01M4NU4OM: ['that', 'free', 'worth', 'only', 'favorite', 'important', 'all', 'real', 'parental', 'toyreal']\n",
      "B008GGCAVM,B00DOPNMVM: ['easy', 'nice', 'clear', 'micro', 'universal', 'cheap', 'amazing', 'favorite', 'crisp', 'fantastic']\n",
      "B00KSR13CE: ['original', 'small', 'front', 'virtual', 'worth', 'comfortable', 'which', 'lit', 'high', 'free']\n",
      "B01M71HRMY: ['late', 'absolute', 'stunning', 'more', 'scrabble', 'solitaire']\n",
      "B01K8B8YA8: ['different', 'easy', 'sure', 'former', 'seamless', 'multi', 'main', 'excellent', 'which', 'fantastic']\n",
      "B010BWYDYA: ['prime', 'little', 'amazing', 'front', 'rear', 'gorgeous', 'snappy', 'sixth', 'free', 'cheap']\n",
      "B01KIOU214: ['dear', 'our', 'fantastic', 'tubular', 'ready', 'that', 'independent', 'more', 'beautiful', 'sure']\n",
      "B00DOPNK14: ['original', 'which', 'fantastic', 'small', 'front', 'virtual', 'worth', 'comfortable', 'lit', 'high']\n",
      "B00DOPNO4M,B00BWYQ9YE,B00CYQPMJC,B00CUU1CGY,B00BWYRF7E,B00CYQP3AK: ['rich', 'last', 'clear', 'blue', 'accurate', 'big', 'true', 'incredible', 'free', 'nice']\n",
      "B01BH83OOM: ['easy', 'sound', 'portable', 'amazing', 'small', 'excellent', 'nice', 'that', 'little', 'bluetooth']\n",
      "B00K5W9WZW: ['easy', 'surprised', 'loose', 'little', 'pricey', 'worth', 'least', 'large', 'sure', 'clean']\n",
      "B01E9AHU8Q: ['that', 'exact', 'remote', 'hopeful', 'such', 'fantastic', 'helpful', 'which']\n",
      "B01HC1S9HU: ['excellent', 'nice', 'original', 'suede', 'whole', 'flawless', 'plus', 'funny', 'expensive', 'amazing']\n",
      "B00HX0SRXW: ['comfortable', 'free', 'nice', 'that', 'old', 'average', 'simple', 'most', 'complete', 'occasional']\n",
      "B00LORGAG6: ['remote', 'free', 'own', 'easy', '2nd', 'significant', 'other', 'welcome', 'half', 'only']\n",
      "B00NO8JJZW: ['sure', 'positive', 'bluetooth', 'remote', 'fine']\n"
     ]
    }
   ],
   "source": [
    "for asins, reviews in asins_to_reviews_map.items():\n",
    "    print(f'{asins}: {most_common_positive_adjectives(reviews)}')"
   ]
  },
  {
   "cell_type": "markdown",
   "metadata": {},
   "source": [
    "Conclusion: there is still some noise and generic words that need to be added to `GENERIC_POSITIVE_ADJECTIVES` but the general principle looks promising."
   ]
  },
  {
   "cell_type": "markdown",
   "metadata": {},
   "source": [
    "## Semantic search\n",
    "\n",
    "\n",
    "A German customer might search for:\n",
    "\n",
    "> rotes kleid unter 100 EUR\n",
    "\n",
    "With standard search, this will just search for each of the specific terms. What was actually meant from a search platform's point if view:\n",
    "\n",
    "> kleid color:rot price_eur:\\[0 TO 200\\["
   ]
  },
  {
   "cell_type": "markdown",
   "metadata": {},
   "source": [
    "Modern search platforms can already find out that `rotes` stems to `rot`, so we don't have to bother about that here. So with stemming applied our search query would turn into:"
   ]
  },
  {
   "cell_type": "raw",
   "metadata": {},
   "source": [
    "search_query = 'rot kleid unter 100 EUR'"
   ]
  },
  {
   "cell_type": "markdown",
   "metadata": {},
   "source": [
    "To map key terms to fields we can use simple dictionaries:"
   ]
  },
  {
   "cell_type": "code",
   "execution_count": 15,
   "metadata": {},
   "outputs": [],
   "source": [
    "FIELD_TO_TERM_MAP = {\n",
    "    'color': ['blau', 'braun'\n",
    "              , 'gelb', 'grün', 'rot', 'schwarz', 'weiß'],\n",
    "    'brand': ['apple', 'braun', 'dior', 'samsung', 'sony'],\n",
    "    # ...\n",
    "}"
   ]
  },
  {
   "cell_type": "markdown",
   "metadata": {},
   "source": [
    "Notice that `'braun`' is both a brand and a German color.\n",
    "\n",
    "For efficient lookup we also need the reverse mapping:"
   ]
  },
  {
   "cell_type": "code",
   "execution_count": 16,
   "metadata": {},
   "outputs": [
    {
     "data": {
      "text/plain": [
       "{'blau': ['color'],\n",
       " 'braun': ['color', 'brand'],\n",
       " 'gelb': ['color'],\n",
       " 'grün': ['color'],\n",
       " 'rot': ['color'],\n",
       " 'schwarz': ['color'],\n",
       " 'weiß': ['color'],\n",
       " 'apple': ['brand'],\n",
       " 'dior': ['brand'],\n",
       " 'samsung': ['brand'],\n",
       " 'sony': ['brand']}"
      ]
     },
     "execution_count": 16,
     "metadata": {},
     "output_type": "execute_result"
    }
   ],
   "source": [
    "TERM_TO_FIELDS_MAP = {}\n",
    "for field, terms in FIELD_TO_TERM_MAP.items():\n",
    "    for term in terms:\n",
    "        if term in TERM_TO_FIELDS_MAP:\n",
    "            TERM_TO_FIELDS_MAP[term].append(field)\n",
    "        else:\n",
    "            TERM_TO_FIELDS_MAP[term] = [field]\n",
    "TERM_TO_FIELDS_MAP"
   ]
  },
  {
   "cell_type": "code",
   "execution_count": 17,
   "metadata": {},
   "outputs": [
    {
     "data": {
      "text/plain": [
       "'color:rot kleid unter 100 EUR'"
      ]
     },
     "execution_count": 17,
     "metadata": {},
     "output_type": "execute_result"
    }
   ],
   "source": [
    "def resolved_standard_terms(search_query):\n",
    "    result_parts = []\n",
    "    for term in search_query.split():\n",
    "        fields = TERM_TO_FIELDS_MAP.get(term)\n",
    "        if fields is None:\n",
    "            result_parts.append(term)\n",
    "        else:\n",
    "            for field in fields:\n",
    "                result_parts.append(f'{field}:{term}')\n",
    "    return ' '.join(result_parts)\n",
    "\n",
    "resolved_standard_terms('rot kleid unter 100 EUR')"
   ]
  },
  {
   "cell_type": "markdown",
   "metadata": {},
   "source": [
    "When looking for a razor, we might have to search both the color and the brand. This is ok because the color rarely matters for a razor."
   ]
  },
  {
   "cell_type": "code",
   "execution_count": 18,
   "metadata": {},
   "outputs": [
    {
     "data": {
      "text/plain": [
       "'color:braun brand:braun rasierer'"
      ]
     },
     "execution_count": 18,
     "metadata": {},
     "output_type": "execute_result"
    }
   ],
   "source": [
    "resolved_standard_terms('braun rasierer')"
   ]
  },
  {
   "cell_type": "markdown",
   "metadata": {},
   "source": [
    "To consider term composed of multiple word we can use regular expressions to map them to a replacement term:"
   ]
  },
  {
   "cell_type": "code",
   "execution_count": 19,
   "metadata": {},
   "outputs": [
    {
     "data": {
      "text/plain": [
       "('rot kleid ', 'unter ', '100', ' EUR', ' dior')"
      ]
     },
     "execution_count": 19,
     "metadata": {},
     "output_type": "execute_result"
    }
   ],
   "source": [
    "import re\n",
    "match = re.match(\n",
    "    r'(.*\\b)(unter\\s+)(\\d+)(\\s+EUR)(\\b.*)', \n",
    "    'rot kleid unter 100 EUR dior')\n",
    "\n",
    "match.groups()"
   ]
  },
  {
   "cell_type": "markdown",
   "metadata": {},
   "source": [
    "With this we can build a mapping to replacement terms:"
   ]
  },
  {
   "cell_type": "code",
   "execution_count": 20,
   "metadata": {},
   "outputs": [
    {
     "data": {
      "text/plain": [
       "'rot kleid price_eur:[0 TO 100] dior'"
      ]
     },
     "execution_count": 20,
     "metadata": {},
     "output_type": "execute_result"
    }
   ],
   "source": [
    "re.sub(\n",
    "    r'(.*\\b)(unter\\s+)(\\d+)(\\s+EUR)(\\b.*)', \n",
    "    r'\\1price_eur:[0 TO \\3]\\5',\n",
    "    'rot kleid unter 100 EUR dior'\n",
    ")"
   ]
  },
  {
   "cell_type": "markdown",
   "metadata": {},
   "source": [
    "With can collect multiple regular expressions and their replacement in a map and build a funtion to apply all of them:"
   ]
  },
  {
   "cell_type": "code",
   "execution_count": 21,
   "metadata": {},
   "outputs": [
    {
     "data": {
      "text/plain": [
       "'rot kleid price_eur:[0 TO 100] dior'"
      ]
     },
     "execution_count": 21,
     "metadata": {},
     "output_type": "execute_result"
    }
   ],
   "source": [
    "REGEX_TO_REPLACEMENT_MAP = {\n",
    "    r'(.*\\b)(unter\\s+)(\\d+)(\\s+EUR)(\\b.*)': r'\\1price_eur:[0 TO \\3]\\5',\n",
    "    r'(.*\\b)(ab\\s+)(\\d+)(\\s+EUR)(\\b.*)': r'\\1price_eur:[\\3 TO 10000]\\5',\n",
    "}\n",
    "\n",
    "def resolved_expressions(search_query):\n",
    "    result = search_query\n",
    "    for regex, replacement in REGEX_TO_REPLACEMENT_MAP.items():\n",
    "        result = re.sub(regex, replacement, result)\n",
    "        # FIXME: We might need some logic to prevent already replaced\n",
    "        # parts to be replaced again. This is just a proof of concept.\n",
    "    return result\n",
    "\n",
    "resolved_expressions('rot kleid unter 100 EUR dior')"
   ]
  },
  {
   "cell_type": "markdown",
   "metadata": {},
   "source": [
    "And now let's combine this:"
   ]
  },
  {
   "cell_type": "code",
   "execution_count": 22,
   "metadata": {},
   "outputs": [
    {
     "data": {
      "text/plain": [
       "'color:rot kleid price_eur:[0 TO 100] brand:dior'"
      ]
     },
     "execution_count": 22,
     "metadata": {},
     "output_type": "execute_result"
    }
   ],
   "source": [
    "def semantic_query(search_query):\n",
    "    return resolved_standard_terms(resolved_expressions(search_query))\n",
    "\n",
    "semantic_query('rot kleid unter 100 EUR dior')"
   ]
  },
  {
   "cell_type": "code",
   "execution_count": null,
   "metadata": {},
   "outputs": [],
   "source": []
  }
 ],
 "metadata": {
  "kernelspec": {
   "display_name": "Python 3",
   "language": "python",
   "name": "python3"
  },
  "language_info": {
   "codemirror_mode": {
    "name": "ipython",
    "version": 3
   },
   "file_extension": ".py",
   "mimetype": "text/x-python",
   "name": "python",
   "nbconvert_exporter": "python",
   "pygments_lexer": "ipython3",
   "version": "3.6.8"
  }
 },
 "nbformat": 4,
 "nbformat_minor": 2
}
