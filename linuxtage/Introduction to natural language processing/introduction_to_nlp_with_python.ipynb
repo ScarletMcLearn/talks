{
 "cells": [
  {
   "cell_type": "markdown",
   "metadata": {},
   "source": [
    "# Introduction to natural language processing with Python\n",
    "\n",
    "TODO: goals, overview\n",
    "\n",
    "## Preparations\n",
    "\n",
    "TODO: describe setup.sh etc"
   ]
  },
  {
   "cell_type": "markdown",
   "metadata": {},
   "source": [
    "## Obtaining data: German news paper articles\n",
    "First, we need some data. Visit https://github.com/tblock/10kgnad. It includes an `articles.csv` containing German news paper articles. Copy this file into the same folder as the notebook. The CSV is based on the [one million posts corpus](https://ofai.github.io/million-post-corpus/) which is available under the creative commons license.\n",
    "\n",
    "Now let's read the into a Python list. Note that the actual article text is stored in the 2nd column of the CSV. "
   ]
  },
  {
   "cell_type": "code",
   "execution_count": 1,
   "metadata": {},
   "outputs": [],
   "source": [
    "import csv\n",
    "\n",
    "with open('articles.csv', encoding='utf-8') as articles_file:\n",
    "    articles_reader = csv.reader(articles_file, delimiter=';', quotechar='\\'')\n",
    "    articles = [row[1] for row in articles_reader]"
   ]
  },
  {
   "cell_type": "markdown",
   "metadata": {},
   "source": [
    "Let's take a look at the number of articles:"
   ]
  },
  {
   "cell_type": "code",
   "execution_count": 2,
   "metadata": {},
   "outputs": [
    {
     "data": {
      "text/plain": [
       "10273"
      ]
     },
     "execution_count": 2,
     "metadata": {},
     "output_type": "execute_result"
    }
   ],
   "source": [
    "len(articles)"
   ]
  },
  {
   "cell_type": "markdown",
   "metadata": {},
   "source": [
    "That should be enough data to play around with. And here's what's an actual article looks like:"
   ]
  },
  {
   "cell_type": "code",
   "execution_count": 3,
   "metadata": {},
   "outputs": [
    {
     "data": {
      "text/plain": [
       "'Politik-Experten in \"Zeit im Bild\" und \"ZiB 2\" – Vertrag als Analytiker. Wien – Wenn Analytiker Analytiker analysieren: Mediaaffairs verfolgt und  interpretiert gemeinhin, wie und wie ausführlich welche Politiker in welchen  Medien zu Wort kommen, etwa in der Zeit im  Bild und der ZiB 2. Nun wertete das Unternehmen die Auftritte von  Politikexperten in diesen zwei wichtigsten Nachrichtensendungen des Landes aus. Je unübersichtlicher das politische Geschehen, desto stärker die Nachfrage  nach Meinung von außen, erklärt Mediaaffairs die Auswertung. Das Ergebnis fasst  man so zusammen: Filzmaier erklärt die Welt der Politik. Rund 28 Minuten kam Peter Filzmaier (Donau-Uni Krems) im ersten Halbjahr 2015  in Zeit im Bild und ZiB 2 (ohne Sondersendungen) zu Wort. Mehr  als mancher Spitzenpolitiker, betont Mediaaffairs. Das überrascht freilich  nicht ganz: Filzmaier hat mit dem ORF einen  Vertrag als Politik-Analytiker. Der aktuelle Vertrag schließt laut Filzmaier  Aufträge von politischen Parteien aus. Zwei gut im ORF beschäftigte Politik-Erklärer  hat Mediaaffairs für diese Auswertung übrigens ausgeklammert, weil sie vor allem  als Insider/Kenner von ÖVP beziehungsweise SPÖ eingesetzt würden: die  Politikberater Heidi Glück und Josef Kalina.'"
      ]
     },
     "execution_count": 3,
     "metadata": {},
     "output_type": "execute_result"
    }
   ],
   "source": [
    "articles[102]"
   ]
  },
  {
   "cell_type": "markdown",
   "metadata": {},
   "source": [
    "## Word clouds\n",
    "\n",
    "For starters, let's build a word cloud out of the first few articles.\n",
    "\n",
    "First, collect the articles in a single text:"
   ]
  },
  {
   "cell_type": "code",
   "execution_count": 4,
   "metadata": {},
   "outputs": [],
   "source": [
    "news_text = '\\n'.join(articles[:100])"
   ]
  },
  {
   "cell_type": "markdown",
   "metadata": {},
   "source": [
    "Now let's generate the word cloud and display it as an image:"
   ]
  },
  {
   "cell_type": "code",
   "execution_count": 5,
   "metadata": {},
   "outputs": [],
   "source": [
    "from wordcloud import WordCloud\n",
    "\n",
    "\n",
    "def color(*args, **kwargs):\n",
    "    return 'black'\n",
    "\n",
    "\n",
    "news_cloud = WordCloud(\n",
    "    width=800, height=400,\n",
    "    background_color='white', \n",
    "    color_func=color\n",
    ").generate(news_text)"
   ]
  },
  {
   "cell_type": "markdown",
   "metadata": {},
   "source": [
    "Now convert the word cloud to an image and render it using `mathplotlib`:"
   ]
  },
  {
   "cell_type": "code",
   "execution_count": 6,
   "metadata": {},
   "outputs": [
    {
     "data": {
      "text/plain": [
       "<matplotlib.image.AxesImage at 0x7f761fad51d0>"
      ]
     },
     "execution_count": 6,
     "metadata": {},
     "output_type": "execute_result"
    }
   ],
   "source": [
    "import matplotlib.pyplot as plt\n",
    "plt.axis('off')\n",
    "plt.rcParams['figure.figsize'] = [16, 8]\n",
    "plt.imshow(news_cloud, interpolation='bilinear')"
   ]
  },
  {
   "cell_type": "markdown",
   "metadata": {},
   "source": [
    "Sadly this looks pretty pointless because all the words emphasized are generic German word unrelated to the actual topics the articles are about."
   ]
  },
  {
   "cell_type": "markdown",
   "metadata": {},
   "source": [
    "## Stop words\n",
    "\n",
    "Fortunately there is a memachnism to deal with this: stop words.\n",
    "\n",
    "Stop words are removed from processing and typically include the most common words of a language. `WordCloud` actually does have a parameter to specify such words. We could just specify a list and hope to get most of them.\n",
    "\n",
    "However, spacy already includes such a list:"
   ]
  },
  {
   "cell_type": "code",
   "execution_count": 7,
   "metadata": {},
   "outputs": [],
   "source": [
    "import spacy\n",
    "nlp_de = spacy.load('de_core_news_sm')"
   ]
  },
  {
   "cell_type": "code",
   "execution_count": 8,
   "metadata": {},
   "outputs": [
    {
     "data": {
      "text/plain": [
       "['a',\n",
       " 'ab',\n",
       " 'aber',\n",
       " 'ach',\n",
       " 'acht',\n",
       " 'achte',\n",
       " 'achten',\n",
       " 'achter',\n",
       " 'achtes',\n",
       " 'ag',\n",
       " 'alle',\n",
       " 'allein',\n",
       " 'allem',\n",
       " 'allen',\n",
       " 'aller',\n",
       " 'allerdings',\n",
       " 'alles',\n",
       " 'allgemeinen',\n",
       " 'als',\n",
       " 'also']"
      ]
     },
     "execution_count": 8,
     "metadata": {},
     "output_type": "execute_result"
    }
   ],
   "source": [
    "stop_words_de = nlp_de.Defaults.stop_words\n",
    "sorted(stop_words_de)[:20]"
   ]
  },
  {
   "cell_type": "markdown",
   "metadata": {},
   "source": [
    "Now let's rebuild the word cloud without stop words:"
   ]
  },
  {
   "cell_type": "code",
   "execution_count": 9,
   "metadata": {},
   "outputs": [
    {
     "data": {
      "text/plain": [
       "<matplotlib.image.AxesImage at 0x7f761577e978>"
      ]
     },
     "execution_count": 9,
     "metadata": {},
     "output_type": "execute_result"
    },
    {
     "data": {
      "image/png": "[encoded data removed]",
      "text/plain": [
       "<Figure size 432x288 with 1 Axes>"
      ]
     },
     "metadata": {
      "needs_background": "light"
     },
     "output_type": "display_data"
    }
   ],
   "source": [
    "news_cloud_without_stop_words = WordCloud(\n",
    "    width=800, height=400,\n",
    "    background_color='white', \n",
    "    color_func=color,\n",
    "    stopwords=stop_words_de\n",
    ").generate(news_text)\n",
    "plt.imshow(news_cloud_without_stop_words, interpolation='bilinear')"
   ]
  },
  {
   "cell_type": "markdown",
   "metadata": {},
   "source": [
    "In comparison let's take a look at the word cloud derived from all articles:"
   ]
  },
  {
   "cell_type": "code",
   "execution_count": 10,
   "metadata": {},
   "outputs": [
    {
     "data": {
      "text/plain": [
       "<matplotlib.image.AxesImage at 0x7f761410e2e8>"
      ]
     },
     "execution_count": 10,
     "metadata": {},
     "output_type": "execute_result"
    },
    {
     "data": {
      "image/png": "[encoded data removed]",
      "text/plain": [
       "<Figure size 432x288 with 1 Axes>"
      ]
     },
     "metadata": {
      "needs_background": "light"
     },
     "output_type": "display_data"
    }
   ],
   "source": [
    "all_news_text = '\\n'.join(articles)\n",
    "news_cloud_without_stop_words = WordCloud(\n",
    "    width=800, height=400,\n",
    "    background_color='white', \n",
    "    color_func=color,\n",
    "    stopwords=stop_words_de\n",
    ").generate(all_news_text)\n",
    "plt.imshow(news_cloud_without_stop_words, interpolation='bilinear')"
   ]
  },
  {
   "cell_type": "markdown",
   "metadata": {},
   "source": [
    "Apparently the capital \"Wien\" is more important than the whole country \"Österreich\" ;-)"
   ]
  },
  {
   "cell_type": "markdown",
   "metadata": {},
   "source": [
    "## Sents and tokens - looking at parts of an article\n",
    "So far, we looked at whole articles. But what if we want to examine sentences or parts of sentences?\n",
    "\n",
    "With spacy, you can convert a text to a document:"
   ]
  },
  {
   "cell_type": "code",
   "execution_count": 11,
   "metadata": {},
   "outputs": [],
   "source": [
    "doc = nlp_de('Die blaue Rakete ist schneller als das schnellste Auto. Was wenig verwunderlich ist.')"
   ]
  },
  {
   "cell_type": "markdown",
   "metadata": {},
   "source": [
    "Let's split this into sents first:"
   ]
  },
  {
   "cell_type": "code",
   "execution_count": 12,
   "metadata": {},
   "outputs": [
    {
     "name": "stdout",
     "output_type": "stream",
     "text": [
      "Die blaue Rakete ist schneller als das schnellste Auto.\n",
      "Was wenig verwunderlich ist.\n"
     ]
    }
   ],
   "source": [
    "for sent in doc.sents:\n",
    "    print(sent)"
   ]
  },
  {
   "cell_type": "markdown",
   "metadata": {},
   "source": [
    "Let's examine the first sent further:"
   ]
  },
  {
   "cell_type": "code",
   "execution_count": 13,
   "metadata": {},
   "outputs": [
    {
     "name": "stdout",
     "output_type": "stream",
     "text": [
      "Die blaue Rakete ist schneller als das schnellste Auto.\n"
     ]
    }
   ],
   "source": [
    "first_sent = next(doc.sents)\n",
    "print(first_sent)"
   ]
  },
  {
   "cell_type": "markdown",
   "metadata": {},
   "source": [
    "A sent can be processed as a sequence of tokens:"
   ]
  },
  {
   "cell_type": "code",
   "execution_count": 14,
   "metadata": {},
   "outputs": [
    {
     "name": "stdout",
     "output_type": "stream",
     "text": [
      "Die\n",
      "blaue\n",
      "Rakete\n",
      "ist\n",
      "schneller\n",
      "als\n",
      "das\n",
      "schnellste\n",
      "Auto\n",
      ".\n"
     ]
    }
   ],
   "source": [
    "for token in first_sent:\n",
    "    print(token)"
   ]
  },
  {
   "cell_type": "markdown",
   "metadata": {},
   "source": [
    "Let's extract a single token to further examine it:"
   ]
  },
  {
   "cell_type": "code",
   "execution_count": 15,
   "metadata": {},
   "outputs": [
    {
     "data": {
      "text/plain": [
       "schneller"
      ]
     },
     "execution_count": 15,
     "metadata": {},
     "output_type": "execute_result"
    }
   ],
   "source": [
    "special_token = list(first_sent)[4]\n",
    "special_token"
   ]
  },
  {
   "cell_type": "markdown",
   "metadata": {},
   "source": [
    "When simply printed, a token is rendered as a string. It actually is an object with quite a few interesting properties. For a complete list refer to https://spacy.io/api/token but here are some of the most interesting ones:"
   ]
  },
  {
   "cell_type": "code",
   "execution_count": 16,
   "metadata": {},
   "outputs": [
    {
     "data": {
      "text/plain": [
       "'schneller'"
      ]
     },
     "execution_count": 16,
     "metadata": {},
     "output_type": "execute_result"
    }
   ],
   "source": [
    "# The token as text\n",
    "special_token.text"
   ]
  },
  {
   "cell_type": "markdown",
   "metadata": {},
   "source": [
    "If you don't care about case there also is a lower case form available, which is faster than converting it yourself using `special_token.text.lower()`"
   ]
  },
  {
   "cell_type": "code",
   "execution_count": 17,
   "metadata": {},
   "outputs": [
    {
     "data": {
      "text/plain": [
       "'schneller'"
      ]
     },
     "execution_count": 17,
     "metadata": {},
     "output_type": "execute_result"
    }
   ],
   "source": [
    "special_token.lower_"
   ]
  },
  {
   "cell_type": "markdown",
   "metadata": {},
   "source": [
    "To get rid of inflection use the lemma (or stem word):"
   ]
  },
  {
   "cell_type": "code",
   "execution_count": 18,
   "metadata": {},
   "outputs": [
    {
     "data": {
      "text/plain": [
       "'schnell'"
      ]
     },
     "execution_count": 18,
     "metadata": {},
     "output_type": "execute_result"
    }
   ],
   "source": [
    "# The stem word of the token\n",
    "special_token.lemma_"
   ]
  },
  {
   "cell_type": "markdown",
   "metadata": {},
   "source": [
    "There's also plenty of attributes to check if a token matches a certain form, for example `is_lower`, `is_punct`(puntuation), `like_num` (true for 10, 10.0 or ten) or `like_email`."
   ]
  },
  {
   "cell_type": "markdown",
   "metadata": {},
   "source": [
    "## Token performance\n",
    "\n",
    "For many attributes, tokens have two representations: one as human readable text, and one as quickly processable as integer number. The typically have a similar name but the attribute with the text representation ends with an underscore (`_`):"
   ]
  },
  {
   "cell_type": "code",
   "execution_count": 19,
   "metadata": {},
   "outputs": [
    {
     "data": {
      "text/plain": [
       "(12679834086485348841, 'schnell')"
      ]
     },
     "execution_count": 19,
     "metadata": {},
     "output_type": "execute_result"
    }
   ],
   "source": [
    "special_token.lemma, special_token.lemma_"
   ]
  },
  {
   "cell_type": "code",
   "execution_count": 20,
   "metadata": {},
   "outputs": [
    {
     "data": {
      "text/plain": [
       "(14987636495690372544, 'schneller')"
      ]
     },
     "execution_count": 20,
     "metadata": {},
     "output_type": "execute_result"
    }
   ],
   "source": [
    "special_token.lower, special_token.lower_"
   ]
  },
  {
   "cell_type": "markdown",
   "metadata": {},
   "source": [
    "In general, use the numeric representation for comparing tokens or storing them in a list in memory, and the text representation for printing or persistently storing in a file or database."
   ]
  },
  {
   "cell_type": "markdown",
   "metadata": {},
   "source": [
    "## Part of speech (POS) tagging\n",
    "The `pos` attribute describes the role of a token in the sent, for example noun, verb, adjective. There also is a more detailed variant in `tag`."
   ]
  },
  {
   "cell_type": "code",
   "execution_count": 21,
   "metadata": {},
   "outputs": [
    {
     "name": "stdout",
     "output_type": "stream",
     "text": [
      "Die                  DET        ART       \n",
      "blaue                ADJ        ADJA      \n",
      "Rakete               NOUN       NN        \n",
      "ist                  AUX        VAFIN     \n",
      "schneller            ADJ        ADJD      \n",
      "als                  CONJ       KOKOM     \n",
      "das                  DET        ART       \n",
      "schnellste           ADJ        ADJA      \n",
      "Auto                 NOUN       NN        \n",
      ".                    PUNCT      $.        \n"
     ]
    }
   ],
   "source": [
    "for token in first_sent:\n",
    "    print(f'{token.text:20} {token.pos_:10} {token.tag_:10}')"
   ]
  },
  {
   "cell_type": "markdown",
   "metadata": {},
   "source": [
    "The various constants can be accessed or resolved using `spacy.symbols`:"
   ]
  },
  {
   "cell_type": "code",
   "execution_count": 22,
   "metadata": {},
   "outputs": [
    {
     "name": "stdout",
     "output_type": "stream",
     "text": [
      "numeric code for ADJ is 84\n",
      "name ADJ resolves to numeric code 84\n",
      "name of 84 is ADJ\n"
     ]
    }
   ],
   "source": [
    "from spacy import symbols\n",
    "print(f'numeric code for ADJ is {symbols.ADJ}')\n",
    "print(f'name ADJ resolves to numeric code {symbols.IDS[\"ADJ\"]}')\n",
    "print(f'name of {symbols.ADJ} is {symbols.NAMES[symbols.ADJ]}')"
   ]
  },
  {
   "cell_type": "markdown",
   "metadata": {},
   "source": [
    "## Positive adjectives from customer reviews\n",
    "\n",
    "Based on an idea described in [Using Opinion Mining and Sentiment Analysis to Discover Hidden Product Features for E-Commerce Search](https://www.slideshare.net/lucidworks/using-opinion-mining-and-sentiment-analysis-to-discover-hidden-product-features-for-ecommerce-search-suyash-sonawane-john-castillo-wayfair?qid=081f94a8-7d87-4f4b-b456-1fce9032aa3d&v=&b=&from_search=3)\n",
    "\n",
    "Download the `7817_1.csv` from https://www.kaggle.com/sasikala11/amazon-customer-reviews and store it in the same folder as this notebook."
   ]
  },
  {
   "cell_type": "code",
   "execution_count": 23,
   "metadata": {},
   "outputs": [],
   "source": [
    "review_csv_path = '7817_1.csv'"
   ]
  },
  {
   "cell_type": "markdown",
   "metadata": {},
   "source": [
    "Read reviews from the CSV:"
   ]
  },
  {
   "cell_type": "code",
   "execution_count": 24,
   "metadata": {},
   "outputs": [],
   "source": [
    "import csv\n",
    "\n",
    "asins_to_reviews_map = {}\n",
    "with open(review_csv_path, encoding='utf-8') as review_csv_file:\n",
    "    review_csv_reader = csv.DictReader(review_csv_file)\n",
    "    for row in review_csv_reader:\n",
    "        asins = row['asins']\n",
    "        review = row['reviews.text']\n",
    "        if asins in asins_to_reviews_map:\n",
    "            asins_to_reviews_map[asins].append(review)\n",
    "        else:\n",
    "            asins_to_reviews_map[asins] = [review]"
   ]
  },
  {
   "cell_type": "markdown",
   "metadata": {},
   "source": [
    "Now let's take the first review we come across:"
   ]
  },
  {
   "cell_type": "code",
   "execution_count": 25,
   "metadata": {},
   "outputs": [
    {
     "data": {
      "text/plain": [
       "'B00QJDU3KY'"
      ]
     },
     "execution_count": 25,
     "metadata": {},
     "output_type": "execute_result"
    }
   ],
   "source": [
    "asins = next(iter(asins_to_reviews_map.keys()))\n",
    "asins"
   ]
  },
  {
   "cell_type": "code",
   "execution_count": 26,
   "metadata": {},
   "outputs": [
    {
     "name": "stdout",
     "output_type": "stream",
     "text": [
      "I initially had trouble deciding between the paperwhite and the voyage because reviews more or less said the same thing: the paperwhite is great, but if you have spending money, go for the voyage.Fortunately, I had friends who owned each, so I ended up buying the paperwhite on this basis: both models now have 300 ppi, so the 80 dollar jump turns out pricey the voyage's page press isn't always sensitive, and if you are fine with a specific setting, you don't need auto light adjustment).It's been a week and I am loving my paperwhite, no regrets! The touch screen is receptive and easy to use, and I keep the light at a specific setting regardless of the time of day. (In any case, it's not hard to change the setting either, as you'll only be changing the light level at a certain time of day, not every now and then while reading).Also glad that I went for the international shipping option with Amazon. Extra expense, but delivery was on time, with tracking, and I didnt need to worry about customs, which I may have if I used a third party shipping service.\n"
     ]
    }
   ],
   "source": [
    "reviews = asins_to_reviews_map[asins]\n",
    "review = reviews[0]\n",
    "print(review)"
   ]
  },
  {
   "cell_type": "markdown",
   "metadata": {},
   "source": [
    "Setup an nlp processor for English language:"
   ]
  },
  {
   "cell_type": "code",
   "execution_count": 27,
   "metadata": {},
   "outputs": [],
   "source": [
    "import spacy\n",
    "nlp_en = spacy.load('en_core_web_sm')"
   ]
  },
  {
   "cell_type": "markdown",
   "metadata": {},
   "source": [
    "Split the review into sentences:"
   ]
  },
  {
   "cell_type": "code",
   "execution_count": 28,
   "metadata": {},
   "outputs": [
    {
     "name": "stdout",
     "output_type": "stream",
     "text": [
      "1 - I initially had trouble deciding between the paperwhite and the voyage because reviews more or less said the same thing: the paperwhite is great, but if you have spending money, go for the voyage.\n",
      "2 - Fortunately, I had friends who owned each, so I ended up buying the paperwhite on this basis: both models now have 300 ppi, so the 80 dollar jump turns out pricey\n",
      "3 - the voyage's page press isn't always sensitive, and if you are fine with a specific setting, you don't need auto light adjustment).It's been a week\n",
      "4 - and I am loving my paperwhite, no regrets!\n",
      "5 - The touch screen is receptive and easy to use, and I keep the light at a specific setting regardless of the time of day.\n",
      "6 - (In any case, it's not hard to change the setting either, as you'll only be changing the light level at a certain time of day, not every now and then while reading).Also glad that I went for the international shipping option with Amazon.\n",
      "7 - Extra expense, but delivery was on time, with tracking, and I didnt need to worry about customs, which I may have if I used a third party shipping service.\n"
     ]
    }
   ],
   "source": [
    "doc = nlp_en(review)\n",
    "for sent_number, sent in enumerate(doc.sents, 1):\n",
    "    print(sent_number, '-', sent)"
   ]
  },
  {
   "cell_type": "markdown",
   "metadata": {},
   "source": [
    "Setup up a sentiment analyzer:"
   ]
  },
  {
   "cell_type": "code",
   "execution_count": 29,
   "metadata": {},
   "outputs": [],
   "source": [
    "from vaderSentiment.vaderSentiment import SentimentIntensityAnalyzer\n",
    "analyser = SentimentIntensityAnalyzer()"
   ]
  },
  {
   "cell_type": "markdown",
   "metadata": {},
   "source": [
    "Find out the sentiment for each sent:"
   ]
  },
  {
   "cell_type": "code",
   "execution_count": 30,
   "metadata": {},
   "outputs": [
    {
     "name": "stdout",
     "output_type": "stream",
     "text": [
      "I initially had trouble deciding between the paperwhite and the voyage because reviews more or less said the same thing: the paperwhite is great, but if you have spending money, go for the voyage.\n",
      "{'neg': 0.052, 'neu': 0.876, 'pos': 0.072, 'compound': 0.1779}\n"
     ]
    }
   ],
   "source": [
    "sent = next(doc.sents)\n",
    "print(sent)\n",
    "score = analyser.polarity_scores(str(sent))\n",
    "print(score)"
   ]
  },
  {
   "cell_type": "markdown",
   "metadata": {},
   "source": [
    "Find sents that are mostly positive:"
   ]
  },
  {
   "cell_type": "code",
   "execution_count": 31,
   "metadata": {},
   "outputs": [
    {
     "name": "stdout",
     "output_type": "stream",
     "text": [
      "0.545 and I have to admit, I'm in love.\n",
      "0.267 There was never that feeling of oh man, reading on this thing is so awesome.\n",
      "0.474 That desire is back\n",
      "0.474 and I simply adore my Kindle.\n",
      "0.649 Make yourself happy.\n",
      "0.425 Inspire the reader inside of you.\n",
      "0.459 I am enjoying it so far.\n",
      "0.672 Great for reading.\n",
      "0.261 No Paperwhite screen, naturally, and all the cool usability that delivers, but it works well and has its own attractions as a companion to the Kindle.\n",
      "0.331 Theres just so much good stuff out there!\n",
      "0.275 I like having devices on which I can put anything I want and use it.\n",
      "0.296 That's the one thing I'd like to see Amazon do in some future upgrades: make the Kindle treat sideloaded books just like the ones bought from them directly, with sharing funcion (quotes and Goodreads)\n",
      "0.354 The size is perfect, it sits very well in the hand, the light doesn't hurt the eyes in the dark (like the light on a tab does)...\n",
      "0.333 So far, I can only recommend it.\n",
      "0.457 Love the form factor and all\n",
      "0.545 and I have to admit, I'm in love.\n",
      "0.267 There was never that feeling of oh man, reading on this thing is so awesome.\n",
      "0.474 That desire is back\n",
      "0.474 and I simply adore my Kindle.\n",
      "0.649 Make yourself happy.\n",
      "0.425 Inspire the reader inside of you.\n",
      "0.277 The 300 ppi are definitely obvious and the new font is worth the money.\n",
      "0.26 Totally recommend it for a book lover!I'll give it 4 stars instead of 5 because I am used to a cooler screen, but I'm sure I'll get used to this one soon too :)\n",
      "0.459 I am enjoying it so far.\n",
      "0.672 Great for reading.\n",
      "0.412 This is the perfect thing for a new mommy who loves to read books!\n",
      "0.292 Not to mention cluster feeds during growth spurts!\n",
      "0.341 My new Kindle was the solution!\n",
      "0.492 I am very pleased with the e-reader, easy on the eyes, and comfortable to hold in one hand.\n",
      "0.417 A positive surprise was how easy it is to convert ePub format to Amazon's own format.\n",
      "0.615 Quick and easy!\n",
      "0.459 I am enjoying it so far.\n",
      "0.672 Great for reading.\n",
      "0.412 Paper white is nice reading.\n",
      "0.508 it's a terrific reading device.\n",
      "0.524 * Share your books.\n",
      "0.706 * Highlight a section.\n",
      "0.362 Using the touch screen, you can highlight a particulary interesting few lines.\n",
      "1.0 * Share\n",
      "0.6 A terrific device to read books, and a worthy contender.\n",
      "0.297 A lovely example of attention to detail in this premium device.\n",
      "0.351 The Kindle range of devices are perfect to take away on holiday as they can carry thousands of books, and are a pleasure to read even in bright sunlight.\n",
      "0.474 around:-* Special Offers - ie.\n",
      "0.496 Conclusion-------------If you love books but your on a budget, the original Kindle with WIFI and special offers is a great option.\n",
      "0.401 The Kindle Paperwhite is your next best option and is a terrific device for reading with a superb 300 dpi super-sharp screen.\n",
      "0.419 I was skeptical at first, but the Kindle is a perfect device for reading with one hand (on the train), and the back-light and long battery life a huge bonus.\n",
      "0.348 Can I save my place in the bookA:\n",
      "1.0 Yes.\n",
      "1.0 Yes.\n",
      "0.262 You can now share your books using Amazon Family Library to link two Amazon accounts and four children and share your books with the entire familyQ.\n",
      "1.0 Yes.\n",
      "0.27 Its a pleasure to read in the dark with a soft white light.\n",
      "0.32 the light onQ. Are there any free books\n",
      "0.749 availableA. Yes!\n",
      "0.692 I love my kindle!\n",
      "0.336 I got one for my fiance on his birthday, he loved it!!!!!!!\n",
      "0.317 so I decided to get one for myself as well and I am glad I did.\n",
      "0.285 It is very easy to read books in it.\n",
      "0.451 I LOVE the dictionary on this little device.\n",
      "0.5 If you love to read books, I highly recommend kindle.\n",
      "0.804 Works great\n",
      "0.512 and I love the built-in light.\n",
      "0.425 Perfect reader, and very quick delivery.\n",
      "0.369 All in all, the Kindle Paperwhite is great.\n",
      "0.356 Almost like reading a real book.\n",
      "0.293 Don't is crisp, sharp and easy to read.\n",
      "0.492 Wildly better than I expected.\n",
      "0.47 I already had an original Kindle Paperwhite and loved it.\n",
      "0.46 but I am so pleased I made this move.\n",
      "0.463 I love the new font and the clarity of the screen.\n",
      "0.296 I love that the Kindle comes to life when I open the cover\n",
      "0.28 While there is nothing dramatic about the evolving of the Kindle there are enough changes and improvements for me to feel I have made a great purchase which I am happy with.\n",
      "0.325 Received my new kindle in perfect condition and I am very happy it is faster and a clearer it has\n"
     ]
    }
   ],
   "source": [
    "def mostly_positive_score_and_sents(reviews):\n",
    "    for review_number, review in enumerate(reviews, 1):\n",
    "        doc = nlp_en(review)\n",
    "        for sent_number, sent in enumerate(doc.sents, 1):\n",
    "            score = analyser.polarity_scores(str(sent))\n",
    "            if score['neg'] < 0.1 and score['pos'] > 0.25:\n",
    "                yield score, sent\n",
    "\n",
    "for score, sent in mostly_positive_score_and_sents(reviews):\n",
    "    print(f\"{score['pos']} {sent}\")"
   ]
  },
  {
   "cell_type": "markdown",
   "metadata": {},
   "source": [
    "Let's extract adjectives from positive sents:"
   ]
  },
  {
   "cell_type": "code",
   "execution_count": 32,
   "metadata": {},
   "outputs": [
    {
     "name": "stdout",
     "output_type": "stream",
     "text": [
      "awesome\n",
      "happy\n",
      "great\n",
      "cool\n",
      "own\n",
      "much\n",
      "good\n",
      "future\n",
      "perfect\n",
      "awesome\n",
      "happy\n",
      "obvious\n",
      "new\n",
      "worth\n",
      "cool\n",
      "sure\n",
      "great\n",
      "perfect\n",
      "new\n",
      "new\n",
      "pleased\n",
      "comfortable\n",
      "positive\n",
      "easy\n",
      "own\n",
      "quick\n",
      "easy\n",
      "great\n",
      "nice\n",
      "terrific\n",
      "particulary\n",
      "interesting\n",
      "few\n",
      "terrific\n",
      "worthy\n",
      "lovely\n",
      "perfect\n",
      "bright\n",
      "original\n",
      "special\n",
      "great\n",
      "next\n",
      "good\n",
      "terrific\n",
      "sharp\n",
      "skeptical\n",
      "perfect\n",
      "back\n",
      "long\n",
      "huge\n",
      "entire\n",
      "soft\n",
      "white\n",
      "light\n",
      "free\n",
      "glad\n",
      "easy\n",
      "little\n",
      "great\n",
      "perfect\n",
      "quick\n",
      "great\n",
      "real\n",
      "crisp\n",
      "sharp\n",
      "easy\n",
      "well\n",
      "original\n",
      "pleased\n",
      "new\n",
      "dramatic\n",
      "enough\n",
      "great\n",
      "happy\n",
      "new\n",
      "perfect\n",
      "happy\n",
      "fast\n",
      "clear\n"
     ]
    }
   ],
   "source": [
    "def positive_adjectives(reviews):\n",
    "    for score, sent in mostly_positive_score_and_sents(reviews):\n",
    "        for token in sent:\n",
    "            if token.pos_ == 'ADJ':\n",
    "                # Skip pronouns rendered as '-PRON-'\n",
    "                if not token.lemma_.startswith('-'):\n",
    "                    yield token.lemma_\n",
    "                    \n",
    "for lemma in positive_adjectives(reviews):\n",
    "    print(lemma)"
   ]
  },
  {
   "cell_type": "code",
   "execution_count": 33,
   "metadata": {},
   "outputs": [
    {
     "data": {
      "text/plain": [
       "[('great', 7),\n",
       " ('perfect', 6),\n",
       " ('new', 5),\n",
       " ('happy', 4),\n",
       " ('easy', 4),\n",
       " ('terrific', 3),\n",
       " ('awesome', 2),\n",
       " ('cool', 2),\n",
       " ('own', 2),\n",
       " ('good', 2)]"
      ]
     },
     "execution_count": 33,
     "metadata": {},
     "output_type": "execute_result"
    }
   ],
   "source": [
    "from collections import Counter\n",
    "Counter(positive_adjectives(reviews)).most_common(10)"
   ]
  },
  {
   "cell_type": "markdown",
   "metadata": {},
   "source": [
    "Filter too generic words:"
   ]
  },
  {
   "cell_type": "code",
   "execution_count": 34,
   "metadata": {},
   "outputs": [
    {
     "data": {
      "text/plain": [
       "[('easy', 4),\n",
       " ('cool', 2),\n",
       " ('own', 2),\n",
       " ('quick', 2),\n",
       " ('original', 2),\n",
       " ('sharp', 2),\n",
       " ('much', 1),\n",
       " ('future', 1),\n",
       " ('obvious', 1),\n",
       " ('worth', 1)]"
      ]
     },
     "execution_count": 34,
     "metadata": {},
     "output_type": "execute_result"
    }
   ],
   "source": [
    "GENERIC_POSITIVE_ADJECTIVES = {\n",
    "    'awesome', 'good', 'great', 'happy', 'new', 'perfect', 'pleased', 'terrific',\n",
    "}\n",
    "Counter(\n",
    "    adjective for adjective in positive_adjectives(reviews)\n",
    "    if adjective not in GENERIC_POSITIVE_ADJECTIVES\n",
    ").most_common(10)"
   ]
  },
  {
   "cell_type": "markdown",
   "metadata": {},
   "source": [
    "Let's warp this in a function:"
   ]
  },
  {
   "cell_type": "code",
   "execution_count": 35,
   "metadata": {},
   "outputs": [
    {
     "data": {
      "text/plain": [
       "['easy',\n",
       " 'cool',\n",
       " 'own',\n",
       " 'quick',\n",
       " 'original',\n",
       " 'sharp',\n",
       " 'much',\n",
       " 'future',\n",
       " 'obvious',\n",
       " 'worth']"
      ]
     },
     "execution_count": 35,
     "metadata": {},
     "output_type": "execute_result"
    }
   ],
   "source": [
    "def most_common_positive_adjectives(reviews):\n",
    "    return [\n",
    "        common_adjective for common_adjective, _ in Counter(\n",
    "            adjective for adjective in positive_adjectives(reviews)\n",
    "            if adjective not in GENERIC_POSITIVE_ADJECTIVES\n",
    "        ).most_common(10)\n",
    "    ]\n",
    "\n",
    "most_common_positive_adjectives(reviews)"
   ]
  },
  {
   "cell_type": "markdown",
   "metadata": {},
   "source": [
    "And now for a batch from of all our products (remove `islice(..., 15)` to get all of them):"
   ]
  },
  {
   "cell_type": "code",
   "execution_count": 36,
   "metadata": {},
   "outputs": [
    {
     "name": "stdout",
     "output_type": "stream",
     "text": [
      "B00QJDU3KY: ['easy', 'cool', 'own', 'quick', 'original', 'sharp', 'much', 'future', 'obvious', 'worth']\n",
      "B002Y27P3M: ['excellent', 'bad', 'personal', 'neat', 'cheap', 'well', 'other', 'able', 'font', 'useful']\n",
      "B00DU15MU4: ['easy', 'free', 'simple', 'excellent', 'remote', 'sure']\n",
      "B01LW1MS9C: ['huge', 'smart', 'fantastic', 'fit', 'nice', 'looking', 'soft', 'elegant', 'several']\n",
      "B01FWSVGQQ: ['easy', 'nice', 'bright', 'vibrant', 'strong', 'first', 'well']\n",
      "B00DOPNLJ0: ['available', 'downloadable', 'free', 'sound', 'excellent', 'stunning', 'excellent.---Auto', 'intuitive', 'prime', 'functional']\n",
      "B00NO8LX7E: ['remote', 'huge', 'cheap', 'second', 'other', 'nice', 'laughable']\n",
      "B00LWHUAF0: ['bottom', 'nice', 'well']\n",
      "B00KDRQEYQ: ['fine', 'first', 'worth']\n",
      "B00OQVZDJM: ['welcome', 'long', 'physical', 'incredible', 'wonderful', 'other']\n",
      "B00QJDVBFU: ['welcome', 'long', 'physical', 'incredible', 'wonderful', 'other']\n",
      "B00VKLBU3Y: ['sensitive', 'large', 'well', 'cheap', 'original', 'narrow', 'widescreen']\n",
      "B010BWYP20: ['sure', 'huge', 'pre', 'young', 'wonderful', 'nice', 'ok']\n",
      "B00VKM5NFY: ['sensitive', 'large', 'well', 'cheap', 'original', 'narrow', 'widescreen']\n",
      "B01KIOU4EO: ['easy', 'nice', 'original', 'free', 'worth', 'bright', 'well', 'due', 'other', 'smart']\n"
     ]
    }
   ],
   "source": [
    "from itertools import islice\n",
    "\n",
    "for asins, reviews in islice(asins_to_reviews_map.items(), 15):\n",
    "    print(f'{asins}: {most_common_positive_adjectives(reviews)}')"
   ]
  },
  {
   "cell_type": "markdown",
   "metadata": {},
   "source": [
    "Conclusion: there is still some noise and generic words that need to be added to `GENERIC_POSITIVE_ADJECTIVES` but the general principle looks promising."
   ]
  },
  {
   "cell_type": "markdown",
   "metadata": {},
   "source": [
    "## Sentiment analysis in German\n",
    "Sadly `vaderSentiment` only works with English. If you want to analyze German texts, a starting point would be [shapiro](https://github.com/roskakori/shapiro). Shapiro already knows about generic German sentiment words but for better results you need to provide a dictionary of your own. You can find more in [SentiWS](https://www.kaggle.com/rtatman/german-sentiment-analysis-toolkit), which is free for non commercial use. For more information, see R. Remus, U. Quasthoff & G. Heyer: SentiWS - a Publicly Available German-language Resource for Sentiment Analysis. In: Proceedings of the 7th International Language Ressources and Evaluation (LREC'10), 2010. There also is a spacy-plugin available: https://spacy.io/universe/project/spacy-sentiws."
   ]
  },
  {
   "cell_type": "markdown",
   "metadata": {},
   "source": [
    "## Topic classification / clustering\n",
    "Sometimes you have a lot of documents that somehow probably can be grouped into similar documents, but it's not quite clear how to cluster them. This is where [gensim](https://radimrehurek.com/gensim/) can help. The following section is based on the [topics and transformations tutorial](https://radimrehurek.com/gensim/tut2.html) for gensim.\n",
    "\n",
    "So we already have plenty of documents with our news `articles`. Let's see what kind of topics gensim can find in them."
   ]
  },
  {
   "cell_type": "markdown",
   "metadata": {},
   "source": [
    "Before we get started we need to initialize Python logging and import `gensim`:"
   ]
  },
  {
   "cell_type": "code",
   "execution_count": 37,
   "metadata": {},
   "outputs": [
    {
     "name": "stderr",
     "output_type": "stream",
     "text": [
      "INFO : 'pattern' package not found; tag filters are not available for English\n"
     ]
    }
   ],
   "source": [
    "import logging\n",
    "logging.basicConfig(format='%(levelname)s : %(message)s', level=logging.INFO)\n",
    "\n",
    "from gensim import corpora, models"
   ]
  },
  {
   "cell_type": "markdown",
   "metadata": {},
   "source": [
    "To start with a clean slate, read the news articles again:"
   ]
  },
  {
   "cell_type": "code",
   "execution_count": 38,
   "metadata": {},
   "outputs": [
    {
     "data": {
      "text/plain": [
       "'Die ARD-Tochter Degeto hat sich verpflichtet, ab August einer Quotenregelung zu folgen, die für die Gleichstellung von Regisseurinnen sorgen soll. In mindestens 20 Prozent der Filme, die die ARD-Tochter Degeto produziert oder mitfinanziert, sollen ab Mitte August Frauen Regie führen. Degeto-Chefin Christine Strobl folgt mit dieser Selbstverpflichtung der Forderung von Pro Quote Regie. Die Vereinigung von Regisseurinnen hatte im vergangenen Jahr eine Quotenregelung gefordert, um den weiblichen Filmschaffenden mehr Gehör und ökonomische Gleichstellung zu verschaffen. Pro Quote Regie kritisiert, dass, während rund 50 Prozent der Regie-Studierenden weiblich seien, der Anteil der Regisseurinnen bei Fernsehfilmen nur bei 13 bis 15 Prozent liege. In Österreich sieht die Situation ähnlich aus, auch hier wird von unterschiedlichen Seiten Handlungsbedarf angemahnt. Aber wie soll dieser aussehen? Ist die Einführung der Quotenregelung auch für die österreichische Film- und Fernsehlandschaft sinnvoll? Diskutieren Sie im Forum.'"
      ]
     },
     "execution_count": 38,
     "metadata": {},
     "output_type": "execute_result"
    }
   ],
   "source": [
    "import csv\n",
    "\n",
    "with open('articles.csv', encoding='utf-8') as articles_file:\n",
    "    articles_reader = csv.reader(articles_file, delimiter=';', quotechar='\\'')\n",
    "    articles = [row[1] for row in articles_reader]\n",
    "articles[0]"
   ]
  },
  {
   "cell_type": "markdown",
   "metadata": {},
   "source": [
    "Now we could just throw all articles at gensim. However to get better results a little cleanup is recommened. The code below will perform the following transformations:\n",
    "1. Accept only actual words consisting of letters (no numbers, punctuation etc.).\n",
    "1. Remove stop words.\n",
    "1. Convert words to their lower case lemma."
   ]
  },
  {
   "cell_type": "code",
   "execution_count": 39,
   "metadata": {},
   "outputs": [],
   "source": [
    "cleaned_articles = []\n",
    "for article in articles[:2000]:  # NOTE: slow for all articles\n",
    "    doc = nlp_de(article)\n",
    "    cleaned_article = [\n",
    "        token.lemma_.lower() for token in doc\n",
    "        if token.is_alpha and token.lower_ not in stop_words_de\n",
    "    ]\n",
    "    if len(cleaned_article) >= 1:\n",
    "        cleaned_articles.append(cleaned_article)"
   ]
  },
  {
   "cell_type": "markdown",
   "metadata": {},
   "source": [
    "Here's an example for a cleaned up article text:"
   ]
  },
  {
   "cell_type": "code",
   "execution_count": 40,
   "metadata": {},
   "outputs": [
    {
     "data": {
      "text/plain": [
       "'app annehmen planen gering nutzung schelten spiegeln online app nutzen vorstellen ausbauen'"
      ]
     },
     "execution_count": 40,
     "metadata": {},
     "output_type": "execute_result"
    }
   ],
   "source": [
    "' '.join(cleaned_articles[1])"
   ]
  },
  {
   "cell_type": "markdown",
   "metadata": {},
   "source": [
    "Now we can create a gensim dictionary form these texts and store it for later processing:"
   ]
  },
  {
   "cell_type": "code",
   "execution_count": 41,
   "metadata": {},
   "outputs": [
    {
     "name": "stderr",
     "output_type": "stream",
     "text": [
      "INFO : adding document #0 to Dictionary(0 unique tokens: [])\n",
      "INFO : built Dictionary(51417 unique tokens: ['anmahnen', 'anteil', 'august', 'aussehen', 'christine']...) from 2000 documents (total 354300 corpus positions)\n",
      "INFO : saving Dictionary object under articles.dict, separately None\n",
      "WARNING : this function is deprecated, use smart_open.open instead\n",
      "INFO : saved articles.dict\n"
     ]
    }
   ],
   "source": [
    "dictionary = corpora.Dictionary(cleaned_articles)\n",
    "dictionary.save('articles.dict')"
   ]
  },
  {
   "cell_type": "markdown",
   "metadata": {},
   "source": [
    "Now we can build a corpus from that:"
   ]
  },
  {
   "cell_type": "code",
   "execution_count": 42,
   "metadata": {},
   "outputs": [
    {
     "name": "stderr",
     "output_type": "stream",
     "text": [
      "INFO : storing corpus in Matrix Market format to article_corpus.mm\n",
      "WARNING : this function is deprecated, use smart_open.open instead\n",
      "INFO : saving sparse matrix to article_corpus.mm\n",
      "INFO : PROGRESS: saving document #0\n",
      "INFO : PROGRESS: saving document #1000\n",
      "INFO : saved 2000x51417 matrix, density=0.266% (273723/102834000)\n",
      "INFO : saving MmCorpus index to article_corpus.mm.index\n",
      "WARNING : this function is deprecated, use smart_open.open instead\n"
     ]
    }
   ],
   "source": [
    "corpus = [dictionary.doc2bow(cleaned_article) for cleaned_article in cleaned_articles]\n",
    "corpora.MmCorpus.serialize('article_corpus.mm', corpus)"
   ]
  },
  {
   "cell_type": "markdown",
   "metadata": {},
   "source": [
    "Now we can compute the [term frequency / inverse document frequency](https://en.wikipedia.org/wiki/Tf%E2%80%93idf), which is a measure for each word how important it is in the context of all documents."
   ]
  },
  {
   "cell_type": "code",
   "execution_count": 43,
   "metadata": {},
   "outputs": [
    {
     "name": "stderr",
     "output_type": "stream",
     "text": [
      "INFO : collecting document frequencies\n",
      "INFO : PROGRESS: processing document #0\n",
      "INFO : calculating IDF weights for 2000 documents and 51416 features (273723 matrix non-zeros)\n"
     ]
    }
   ],
   "source": [
    "tfidf = models.TfidfModel(corpus)\n",
    "corpus_tfidf = tfidf[corpus]"
   ]
  },
  {
   "cell_type": "markdown",
   "metadata": {},
   "source": [
    "With this information we can build a [latent semantic index (LSI)]() for our data:"
   ]
  },
  {
   "cell_type": "code",
   "execution_count": 44,
   "metadata": {},
   "outputs": [
    {
     "name": "stderr",
     "output_type": "stream",
     "text": [
      "INFO : using serial LSI version on this node\n",
      "INFO : updating model with new documents\n",
      "INFO : preparing a new chunk of documents\n",
      "INFO : using 100 extra samples and 2 power iterations\n",
      "INFO : 1st phase: constructing (51417, 106) action matrix\n",
      "INFO : orthonormalizing (51417, 106) action matrix\n",
      "INFO : 2nd phase: running dense svd on (106, 2000) matrix\n",
      "INFO : computing the final decomposition\n",
      "INFO : keeping 6 factors (discarding 78.400% of energy spectrum)\n",
      "INFO : processed documents up to #2000\n",
      "INFO : topic #0(5.146): 0.177*\"prozent\" + 0.146*\"standard\" + 0.130*\"spö\" + 0.124*\"fpö\" + 0.121*\"hofer\" + 0.120*\"bellen\" + 0.118*\"van\" + 0.106*\"övp\" + 0.103*\"partei\" + 0.102*\"euro\"\n",
      "INFO : topic #1(3.237): -0.469*\"bellen\" + -0.457*\"van\" + -0.418*\"hofer\" + -0.152*\"griss\" + -0.141*\"kandidat\" + -0.135*\"norbert\" + -0.109*\"lugner\" + -0.106*\"alexander\" + -0.101*\"khol\" + -0.094*\"hundstorfer\"\n",
      "INFO : topic #2(2.988): 0.516*\"trump\" + 0.276*\"clinton\" + 0.176*\"republikaner\" + -0.143*\"häupl\" + -0.142*\"faymann\" + -0.141*\"spö\" + 0.139*\"sanders\" + 0.138*\"cruz\" + 0.114*\"demokrat\" + 0.110*\"donald\"\n",
      "INFO : topic #3(2.756): 0.306*\"trump\" + -0.233*\"orf\" + 0.219*\"faymann\" + 0.211*\"häupl\" + 0.170*\"spö\" + 0.154*\"clinton\" + 0.133*\"fpö\" + -0.124*\"euro\" + 0.122*\"partei\" + -0.119*\"million\"\n",
      "INFO : topic #4(2.647): -0.592*\"prozent\" + -0.126*\"euro\" + -0.109*\"marktanteil\" + -0.109*\"million\" + 0.098*\"töten\" + 0.090*\"anschlag\" + 0.082*\"regierung\" + 0.075*\"libyen\" + -0.075*\"liegen\" + 0.073*\"standard\"\n"
     ]
    }
   ],
   "source": [
    "TOPIC_COUNT = 6\n",
    "lsi = models.LsiModel(corpus_tfidf, id2word=dictionary, num_topics=TOPIC_COUNT)\n",
    "corpus_lsi = lsi[corpus_tfidf]"
   ]
  },
  {
   "cell_type": "markdown",
   "metadata": {},
   "source": [
    "Now we can print the topics gensim found based on related words in separate articles:"
   ]
  },
  {
   "cell_type": "code",
   "execution_count": 45,
   "metadata": {},
   "outputs": [
    {
     "name": "stderr",
     "output_type": "stream",
     "text": [
      "INFO : topic #0(5.146): 0.177*\"prozent\" + 0.146*\"standard\" + 0.130*\"spö\" + 0.124*\"fpö\" + 0.121*\"hofer\" + 0.120*\"bellen\" + 0.118*\"van\" + 0.106*\"övp\" + 0.103*\"partei\" + 0.102*\"euro\"\n",
      "INFO : topic #1(3.237): -0.469*\"bellen\" + -0.457*\"van\" + -0.418*\"hofer\" + -0.152*\"griss\" + -0.141*\"kandidat\" + -0.135*\"norbert\" + -0.109*\"lugner\" + -0.106*\"alexander\" + -0.101*\"khol\" + -0.094*\"hundstorfer\"\n",
      "INFO : topic #2(2.988): 0.516*\"trump\" + 0.276*\"clinton\" + 0.176*\"republikaner\" + -0.143*\"häupl\" + -0.142*\"faymann\" + -0.141*\"spö\" + 0.139*\"sanders\" + 0.138*\"cruz\" + 0.114*\"demokrat\" + 0.110*\"donald\"\n",
      "INFO : topic #3(2.756): 0.306*\"trump\" + -0.233*\"orf\" + 0.219*\"faymann\" + 0.211*\"häupl\" + 0.170*\"spö\" + 0.154*\"clinton\" + 0.133*\"fpö\" + -0.124*\"euro\" + 0.122*\"partei\" + -0.119*\"million\"\n",
      "INFO : topic #4(2.647): -0.592*\"prozent\" + -0.126*\"euro\" + -0.109*\"marktanteil\" + -0.109*\"million\" + 0.098*\"töten\" + 0.090*\"anschlag\" + 0.082*\"regierung\" + 0.075*\"libyen\" + -0.075*\"liegen\" + 0.073*\"standard\"\n",
      "INFO : topic #5(2.488): -0.520*\"orf\" + -0.189*\"puls\" + -0.152*\"marktanteil\" + -0.144*\"atv\" + -0.130*\"häupl\" + -0.121*\"sender\" + 0.111*\"mindestsicherung\" + -0.104*\"faymann\" + -0.102*\"wrabetz\" + -0.101*\"sendung\"\n"
     ]
    },
    {
     "data": {
      "text/plain": [
       "[(0,\n",
       "  '0.177*\"prozent\" + 0.146*\"standard\" + 0.130*\"spö\" + 0.124*\"fpö\" + 0.121*\"hofer\" + 0.120*\"bellen\" + 0.118*\"van\" + 0.106*\"övp\" + 0.103*\"partei\" + 0.102*\"euro\"'),\n",
       " (1,\n",
       "  '-0.469*\"bellen\" + -0.457*\"van\" + -0.418*\"hofer\" + -0.152*\"griss\" + -0.141*\"kandidat\" + -0.135*\"norbert\" + -0.109*\"lugner\" + -0.106*\"alexander\" + -0.101*\"khol\" + -0.094*\"hundstorfer\"'),\n",
       " (2,\n",
       "  '0.516*\"trump\" + 0.276*\"clinton\" + 0.176*\"republikaner\" + -0.143*\"häupl\" + -0.142*\"faymann\" + -0.141*\"spö\" + 0.139*\"sanders\" + 0.138*\"cruz\" + 0.114*\"demokrat\" + 0.110*\"donald\"'),\n",
       " (3,\n",
       "  '0.306*\"trump\" + -0.233*\"orf\" + 0.219*\"faymann\" + 0.211*\"häupl\" + 0.170*\"spö\" + 0.154*\"clinton\" + 0.133*\"fpö\" + -0.124*\"euro\" + 0.122*\"partei\" + -0.119*\"million\"'),\n",
       " (4,\n",
       "  '-0.592*\"prozent\" + -0.126*\"euro\" + -0.109*\"marktanteil\" + -0.109*\"million\" + 0.098*\"töten\" + 0.090*\"anschlag\" + 0.082*\"regierung\" + 0.075*\"libyen\" + -0.075*\"liegen\" + 0.073*\"standard\"'),\n",
       " (5,\n",
       "  '-0.520*\"orf\" + -0.189*\"puls\" + -0.152*\"marktanteil\" + -0.144*\"atv\" + -0.130*\"häupl\" + -0.121*\"sender\" + 0.111*\"mindestsicherung\" + -0.104*\"faymann\" + -0.102*\"wrabetz\" + -0.101*\"sendung\"')]"
      ]
     },
     "execution_count": 45,
     "metadata": {},
     "output_type": "execute_result"
    }
   ],
   "source": [
    "lsi.print_topics(TOPIC_COUNT)"
   ]
  }
 ],
 "metadata": {
  "kernelspec": {
   "display_name": "Python 3",
   "language": "python",
   "name": "python3"
  },
  "language_info": {
   "codemirror_mode": {
    "name": "ipython",
    "version": 3
   },
   "file_extension": ".py",
   "mimetype": "text/x-python",
   "name": "python",
   "nbconvert_exporter": "python",
   "pygments_lexer": "ipython3",
   "version": "3.6.8"
  }
 },
 "nbformat": 4,
 "nbformat_minor": 2
}
