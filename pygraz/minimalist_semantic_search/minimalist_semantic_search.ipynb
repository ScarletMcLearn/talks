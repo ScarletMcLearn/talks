{
 "cells": [
  {
   "cell_type": "markdown",
   "metadata": {},
   "source": [
    "# Minimalist semantic search\n",
    "\n",
    "This notebooks presents a proof of concept for applying very basics principles of semantic search on a search query and converting it to a more specific query for a search platform like [Solr](http://lucene.apache.org/solr/) or [Elesticsearch](https://www.elastic.co/). \n",
    "\n",
    "This can to a limited extend provide capabilities similar to commerce search platforms like the [Fredhopper discovery engine](https://www.attraqt.com/technology/), [FACT-finder](https://www.fact-finder.com/) or services like [Twiggle](https://twiggle.com/).\n",
    "\n",
    "## Preparations\n",
    "\n",
    "Install [Python 3.5+](https://www.python.org/). The code presented uses only functions of the standard library.\n",
    "\n",
    "## About search platforms\n",
    "\n",
    "Search platforms typically organize information in a key value representation. For example a product like a dress might be stored in a structure like:"
   ]
  },
  {
   "cell_type": "code",
   "execution_count": 1,
   "metadata": {},
   "outputs": [],
   "source": [
    "%%capture\n",
    "{\n",
    "    \"code\": \"A19/7983\",\n",
    "    \"name\": \"wool and silk dress\",\n",
    "    \"color\": \"red\",\n",
    "    \"brand\": \"dior\",\n",
    "    \"price_eur\": \"999\",\n",
    "    \"description\": \"Sleeveless dress in red wool and silk\"\n",
    "}"
   ]
  },
  {
   "cell_type": "markdown",
   "metadata": {},
   "source": [
    "Search platform provide special query languages to search specific fields in such a structure. for example the [Dismax query parser of Solr](https://lucene.apache.org/solr/guide/7_7/the-dismax-query-parser.html) can search for products matching the color red and a price below 1000 EUR using the expression:\n",
    "> color:red price_eur:\\[0 TO 1000\\]"
   ]
  },
  {
   "cell_type": "markdown",
   "metadata": {},
   "source": [
    "## Semantic search\n",
    "\n",
    "A German customer might search for a red dress with a price below 1000 EUR using:\n",
    "\n",
    "> rotes Kleid unter 1000 EUR\n",
    "\n",
    "With standard search, this will just search for each of the specific terms. What was actually meant from a search platform's point if view:\n",
    "\n",
    "> Kleid color:rot price_eur:\\[0 TO 1000\\]"
   ]
  },
  {
   "cell_type": "markdown",
   "metadata": {},
   "source": [
    "Modern search platforms can already find out that `rotes` stems to `rot`, so we don't have to bother about that here. So with stemming applied our search query would turn into:"
   ]
  },
  {
   "cell_type": "raw",
   "metadata": {},
   "source": [
    "search_query = 'rot Kleid unter 1000 EUR'"
   ]
  },
  {
   "cell_type": "markdown",
   "metadata": {},
   "source": [
    "## Mapping key terms to field expressions\n",
    "\n",
    "To map key terms to fields we can use simple dictionaries:"
   ]
  },
  {
   "cell_type": "code",
   "execution_count": 2,
   "metadata": {},
   "outputs": [],
   "source": [
    "FIELD_TO_TERM_MAP = {\n",
    "    'color': ['blau', 'braun', 'gelb', 'grün', 'rot', 'schwarz', 'weiß'],\n",
    "    'brand': ['apple', 'braun', 'dior', 'samsung', 'sony'],\n",
    "    # ...\n",
    "}"
   ]
  },
  {
   "cell_type": "markdown",
   "metadata": {},
   "source": [
    "Notice that in German `'braun`' is both a brand and a color.\n",
    "\n",
    "For efficient lookup we also need the reverse mapping:"
   ]
  },
  {
   "cell_type": "code",
   "execution_count": 3,
   "metadata": {},
   "outputs": [
    {
     "data": {
      "text/plain": [
       "{'blau': ['color'],\n",
       " 'braun': ['color', 'brand'],\n",
       " 'gelb': ['color'],\n",
       " 'grün': ['color'],\n",
       " 'rot': ['color'],\n",
       " 'schwarz': ['color'],\n",
       " 'weiß': ['color'],\n",
       " 'apple': ['brand'],\n",
       " 'dior': ['brand'],\n",
       " 'samsung': ['brand'],\n",
       " 'sony': ['brand']}"
      ]
     },
     "execution_count": 3,
     "metadata": {},
     "output_type": "execute_result"
    }
   ],
   "source": [
    "TERM_TO_FIELDS_MAP = {}\n",
    "for field, terms in FIELD_TO_TERM_MAP.items():\n",
    "    for term in terms:\n",
    "        if term in TERM_TO_FIELDS_MAP:\n",
    "            TERM_TO_FIELDS_MAP[term].append(field)\n",
    "        else:\n",
    "            TERM_TO_FIELDS_MAP[term] = [field]\n",
    "TERM_TO_FIELDS_MAP"
   ]
  },
  {
   "cell_type": "markdown",
   "metadata": {},
   "source": [
    "Now we can write a function that traverses this dictionary and replaces any keywords by its respective lucene expression to search a specific field:"
   ]
  },
  {
   "cell_type": "code",
   "execution_count": 4,
   "metadata": {},
   "outputs": [
    {
     "data": {
      "text/plain": [
       "'color:rot kleid unter 1000 EUR'"
      ]
     },
     "execution_count": 4,
     "metadata": {},
     "output_type": "execute_result"
    }
   ],
   "source": [
    "def resolved_standard_terms(search_query):\n",
    "    result_parts = []\n",
    "    for term in search_query.split():\n",
    "        fields = TERM_TO_FIELDS_MAP.get(term)\n",
    "        if fields is None:\n",
    "            result_parts.append(term)\n",
    "        else:\n",
    "            for field in fields:\n",
    "                result_parts.append(f'{field}:{term}')\n",
    "    return ' '.join(result_parts)\n",
    "\n",
    "resolved_standard_terms('rot kleid unter 1000 EUR')"
   ]
  },
  {
   "cell_type": "markdown",
   "metadata": {},
   "source": [
    "When looking for a razor, we might have to search both the color and the brand. This is ok because the color rarely matters for a razor."
   ]
  },
  {
   "cell_type": "code",
   "execution_count": 5,
   "metadata": {},
   "outputs": [
    {
     "data": {
      "text/plain": [
       "'color:braun brand:braun rasierer'"
      ]
     },
     "execution_count": 5,
     "metadata": {},
     "output_type": "execute_result"
    }
   ],
   "source": [
    "resolved_standard_terms('braun rasierer')"
   ]
  },
  {
   "cell_type": "markdown",
   "metadata": {},
   "source": [
    "## Mapping phrases to field queries\n",
    "\n",
    "To consider term composed of multiple word we can use regular expressions to map them to a replacement term. First let's compose a regular expressions that seperates the search query in groups of text that should be preserved and the parts that should be converted to a field expression for the search platform:"
   ]
  },
  {
   "cell_type": "code",
   "execution_count": 6,
   "metadata": {},
   "outputs": [
    {
     "data": {
      "text/plain": [
       "('rot kleid ', 'unter ', '1000', ' EUR', ' dior')"
      ]
     },
     "execution_count": 6,
     "metadata": {},
     "output_type": "execute_result"
    }
   ],
   "source": [
    "import re\n",
    "match = re.match(\n",
    "    r'(.*\\b)(unter\\s+)(\\d+)(\\s+EUR)(\\b.*)', \n",
    "    'rot kleid unter 1000 EUR dior')\n",
    "\n",
    "match.groups()"
   ]
  },
  {
   "cell_type": "markdown",
   "metadata": {},
   "source": [
    "With this we can build a mapping to replacement terms. Notice that in the replacement terms like `\\1` or `\\3` refer to the value stored in the respective group of the regular expressions."
   ]
  },
  {
   "cell_type": "code",
   "execution_count": 7,
   "metadata": {},
   "outputs": [
    {
     "data": {
      "text/plain": [
       "'rot kleid price_eur:[0 TO 1000] dior'"
      ]
     },
     "execution_count": 7,
     "metadata": {},
     "output_type": "execute_result"
    }
   ],
   "source": [
    "re.sub(\n",
    "    r'(.*\\b)(unter\\s+)(\\d+)(\\s+EUR)(\\b.*)', \n",
    "    r'\\1price_eur:[0 TO \\3]\\5',\n",
    "    'rot kleid unter 1000 EUR dior'\n",
    ")"
   ]
  },
  {
   "cell_type": "markdown",
   "metadata": {},
   "source": [
    "We can collect multiple regular expressions and their replacement in a map and build a funtion to apply all of them:"
   ]
  },
  {
   "cell_type": "code",
   "execution_count": 8,
   "metadata": {},
   "outputs": [
    {
     "data": {
      "text/plain": [
       "'rot kleid price_eur:[0 TO 1000] dior'"
      ]
     },
     "execution_count": 8,
     "metadata": {},
     "output_type": "execute_result"
    }
   ],
   "source": [
    "REGEX_TO_REPLACEMENT_MAP = {\n",
    "    r'(.*\\b)(unter\\s+)(\\d+)(\\s+EUR)(\\b.*)': r'\\1price_eur:[0 TO \\3]\\5',\n",
    "    r'(.*\\b)(ab\\s+)(\\d+)(\\s+EUR)(\\b.*)': r'\\1price_eur:[\\3 TO 10000]\\5',\n",
    "}\n",
    "\n",
    "def resolved_expressions(search_query):\n",
    "    result = search_query\n",
    "    for regex, replacement in REGEX_TO_REPLACEMENT_MAP.items():\n",
    "        result = re.sub(regex, replacement, result)\n",
    "        # FIXME: We might need some logic to prevent already replaced\n",
    "        # parts to be replaced again. This is just a proof of concept.\n",
    "    return result\n",
    "\n",
    "resolved_expressions('rot kleid unter 1000 EUR dior')"
   ]
  },
  {
   "cell_type": "markdown",
   "metadata": {},
   "source": [
    "And now let's combine this in a single function that converts a manually entered search query to a more structured query with some of the semantic information already resolved:"
   ]
  },
  {
   "cell_type": "code",
   "execution_count": 9,
   "metadata": {},
   "outputs": [
    {
     "data": {
      "text/plain": [
       "'color:rot kleid price_eur:[0 TO 1000] brand:dior'"
      ]
     },
     "execution_count": 9,
     "metadata": {},
     "output_type": "execute_result"
    }
   ],
   "source": [
    "def semantic_query(search_query):\n",
    "    return resolved_standard_terms(resolved_expressions(search_query))\n",
    "\n",
    "semantic_query('rot kleid unter 1000 EUR dior')"
   ]
  },
  {
   "cell_type": "markdown",
   "metadata": {},
   "source": [
    "## Conclusion\n",
    "\n",
    "This notebook demonstrated how a few Python dictionaries and string operations can convert an unstructured search query in a more specific one where some of the semantic information is already resolved and turned into expressions for a search platform."
   ]
  }
 ],
 "metadata": {
  "kernelspec": {
   "display_name": "Python 3",
   "language": "python",
   "name": "python3"
  },
  "language_info": {
   "codemirror_mode": {
    "name": "ipython",
    "version": 3
   },
   "file_extension": ".py",
   "mimetype": "text/x-python",
   "name": "python",
   "nbconvert_exporter": "python",
   "pygments_lexer": "ipython3",
   "version": "3.6.8"
  }
 },
 "nbformat": 4,
 "nbformat_minor": 2
}
