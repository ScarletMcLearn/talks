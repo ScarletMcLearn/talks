{
 "cells": [
  {
   "cell_type": "markdown",
   "metadata": {
    "slideshow": {
     "slide_type": "slide"
    }
   },
   "source": [
    "# Meet the Meetups: PyGRAZ\n",
    "**Python User Group Graz**\n",
    "\n",
    "* [http://pygraz.org](http://pygraz.org)\n",
    "* Organizers: Thomas Aglassinger, Dorian Sandtner\n",
    "* Next Meetup: 03.10.2017 on [The Pythonic Way Crosses Oracle's Exadata](https://www.meetup.com/PyGRAZ/events/243150409/)"
   ]
  },
  {
   "cell_type": "markdown",
   "metadata": {
    "slideshow": {
     "slide_type": "slide"
    }
   },
   "source": [
    "# Python instead of shell scripts"
   ]
  },
  {
   "cell_type": "markdown",
   "metadata": {
    "slideshow": {
     "slide_type": "subslide"
    }
   },
   "source": [
    "## Shell scripts: advantages\n",
    "\n",
    "* Quick to write\n",
    "* Run multiple commands\n",
    "* Pipe output"
   ]
  },
  {
   "cell_type": "markdown",
   "metadata": {
    "slideshow": {
     "slide_type": "subslide"
    }
   },
   "source": [
    "## Shell scripts: disadvantages\n",
    "* Become messy quickly\n",
    "* \"Hopeful\" error handling\n",
    "* Hard to read syntax\n",
    "* Difficult parsing of command line options\n",
    "* Cumbersome low level operations (math, strings, dates etc)\n",
    "* Difficult to get working on non Unix platforms"
   ]
  },
  {
   "cell_type": "markdown",
   "metadata": {
    "slideshow": {
     "slide_type": "subslide"
    }
   },
   "source": [
    "## Python\n",
    "* Easy to read\n",
    "* \"real\" programming language\n",
    "* Reliable error handling with exceptions\n",
    "* Simple parsing of command line options\n",
    "* 1 line in shell = few lines in Python = several lines in many other languages"
   ]
  },
  {
   "cell_type": "markdown",
   "metadata": {},
   "source": [
    "## About the examples\n",
    "* Tested with Python 3.6, should work with 3.4 and 3.5\n",
    "* Only modules included with stock Python distribution are used\n",
    "* When installing Python, still consider using the [Ananconda distribution](https://www.anaconda.com/download/) because it already includes many useful external modules"
   ]
  },
  {
   "cell_type": "markdown",
   "metadata": {
    "slideshow": {
     "slide_type": "slide"
    }
   },
   "source": [
    "# Print a message"
   ]
  },
  {
   "cell_type": "markdown",
   "metadata": {
    "slideshow": {
     "slide_type": "subslide"
    }
   },
   "source": [
    "## Shell\n",
    "```\n",
    "# Print a message\n",
    "name='Alice'\n",
    "echo Hello $name\n",
    "```\n",
    "Output:\n",
    "```\n",
    "Hello Alice\n",
    "```"
   ]
  },
  {
   "cell_type": "markdown",
   "metadata": {
    "slideshow": {
     "slide_type": "subslide"
    }
   },
   "source": [
    "## Python"
   ]
  },
  {
   "cell_type": "code",
   "execution_count": 22,
   "metadata": {},
   "outputs": [
    {
     "name": "stdout",
     "output_type": "stream",
     "text": [
      "Hello Alice\n"
     ]
    }
   ],
   "source": [
    "# Print a message\n",
    "name = 'Alice'\n",
    "print('Hello ' + name)"
   ]
  },
  {
   "cell_type": "markdown",
   "metadata": {
    "slideshow": {
     "slide_type": "slide"
    }
   },
   "source": [
    "# Find lines containing the word \"er\""
   ]
  },
  {
   "cell_type": "markdown",
   "metadata": {
    "slideshow": {
     "slide_type": "subslide"
    }
   },
   "source": [
    "## Shell\n",
    "```\n",
    "grep \"\\ber\\b\" glocke.txt\n",
    "```\n",
    "Output:\n",
    "```\n",
    "der nie bedacht, was er vollbringt.\n",
    "daß er im innern Herzen spüret,\n",
    "was er erschaffen mit seiner Hand.\n",
    "```"
   ]
  },
  {
   "cell_type": "markdown",
   "metadata": {
    "slideshow": {
     "slide_type": "subslide"
    }
   },
   "source": [
    "## Python\n",
    "Read a file line by line:"
   ]
  },
  {
   "cell_type": "code",
   "execution_count": 2,
   "metadata": {
    "slideshow": {
     "slide_type": "-"
    }
   },
   "outputs": [
    {
     "name": "stdout",
     "output_type": "stream",
     "text": [
      "Das Lied von der Glocke\n",
      "\n",
      "Festgemauert in der Erden\n",
      "Steht die Form aus Lehm gebrannt.\n",
      "Heute muß die Glocke werden,\n",
      "frisch, Gesellen, seid zur Hand!\n",
      "Von der Stirne heiß\n",
      "rinnen muß der Schweiß,\n",
      "soll das Werk den Meister loben;\n",
      "doch der Segen kommt von oben.\n",
      "\n",
      "Zum Werke, das wir ernst bereiten,\n",
      "geziemt sich wohl ein ernstes Wort;\n",
      "wenn gute Reden sie begleiten,\n",
      "dann fließt die Arbeit munter fort.\n",
      "So laßt uns jetzt mit Fleiß betrachten,\n",
      "was durch schwache Kraft entspringt;\n",
      "den schlechten Mann muß man verachten,\n",
      "der nie bedacht, was er vollbringt.\n",
      "Das ists ja, was den Menschen zieret,\n",
      "und dazu ward ihm der Verstand,\n",
      "daß er im innern Herzen spüret,\n",
      "was er erschaffen mit seiner Hand.\n"
     ]
    }
   ],
   "source": [
    "# Traverse file line by line.\n",
    "with open('glocke.txt', encoding='utf-8') as poem_file:\n",
    "    for line in poem_file:\n",
    "        line = line.rstrip('\\n')  # Remove possible trailing linefeed.\n",
    "        print(line)"
   ]
  },
  {
   "cell_type": "markdown",
   "metadata": {
    "slideshow": {
     "slide_type": "subslide"
    }
   },
   "source": [
    "## Regular expressions"
   ]
  },
  {
   "cell_type": "code",
   "execution_count": 3,
   "metadata": {
    "slideshow": {
     "slide_type": "-"
    }
   },
   "outputs": [
    {
     "name": "stdout",
     "output_type": "stream",
     "text": [
      "found it!\n"
     ]
    }
   ],
   "source": [
    "import re\n",
    "\n",
    "er_regex = re.compile(r'\\ber\\b')\n",
    "if er_regex.search('der nie bedacht, was er vollbringt.'):\n",
    "    print('found it!')"
   ]
  },
  {
   "cell_type": "markdown",
   "metadata": {
    "slideshow": {
     "slide_type": "subslide"
    }
   },
   "source": [
    "## Put it together"
   ]
  },
  {
   "cell_type": "code",
   "execution_count": 4,
   "metadata": {
    "slideshow": {
     "slide_type": "-"
    }
   },
   "outputs": [
    {
     "name": "stdout",
     "output_type": "stream",
     "text": [
      "der nie bedacht, was er vollbringt.\n",
      "daß er im innern Herzen spüret,\n",
      "was er erschaffen mit seiner Hand.\n"
     ]
    }
   ],
   "source": [
    "import re\n",
    "\n",
    "er_regex = re.compile(r'\\ber\\b')\n",
    "\n",
    "with open('glocke.txt', encoding='utf-8') as poem_file:\n",
    "    for line in poem_file:\n",
    "        if er_regex.search(line):\n",
    "            print(line.rstrip('\\n'))"
   ]
  },
  {
   "cell_type": "markdown",
   "metadata": {
    "slideshow": {
     "slide_type": "subslide"
    }
   },
   "source": [
    "## Make a function"
   ]
  },
  {
   "cell_type": "code",
   "execution_count": 5,
   "metadata": {
    "collapsed": true,
    "slideshow": {
     "slide_type": "-"
    }
   },
   "outputs": [],
   "source": [
    "def grep(pattern, path):\n",
    "    regex = re.compile(r'\\ber\\b')\n",
    "\n",
    "    with open(path, encoding='utf-8') as poem_file:\n",
    "        for line in poem_file:\n",
    "            if er_regex.search(line):\n",
    "                yield line.rstrip('\\n')  # Return line by line as iterator"
   ]
  },
  {
   "cell_type": "code",
   "execution_count": 6,
   "metadata": {
    "slideshow": {
     "slide_type": "fragment"
    }
   },
   "outputs": [
    {
     "name": "stdout",
     "output_type": "stream",
     "text": [
      "der nie bedacht, was er vollbringt.\n",
      "daß er im innern Herzen spüret,\n",
      "was er erschaffen mit seiner Hand.\n"
     ]
    }
   ],
   "source": [
    "for line in grep(r'\\ber\\b', 'glocke.txt'):\n",
    "    print(line)"
   ]
  },
  {
   "cell_type": "markdown",
   "metadata": {
    "slideshow": {
     "slide_type": "subslide"
    }
   },
   "source": [
    "## Collect lines in a list"
   ]
  },
  {
   "cell_type": "markdown",
   "metadata": {
    "slideshow": {
     "slide_type": "-"
    }
   },
   "source": [
    "List comprehension picks/converts items from an iterator and optionally filters them:"
   ]
  },
  {
   "cell_type": "code",
   "execution_count": 7,
   "metadata": {
    "slideshow": {
     "slide_type": "-"
    }
   },
   "outputs": [
    {
     "name": "stdout",
     "output_type": "stream",
     "text": [
      "['der nie bedacht, was er vollbringt.', 'daß er im innern Herzen spüret,', 'was er erschaffen mit seiner Hand.']\n"
     ]
    }
   ],
   "source": [
    "with open('glocke.txt', encoding='utf-8') as poem_file:\n",
    "    lines_with_er = [\n",
    "        line.rstrip('\\n') for line in poem_file\n",
    "        if er_regex.search(line)\n",
    "    ]\n",
    "print(lines_with_er)"
   ]
  },
  {
   "cell_type": "markdown",
   "metadata": {
    "slideshow": {
     "slide_type": "fragment"
    }
   },
   "source": [
    "Thanks to our function this is even simplier:"
   ]
  },
  {
   "cell_type": "code",
   "execution_count": 8,
   "metadata": {
    "slideshow": {
     "slide_type": "-"
    }
   },
   "outputs": [
    {
     "name": "stdout",
     "output_type": "stream",
     "text": [
      "['der nie bedacht, was er vollbringt.', 'daß er im innern Herzen spüret,', 'was er erschaffen mit seiner Hand.']\n"
     ]
    }
   ],
   "source": [
    "print(list(grep(r'\\ber\\b', 'glocke.txt')))"
   ]
  },
  {
   "cell_type": "markdown",
   "metadata": {
    "slideshow": {
     "slide_type": "slide"
    }
   },
   "source": [
    "# Find files matching a pattern"
   ]
  },
  {
   "cell_type": "markdown",
   "metadata": {
    "slideshow": {
     "slide_type": "subslide"
    }
   },
   "source": [
    "## Shell\n",
    "```\n",
    "find /Users/roskakori/workspace/talks -name \"*.py\"\n",
    "```\n",
    "Output:\n",
    "```\n",
    "/Users/roskakori/workspace/talks/ebcdic_survival_kit/html_for_encoding.py\n",
    "/Users/roskakori/workspace/talks/ebcdic_survival_kit/test_ebcdic.py\n",
    "/Users/roskakori/workspace/talks/europython_2014/errorhandling/application.py\n",
    "/Users/roskakori/workspace/talks/europython_2014/errorhandling/chaining.py\n",
    "/Users/roskakori/workspace/talks/europython_2014/errorhandling/contextmanager.py\n",
    "...\n",
    "```"
   ]
  },
  {
   "cell_type": "markdown",
   "metadata": {
    "slideshow": {
     "slide_type": "subslide"
    }
   },
   "source": [
    "## Python"
   ]
  },
  {
   "cell_type": "code",
   "execution_count": 9,
   "metadata": {},
   "outputs": [
    {
     "name": "stdout",
     "output_type": "stream",
     "text": [
      "/Users/roskakori/workspace/talks/ebcdic_survival_kit/html_for_encoding.py\n",
      "/Users/roskakori/workspace/talks/ebcdic_survival_kit/test_ebcdic.py\n",
      "/Users/roskakori/workspace/talks/europython_2014/errorhandling/application.py\n",
      "/Users/roskakori/workspace/talks/europython_2014/errorhandling/chaining.py\n",
      "/Users/roskakori/workspace/talks/europython_2014/errorhandling/contextmanager.py\n",
      "/Users/roskakori/workspace/talks/europython_2014/errorhandling/dataerror.py\n",
      "/Users/roskakori/workspace/talks/europython_2014/errorhandling/fragments.py\n",
      "/Users/roskakori/workspace/talks/europython_2014/errorhandling/performance.py\n",
      "/Users/roskakori/workspace/talks/pygraz/errorhandling/application.py\n",
      "/Users/roskakori/workspace/talks/pygraz/errorhandling/chaining.py\n",
      "/Users/roskakori/workspace/talks/pygraz/errorhandling/contextmanager.py\n",
      "/Users/roskakori/workspace/talks/pygraz/errorhandling/dataerror.py\n",
      "/Users/roskakori/workspace/talks/pygraz/errorhandling/fragments.py\n",
      "/Users/roskakori/workspace/talks/pygraz/errorhandling/performance.py\n",
      "/Users/roskakori/workspace/talks/pygraz/errorhandling/somelog.py\n",
      "/Users/roskakori/workspace/talks/pygraz/opensourceprojects/dividemo_1_base.py\n",
      "/Users/roskakori/workspace/talks/pygraz/opensourceprojects/dividemo_2_fail_on_zero.py\n",
      "/Users/roskakori/workspace/talks/pygraz/opensourceprojects/dividemo_3_console_script.py\n",
      "/Users/roskakori/workspace/talks/pygraz/opensourceprojects/test_dividemo.py\n",
      "/Users/roskakori/workspace/talks/pygraz/pygments/nanosqllexer.py\n",
      "/Users/roskakori/workspace/talks/pygraz/pygments/nanosqllexer_finished.py\n",
      "/Users/roskakori/workspace/talks/pygraz/pygments/pygmentstoy.py\n",
      "/Users/roskakori/workspace/talks/pygraz/python_instead_of_shell_scripts/snipplets.py\n",
      "/Users/roskakori/workspace/talks/pygraz/readwrite/test_binary.py\n",
      "/Users/roskakori/workspace/talks/pygraz/readwrite/test_csv.py\n",
      "/Users/roskakori/workspace/talks/pygraz/readwrite/test_json.py\n",
      "/Users/roskakori/workspace/talks/pygraz/readwrite/test_text.py\n",
      "/Users/roskakori/workspace/talks/pygraz/readwrite/test_xml.py\n",
      "/Users/roskakori/workspace/talks/pygraz/traderbot/query_balance.py\n",
      "/Users/roskakori/workspace/talks/pygraz/traderbot/query_trades.py\n",
      "/Users/roskakori/workspace/talks/pygraz/unicode/examples.py\n",
      "/Users/roskakori/workspace/talks/python_for_testers/examples/copytool.py\n",
      "/Users/roskakori/workspace/talks/python_for_testers/examples/csvdict.py\n",
      "/Users/roskakori/workspace/talks/python_for_testers/examples/csvlist.py\n",
      "/Users/roskakori/workspace/talks/python_for_testers/examples/logconsole.py\n",
      "/Users/roskakori/workspace/talks/python_for_testers/examples/myapp.py\n",
      "/Users/roskakori/workspace/talks/python_for_testers/examples/shell_threads.py\n",
      "/Users/roskakori/workspace/talks/python_for_testers/examples/test_divided_using_pytest.py\n",
      "/Users/roskakori/workspace/talks/python_for_testers/examples/test_divided_using_unittest.py\n"
     ]
    }
   ],
   "source": [
    "import glob\n",
    "\n",
    "file_pattern = '/Users/roskakori/workspace/talks/**/*.py'\n",
    "for path in glob.iglob(file_pattern, recursive=True):\n",
    "    print(path)"
   ]
  },
  {
   "cell_type": "markdown",
   "metadata": {
    "slideshow": {
     "slide_type": "subslide"
    }
   },
   "source": [
    "## Platform independent path operations\n",
    "* Unix and Windows use different path seperators: slash(`/`) and backslash(`\\`)\n",
    "* Building paths using string operations and either slash or backslash only works on one platform\n",
    "* `os.path` to the rescue"
   ]
  },
  {
   "cell_type": "code",
   "execution_count": 10,
   "metadata": {
    "slideshow": {
     "slide_type": "-"
    }
   },
   "outputs": [
    {
     "name": "stdout",
     "output_type": "stream",
     "text": [
      "/\n"
     ]
    }
   ],
   "source": [
    "import os\n",
    "\n",
    "print(os.sep)  # The seperator between paths, e.g. '/' or '\\'"
   ]
  },
  {
   "cell_type": "markdown",
   "metadata": {
    "slideshow": {
     "slide_type": "subslide"
    }
   },
   "source": [
    "## Build paths with os.path"
   ]
  },
  {
   "cell_type": "markdown",
   "metadata": {},
   "source": [
    "Combine path parts:"
   ]
  },
  {
   "cell_type": "code",
   "execution_count": 11,
   "metadata": {},
   "outputs": [
    {
     "name": "stdout",
     "output_type": "stream",
     "text": [
      "/Users/roskakori/workspace/talks/pygraz/python_instead_of_shell_scripts/glocke.txt\n"
     ]
    }
   ],
   "source": [
    "glocke_path = os.path.join(os.getcwd(), 'glocke.txt')\n",
    "print(glocke_path)"
   ]
  },
  {
   "cell_type": "markdown",
   "metadata": {
    "slideshow": {
     "slide_type": "subslide"
    }
   },
   "source": [
    "## Extract parts of a path\n",
    "Extract folder and name:"
   ]
  },
  {
   "cell_type": "code",
   "execution_count": 12,
   "metadata": {},
   "outputs": [
    {
     "name": "stdout",
     "output_type": "stream",
     "text": [
      "/Users/roskakori/workspace/talks/pygraz/python_instead_of_shell_scripts\n",
      "glocke.txt\n"
     ]
    }
   ],
   "source": [
    "folder, name = os.path.split(glocke_path)\n",
    "print(folder)\n",
    "print(name)"
   ]
  },
  {
   "cell_type": "markdown",
   "metadata": {
    "slideshow": {
     "slide_type": "fragment"
    }
   },
   "source": [
    "Extract name and suffix:"
   ]
  },
  {
   "cell_type": "code",
   "execution_count": 13,
   "metadata": {},
   "outputs": [
    {
     "name": "stdout",
     "output_type": "stream",
     "text": [
      "glocke\n",
      ".txt\n"
     ]
    }
   ],
   "source": [
    "base_name, suffix = os.path.splitext(name)\n",
    "print(base_name)\n",
    "print(suffix)"
   ]
  },
  {
   "cell_type": "markdown",
   "metadata": {
    "slideshow": {
     "slide_type": "slide"
    }
   },
   "source": [
    "# Call external program"
   ]
  },
  {
   "cell_type": "markdown",
   "metadata": {
    "slideshow": {
     "slide_type": "subslide"
    }
   },
   "source": [
    "## Shell\n",
    "Count the number of lines in a file:\n",
    "```\n",
    "wc -l glocke.txt\n",
    "```\n",
    "Output:\n",
    "```\n",
    "23\n",
    "```"
   ]
  },
  {
   "cell_type": "markdown",
   "metadata": {
    "slideshow": {
     "slide_type": "subslide"
    }
   },
   "source": [
    "## Python"
   ]
  },
  {
   "cell_type": "code",
   "execution_count": 14,
   "metadata": {},
   "outputs": [
    {
     "name": "stdout",
     "output_type": "stream",
     "text": [
      "      23 /Users/roskakori/workspace/talks/pygraz/python_instead_of_shell_scripts/glocke.txt\n",
      "\n"
     ]
    }
   ],
   "source": [
    "import subprocess\n",
    "\n",
    "wc_result = subprocess.check_output(\n",
    "    ['wc', '-l', glocke_path],\n",
    "    encoding='utf-8')\n",
    "print(wc_result)"
   ]
  },
  {
   "cell_type": "code",
   "execution_count": 15,
   "metadata": {
    "slideshow": {
     "slide_type": "fragment"
    }
   },
   "outputs": [
    {
     "data": {
      "text/plain": [
       "['23',\n",
       " '/Users/roskakori/workspace/talks/pygraz/python_instead_of_shell_scripts/glocke.txt']"
      ]
     },
     "execution_count": 15,
     "metadata": {},
     "output_type": "execute_result"
    }
   ],
   "source": [
    "wc_result_words = wc_result.split()\n",
    "wc_result_words"
   ]
  },
  {
   "cell_type": "code",
   "execution_count": 16,
   "metadata": {
    "slideshow": {
     "slide_type": "fragment"
    }
   },
   "outputs": [
    {
     "data": {
      "text/plain": [
       "'23'"
      ]
     },
     "execution_count": 16,
     "metadata": {},
     "output_type": "execute_result"
    }
   ],
   "source": [
    "first_wc_result_word = wc_result_words[0]\n",
    "first_wc_result_word"
   ]
  },
  {
   "cell_type": "code",
   "execution_count": 17,
   "metadata": {
    "slideshow": {
     "slide_type": "fragment"
    }
   },
   "outputs": [
    {
     "data": {
      "text/plain": [
       "23"
      ]
     },
     "execution_count": 17,
     "metadata": {},
     "output_type": "execute_result"
    }
   ],
   "source": [
    "glocke_line_count = int(first_wc_result_word)\n",
    "glocke_line_count"
   ]
  },
  {
   "cell_type": "markdown",
   "metadata": {
    "slideshow": {
     "slide_type": "subslide"
    }
   },
   "source": [
    "## ...and now with error handling"
   ]
  },
  {
   "cell_type": "markdown",
   "metadata": {
    "slideshow": {
     "slide_type": "subslide"
    }
   },
   "source": [
    "## Shell\n",
    "Need to explicitely check the exit code:\n",
    "```\n",
    "wc -l no_such_file.txt\n",
    "if [[ $? -ne 0 ]]; then\n",
    "    echo cannot count lines in no_such_file.txt\n",
    "fi\n",
    "```"
   ]
  },
  {
   "cell_type": "markdown",
   "metadata": {
    "slideshow": {
     "slide_type": "subslide"
    }
   },
   "source": [
    "## Python\n",
    "* Always implicitely raises an `Exception`, can not be forgotten\n",
    "* Without error handler: program exits with stack trace\n",
    "* Handle errors using `try ... except ...`"
   ]
  },
  {
   "cell_type": "code",
   "execution_count": 18,
   "metadata": {
    "slideshow": {
     "slide_type": "fragment"
    }
   },
   "outputs": [
    {
     "name": "stdout",
     "output_type": "stream",
     "text": [
      "cannot count lines: Command '['wc', '-l', 'no_such_file.txt']' returned non-zero exit status 1.\n"
     ]
    }
   ],
   "source": [
    "try:\n",
    "    wc_result = subprocess.check_output(\n",
    "        ['wc', '-l', 'no_such_file.txt'],\n",
    "        encoding='utf-8')\n",
    "except subprocess.CalledProcessError as error:\n",
    "    print('cannot count lines:', error)"
   ]
  },
  {
   "cell_type": "markdown",
   "metadata": {
    "slideshow": {
     "slide_type": "slide"
    }
   },
   "source": [
    "# Parsing command line options"
   ]
  },
  {
   "cell_type": "markdown",
   "metadata": {
    "slideshow": {
     "slide_type": "subslide"
    }
   },
   "source": [
    "## Shell scripts\n",
    "* A mess of `if`, `echo` and `exit`.\n",
    "* Commonly more code than the actually productive parts.\n",
    "* Example omitted."
   ]
  },
  {
   "cell_type": "markdown",
   "metadata": {
    "slideshow": {
     "slide_type": "subslide"
    }
   },
   "source": [
    "## Python\n",
    "* Use the `argparse` module\n",
    "* Declarative syntax\n",
    "* Assigns options values directly to Python variables\n",
    "* Automatically adds `--help`\n",
    "* Handles errors"
   ]
  },
  {
   "cell_type": "markdown",
   "metadata": {
    "slideshow": {
     "slide_type": "subslide"
    }
   },
   "source": [
    "## Example parser"
   ]
  },
  {
   "cell_type": "code",
   "execution_count": 19,
   "metadata": {
    "slideshow": {
     "slide_type": "-"
    }
   },
   "outputs": [],
   "source": [
    "%%capture\n",
    "import argparse\n",
    "\n",
    "parser = argparse.ArgumentParser(description='copy files')\n",
    "parser.add_argument(\n",
    "    '--verbose', '-V', action='store_true', help='log each copied file')\n",
    "parser.add_argument(\n",
    "    '--log', metavar='LEVEL', choices=['debug', 'info', 'error'], dest='log_level',\n",
    "    default='info', help='set log level to LEVEL (default: %(default)s)')\n",
    "parser.add_argument(\n",
    "    '--buffer', '-b', metavar='SIZE', dest='buffer_size', type=int, default=16,\n",
    "    help='buffer size in kilo byte (default: %(default)s)')\n",
    "parser.add_argument('--version', action='version', version='1.0')\n",
    "parser.add_argument('sources', metavar='SOURCE', nargs='+', help='files to copy')\n",
    "parser.add_argument('target', metavar='TARGET', help='target file or folder')"
   ]
  },
  {
   "cell_type": "markdown",
   "metadata": {
    "slideshow": {
     "slide_type": "subslide"
    }
   },
   "source": [
    "## Generated --help\n",
    "```\n",
    "usage: snipplets.py [-h] [--verbose] [--log LEVEL] [--buffer SIZE]                   \n",
    "                    [--version]\n",
    "                    SOURCE [SOURCE ...] TARGET\n",
    "\n",
    "copy files\n",
    "\n",
    "positional arguments:\n",
    "  SOURCE                files to copy\n",
    "  TARGET                target file or folder\n",
    "\n",
    "optional arguments:\n",
    "  -h, --help            show this help message and exit\n",
    "  --verbose, -V         log each copied file\n",
    "  --log LEVEL           set log level to LEVEL (default: info)\n",
    "  --buffer SIZE, -b SIZE\n",
    "                        buffer size in kilo byte (default: 16)\n",
    "  --version             show program's version number and exit\n",
    "```"
   ]
  },
  {
   "cell_type": "markdown",
   "metadata": {
    "slideshow": {
     "slide_type": "subslide"
    }
   },
   "source": [
    "## Parsing arguments"
   ]
  },
  {
   "cell_type": "code",
   "execution_count": 20,
   "metadata": {},
   "outputs": [
    {
     "name": "stdout",
     "output_type": "stream",
     "text": [
      "['glocke.txt']\n",
      "bell.txt\n",
      "64\n"
     ]
    }
   ],
   "source": [
    "args = parser.parse_args(['--buffer=64', 'glocke.txt', 'bell.txt'])\n",
    "print(args.sources)\n",
    "print(args.target)\n",
    "print(args.buffer_size)"
   ]
  },
  {
   "cell_type": "markdown",
   "metadata": {},
   "source": [
    "To parse the command line arguments:"
   ]
  },
  {
   "cell_type": "code",
   "execution_count": 21,
   "metadata": {
    "collapsed": true
   },
   "outputs": [],
   "source": [
    "# args = parser.parse_args()"
   ]
  },
  {
   "cell_type": "markdown",
   "metadata": {},
   "source": [
    "# Other useful functions and modules\n",
    "* `os.makedir` - create folder\n",
    "* `os.remove` - remove file\n",
    "* `os.environ['HOME']` - access environment variable `$HOME`\n",
    "* `shutil` - \"shell utilities\" to (recursively) copy/move/remove files and folders"
   ]
  },
  {
   "cell_type": "markdown",
   "metadata": {
    "slideshow": {
     "slide_type": "slide"
    }
   },
   "source": [
    "# Summary\n",
    "* Python has several advantages over complex shell scripts\n",
    "* platform independent\n",
    "* \"real\" programming language\n",
    "* robust error handling\n",
    "* simple command line option parsing"
   ]
  }
 ],
 "metadata": {
  "celltoolbar": "Slideshow",
  "kernelspec": {
   "display_name": "Python 3",
   "language": "python",
   "name": "python3"
  },
  "language_info": {
   "codemirror_mode": {
    "name": "ipython",
    "version": 3
   },
   "file_extension": ".py",
   "mimetype": "text/x-python",
   "name": "python",
   "nbconvert_exporter": "python",
   "pygments_lexer": "ipython3",
   "version": "3.6.1"
  }
 },
 "nbformat": 4,
 "nbformat_minor": 2
}
